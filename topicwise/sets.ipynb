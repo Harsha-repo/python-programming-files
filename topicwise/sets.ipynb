{
 "cells": [
  {
   "cell_type": "code",
   "execution_count": 1,
   "id": "5e9f163c-597c-4a00-95ae-27b98c31602a",
   "metadata": {},
   "outputs": [],
   "source": [
    "s={}\n"
   ]
  },
  {
   "cell_type": "code",
   "execution_count": 2,
   "id": "45ebf4b0-bcb2-4876-9a76-c1ad2203ef8f",
   "metadata": {},
   "outputs": [
    {
     "data": {
      "text/plain": [
       "dict"
      ]
     },
     "execution_count": 2,
     "metadata": {},
     "output_type": "execute_result"
    }
   ],
   "source": [
    "type(s)"
   ]
  },
  {
   "cell_type": "code",
   "execution_count": 3,
   "id": "f051b6c3-0fab-4f10-ab88-ecd670143425",
   "metadata": {},
   "outputs": [],
   "source": [
    "s1={2,2,3,4,5,6,4,2,'hasrha','chandu'}"
   ]
  },
  {
   "cell_type": "code",
   "execution_count": 4,
   "id": "10c8910b-2e4d-4aee-bb03-64659846e05c",
   "metadata": {},
   "outputs": [
    {
     "data": {
      "text/plain": [
       "{2, 3, 4, 5, 6, 'chandu', 'hasrha'}"
      ]
     },
     "execution_count": 4,
     "metadata": {},
     "output_type": "execute_result"
    }
   ],
   "source": [
    "s1"
   ]
  },
  {
   "cell_type": "markdown",
   "id": "bf2ea990-ef04-416d-bed6-f744e0e09686",
   "metadata": {},
   "source": [
    "from out put we see that characters that are repeated are not printed the set stores only the ones a character \n",
    "* it saves only unique charcters \n",
    "* duplicate data got removed "
   ]
  },
  {
   "cell_type": "code",
   "execution_count": 5,
   "id": "00c7b487-6a7b-4559-8cd0-18cf3e2f9c8b",
   "metadata": {},
   "outputs": [],
   "source": [
    "s2={'harsha','Harsha'}"
   ]
  },
  {
   "cell_type": "markdown",
   "id": "399bf1d7-b36a-4ac1-a3ab-e3dbd565d530",
   "metadata": {},
   "source": [
    "# s2"
   ]
  },
  {
   "cell_type": "markdown",
   "id": "0133c5f4-50e3-4bc5-a447-a7f086b84b1c",
   "metadata": {},
   "source": [
    "it is case sensitive language hence there is case wise arrangement of the strings"
   ]
  },
  {
   "cell_type": "code",
   "execution_count": 6,
   "id": "e5f7d28d-6ce7-4cc2-87f4-0b6142298655",
   "metadata": {},
   "outputs": [
    {
     "data": {
      "text/plain": [
       "{2, 3, 4, 5, 6, 'chandu', 'hasrha'}"
      ]
     },
     "execution_count": 6,
     "metadata": {},
     "output_type": "execute_result"
    }
   ],
   "source": [
    "s1"
   ]
  },
  {
   "cell_type": "code",
   "execution_count": 7,
   "id": "1c1d5f7c-b924-4996-8fe1-c19be1fb0e2d",
   "metadata": {},
   "outputs": [
    {
     "data": {
      "text/plain": [
       "['chandu', 'hasrha', 2, 3, 4, 5, 6]"
      ]
     },
     "execution_count": 7,
     "metadata": {},
     "output_type": "execute_result"
    }
   ],
   "source": [
    "list(s1)"
   ]
  },
  {
   "cell_type": "code",
   "execution_count": 5,
   "id": "a1ba2ebc-cfde-4eb9-9842-09491a6ada4c",
   "metadata": {},
   "outputs": [
    {
     "data": {
      "text/plain": [
       "(2, 3, 4, 5, 6, 'hasrha', 'chandu')"
      ]
     },
     "execution_count": 5,
     "metadata": {},
     "output_type": "execute_result"
    }
   ],
   "source": [
    "tuple(s1)"
   ]
  },
  {
   "cell_type": "markdown",
   "id": "0a224796-9d59-4899-865a-a7738011d263",
   "metadata": {},
   "source": [
    "list to tuple and tuple to list set to list set to tuple vice versa interchanging is possible "
   ]
  },
  {
   "cell_type": "code",
   "execution_count": null,
   "id": "1efb8455-a095-443a-af7b-de4101112ac6",
   "metadata": {},
   "outputs": [],
   "source": []
  }
 ],
 "metadata": {
  "kernelspec": {
   "display_name": "Python 3 (ipykernel)",
   "language": "python",
   "name": "python3"
  },
  "language_info": {
   "codemirror_mode": {
    "name": "ipython",
    "version": 3
   },
   "file_extension": ".py",
   "mimetype": "text/x-python",
   "name": "python",
   "nbconvert_exporter": "python",
   "pygments_lexer": "ipython3",
   "version": "3.10.8"
  }
 },
 "nbformat": 4,
 "nbformat_minor": 5
}

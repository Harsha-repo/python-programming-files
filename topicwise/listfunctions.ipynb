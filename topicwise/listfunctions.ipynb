{
 "cells": [
  {
   "cell_type": "code",
   "execution_count": 1,
   "id": "9f1c7594-efcb-4ea8-a15c-3ae20367611f",
   "metadata": {},
   "outputs": [],
   "source": [
    "l=[2,3,4,5,'san',True]\n"
   ]
  },
  {
   "cell_type": "code",
   "execution_count": 2,
   "id": "3bfce94a-a25f-4620-b5b8-5269de1c9098",
   "metadata": {},
   "outputs": [
    {
     "data": {
      "text/plain": [
       "[2, 3, 4, 5, 'san', True, 2, 3, 4, 5, 'san', True]"
      ]
     },
     "execution_count": 2,
     "metadata": {},
     "output_type": "execute_result"
    }
   ],
   "source": [
    "l*2"
   ]
  },
  {
   "cell_type": "markdown",
   "id": "84d560dd-ef76-4944-b9db-ed0719d0b81e",
   "metadata": {},
   "source": [
    "list multiplication it can repeat when multiplied by an number "
   ]
  },
  {
   "cell_type": "code",
   "execution_count": 3,
   "id": "c6a2e4e1-0e46-4aef-ad06-56b482a4c2c0",
   "metadata": {},
   "outputs": [],
   "source": [
    "s='harsha  '"
   ]
  },
  {
   "cell_type": "code",
   "execution_count": 4,
   "id": "7e116b1b-2f06-441b-90df-a5b5b903a20d",
   "metadata": {},
   "outputs": [
    {
     "data": {
      "text/plain": [
       "'harsha  harsha  harsha  '"
      ]
     },
     "execution_count": 4,
     "metadata": {},
     "output_type": "execute_result"
    }
   ],
   "source": [
    "s*3"
   ]
  },
  {
   "cell_type": "code",
   "execution_count": 5,
   "id": "9d079a9d-d724-4e86-8364-4d6f6a82a3de",
   "metadata": {},
   "outputs": [
    {
     "data": {
      "text/plain": [
       "[2, 3, 4, 5, 'san', True]"
      ]
     },
     "execution_count": 5,
     "metadata": {},
     "output_type": "execute_result"
    }
   ],
   "source": [
    "l"
   ]
  },
  {
   "cell_type": "code",
   "execution_count": 6,
   "id": "09e31677-2e4e-47e4-ac78-bdda0833ffae",
   "metadata": {},
   "outputs": [],
   "source": [
    "l1=[2,3,'srinivas','harsha']"
   ]
  },
  {
   "cell_type": "code",
   "execution_count": 7,
   "id": "db723e57-a167-431d-aae6-ae75cbb23918",
   "metadata": {},
   "outputs": [
    {
     "data": {
      "text/plain": [
       "[2, 3, 4, 5, 'san', True, 2, 3, 'srinivas', 'harsha']"
      ]
     },
     "execution_count": 7,
     "metadata": {},
     "output_type": "execute_result"
    }
   ],
   "source": [
    "l+l1"
   ]
  },
  {
   "cell_type": "markdown",
   "id": "3500b024-95f6-482c-9682-a17b87cd74f8",
   "metadata": {},
   "source": [
    "append of the data of two lists\n",
    "+   +indicates append"
   ]
  },
  {
   "cell_type": "code",
   "execution_count": 8,
   "id": "3197198a-383b-4b09-a41e-b998e0081710",
   "metadata": {},
   "outputs": [
    {
     "data": {
      "text/plain": [
       "[2, 3, 4, 5, 'san', True]"
      ]
     },
     "execution_count": 8,
     "metadata": {},
     "output_type": "execute_result"
    }
   ],
   "source": [
    "l"
   ]
  },
  {
   "cell_type": "code",
   "execution_count": 9,
   "id": "2de54df1-ec51-4db4-93fd-7e087a4221f6",
   "metadata": {},
   "outputs": [
    {
     "ename": "TypeError",
     "evalue": "can only concatenate list (not \"int\") to list",
     "output_type": "error",
     "traceback": [
      "\u001b[1;31m---------------------------------------------------------------------------\u001b[0m",
      "\u001b[1;31mTypeError\u001b[0m                                 Traceback (most recent call last)",
      "Cell \u001b[1;32mIn[9], line 1\u001b[0m\n\u001b[1;32m----> 1\u001b[0m \u001b[43ml\u001b[49m\u001b[38;5;241;43m+\u001b[39;49m\u001b[38;5;241;43m1\u001b[39;49m\n",
      "\u001b[1;31mTypeError\u001b[0m: can only concatenate list (not \"int\") to list"
     ]
    }
   ],
   "source": [
    "l+1\n"
   ]
  },
  {
   "cell_type": "markdown",
   "id": "92be147e-d8f6-4e7c-8e95-f931a05ff15f",
   "metadata": {},
   "source": [
    "we can concatenate only lists with lists not the int types with lists\n",
    "mean same datatypes can be added or concatenated"
   ]
  },
  {
   "cell_type": "code",
   "execution_count": 10,
   "id": "cbea1376-211d-4576-853e-f6186bd1ccaf",
   "metadata": {},
   "outputs": [
    {
     "data": {
      "text/plain": [
       "'harsha  '"
      ]
     },
     "execution_count": 10,
     "metadata": {},
     "output_type": "execute_result"
    }
   ],
   "source": [
    "s"
   ]
  },
  {
   "cell_type": "code",
   "execution_count": 11,
   "id": "40b97955-dd29-455c-8484-1db997358e7d",
   "metadata": {},
   "outputs": [
    {
     "data": {
      "text/plain": [
       "8"
      ]
     },
     "execution_count": 11,
     "metadata": {},
     "output_type": "execute_result"
    }
   ],
   "source": [
    "len(s) # length function defines number charcaters in the string"
   ]
  },
  {
   "cell_type": "code",
   "execution_count": 12,
   "id": "0ce1a9dc-adb4-4b1d-abeb-afd1baadcf53",
   "metadata": {},
   "outputs": [
    {
     "data": {
      "text/plain": [
       "[2, 3, 4, 5, 'san', True]"
      ]
     },
     "execution_count": 12,
     "metadata": {},
     "output_type": "execute_result"
    }
   ],
   "source": [
    "l"
   ]
  },
  {
   "cell_type": "code",
   "execution_count": 11,
   "id": "03e4cb9e-82b0-4cb8-a6f4-99de24d981a9",
   "metadata": {},
   "outputs": [
    {
     "data": {
      "text/plain": [
       "True"
      ]
     },
     "execution_count": 11,
     "metadata": {},
     "output_type": "execute_result"
    }
   ],
   "source": [
    "'san' in l"
   ]
  },
  {
   "cell_type": "markdown",
   "id": "3a26d4ba-49f3-4863-8de0-b38f3489e01b",
   "metadata": {},
   "source": [
    "'in' is a key word that search the lists to find  the desired character is available in the lsits or not "
   ]
  },
  {
   "cell_type": "code",
   "execution_count": 12,
   "id": "025691b7-1ae7-40f7-ad1f-cd7a4213c142",
   "metadata": {},
   "outputs": [],
   "source": [
    "l2=[2,4,5,6,7]"
   ]
  },
  {
   "cell_type": "code",
   "execution_count": 13,
   "id": "65d4cd0a-7df8-40b4-b6b6-366b4202adca",
   "metadata": {},
   "outputs": [
    {
     "data": {
      "text/plain": [
       "[2, 4, 5, 6, 7]"
      ]
     },
     "execution_count": 13,
     "metadata": {},
     "output_type": "execute_result"
    }
   ],
   "source": [
    "l2"
   ]
  },
  {
   "cell_type": "code",
   "execution_count": 15,
   "id": "375c3312-1369-47df-876b-6a07864f703d",
   "metadata": {},
   "outputs": [
    {
     "data": {
      "text/plain": [
       "7"
      ]
     },
     "execution_count": 15,
     "metadata": {},
     "output_type": "execute_result"
    }
   ],
   "source": [
    "max(l2)"
   ]
  },
  {
   "cell_type": "markdown",
   "id": "f1430558-18a3-4a61-a516-c4901a8fabba",
   "metadata": {},
   "source": [
    " max   keyword   With a single iterable argument, return its biggest item."
   ]
  },
  {
   "cell_type": "code",
   "execution_count": 16,
   "id": "dc6dbc2a-5e8e-452d-aca9-fb7d4831db1d",
   "metadata": {},
   "outputs": [
    {
     "data": {
      "text/plain": [
       "[2, 3, 4, 5, 'san', True]"
      ]
     },
     "execution_count": 16,
     "metadata": {},
     "output_type": "execute_result"
    }
   ],
   "source": [
    "l"
   ]
  },
  {
   "cell_type": "code",
   "execution_count": 17,
   "id": "af983f87-31aa-4177-b6b2-a0e65e946118",
   "metadata": {},
   "outputs": [
    {
     "ename": "TypeError",
     "evalue": "'>' not supported between instances of 'str' and 'int'",
     "output_type": "error",
     "traceback": [
      "\u001b[0;31m---------------------------------------------------------------------------\u001b[0m",
      "\u001b[0;31mTypeError\u001b[0m                                 Traceback (most recent call last)",
      "Cell \u001b[0;32mIn[17], line 1\u001b[0m\n\u001b[0;32m----> 1\u001b[0m \u001b[38;5;28;43mmax\u001b[39;49m\u001b[43m(\u001b[49m\u001b[43ml\u001b[49m\u001b[43m)\u001b[49m\n",
      "\u001b[0;31mTypeError\u001b[0m: '>' not supported between instances of 'str' and 'int'"
     ]
    }
   ],
   "source": [
    "max(l)"
   ]
  },
  {
   "cell_type": "markdown",
   "id": "03b679fe-08a5-4ea7-81c2-b9b9bd75f943",
   "metadata": {},
   "source": [
    "because of the presence of the  string it was unable to comapare the values hence the error pops out "
   ]
  },
  {
   "cell_type": "code",
   "execution_count": 18,
   "id": "556c3390-5197-4482-a57c-a251ab95d966",
   "metadata": {},
   "outputs": [],
   "source": [
    "l3=['h','t','a','r']"
   ]
  },
  {
   "cell_type": "code",
   "execution_count": 60,
   "id": "f2e04a96-1df2-4e2a-a985-a04bf3bc5196",
   "metadata": {},
   "outputs": [
    {
     "data": {
      "text/plain": [
       "'t'"
      ]
     },
     "execution_count": 60,
     "metadata": {},
     "output_type": "execute_result"
    }
   ],
   "source": [
    "max(l3)"
   ]
  },
  {
   "cell_type": "markdown",
   "id": "396f2206-83b9-444e-90d4-c7f4efd630ad",
   "metadata": {},
   "source": [
    "string to string comparison is possible ,, but not string to int comparison "
   ]
  },
  {
   "cell_type": "code",
   "execution_count": 61,
   "id": "ebec0645-4da5-4704-bc0c-b93506a64466",
   "metadata": {},
   "outputs": [
    {
     "data": {
      "text/plain": [
       "['h', 't', 'a', 'r']"
      ]
     },
     "execution_count": 61,
     "metadata": {},
     "output_type": "execute_result"
    }
   ],
   "source": [
    "l3"
   ]
  },
  {
   "cell_type": "code",
   "execution_count": 19,
   "id": "f3ad3e39-8747-4afe-b906-7fd675b1d8e1",
   "metadata": {},
   "outputs": [
    {
     "data": {
      "text/plain": [
       "'a'"
      ]
     },
     "execution_count": 19,
     "metadata": {},
     "output_type": "execute_result"
    }
   ],
   "source": [
    "min(l3)"
   ]
  },
  {
   "cell_type": "code",
   "execution_count": 65,
   "id": "29230595-8687-4fda-8cae-f3405c324713",
   "metadata": {},
   "outputs": [],
   "source": [
    "l4=[True,False]"
   ]
  },
  {
   "cell_type": "code",
   "execution_count": 66,
   "id": "391042c7-7089-43eb-a28f-81d493eb06a9",
   "metadata": {},
   "outputs": [
    {
     "data": {
      "text/plain": [
       "True"
      ]
     },
     "execution_count": 66,
     "metadata": {},
     "output_type": "execute_result"
    }
   ],
   "source": [
    "max(l4)"
   ]
  },
  {
   "cell_type": "code",
   "execution_count": 67,
   "id": "3841db60-6987-4c58-86e0-2b3bcd5eda13",
   "metadata": {},
   "outputs": [
    {
     "data": {
      "text/plain": [
       "[2, 4, 5, 6, 7]"
      ]
     },
     "execution_count": 67,
     "metadata": {},
     "output_type": "execute_result"
    }
   ],
   "source": [
    "l2"
   ]
  },
  {
   "cell_type": "code",
   "execution_count": 20,
   "id": "75f615e5-9772-4dab-bc7b-eae2ebc1813c",
   "metadata": {},
   "outputs": [],
   "source": [
    "l2.append(45)"
   ]
  },
  {
   "cell_type": "code",
   "execution_count": 21,
   "id": "6ad424cc-bbe8-4542-a976-1133e4f1c850",
   "metadata": {},
   "outputs": [
    {
     "data": {
      "text/plain": [
       "[2, 4, 5, 6, 7, 45]"
      ]
     },
     "execution_count": 21,
     "metadata": {},
     "output_type": "execute_result"
    }
   ],
   "source": [
    "l2"
   ]
  },
  {
   "cell_type": "markdown",
   "id": "d5c67af1-7d83-4516-9042-1f66cb3f5fd0",
   "metadata": {},
   "source": [
    "* appending the value will change the list permanently \n",
    "* the appended character gets added at the end of the list \n",
    "* as in the example\n"
   ]
  },
  {
   "cell_type": "code",
   "execution_count": 22,
   "id": "256de4ca-4c5d-46c3-9955-18f9be3592ab",
   "metadata": {},
   "outputs": [],
   "source": [
    "l2.insert(1,0)"
   ]
  },
  {
   "cell_type": "code",
   "execution_count": 23,
   "id": "e5f5f76b-f13f-4ced-b104-1af09cd40f02",
   "metadata": {},
   "outputs": [
    {
     "data": {
      "text/plain": [
       "[2, 0, 4, 5, 6, 7, 45]"
      ]
     },
     "execution_count": 23,
     "metadata": {},
     "output_type": "execute_result"
    }
   ],
   "source": [
    "l2"
   ]
  },
  {
   "cell_type": "markdown",
   "id": "5fc48d95-570d-4677-b1df-a071014190e8",
   "metadata": {},
   "source": [
    " character 4 changed to 0 at 1st  index \n",
    "    insert is used to in b\\w  change of the list "
   ]
  },
  {
   "cell_type": "code",
   "execution_count": 24,
   "id": "af755167-592c-4dba-b08d-dcb5ec3ea28e",
   "metadata": {},
   "outputs": [
    {
     "data": {
      "text/plain": [
       "['h', 't', 'a', 'r']"
      ]
     },
     "execution_count": 24,
     "metadata": {},
     "output_type": "execute_result"
    }
   ],
   "source": [
    "l3"
   ]
  },
  {
   "cell_type": "markdown",
   "id": "8e545f16-70d1-4a7b-8bf4-dd52005ffd08",
   "metadata": {},
   "source": [
    "to remove the character from any index  of a list\n",
    "use built in function pop()\n",
    "by default the function remove the last element of the list "
   ]
  },
  {
   "cell_type": "code",
   "execution_count": 25,
   "id": "fca4703e-1760-4428-9788-ea58188c20d9",
   "metadata": {},
   "outputs": [
    {
     "data": {
      "text/plain": [
       "'r'"
      ]
     },
     "execution_count": 25,
     "metadata": {},
     "output_type": "execute_result"
    }
   ],
   "source": [
    "l3.pop()"
   ]
  },
  {
   "cell_type": "code",
   "execution_count": null,
   "id": "8c4bb21a-d3b8-438b-bed0-d657d51f87a1",
   "metadata": {},
   "outputs": [],
   "source": []
  },
  {
   "cell_type": "code",
   "execution_count": 26,
   "id": "28ecef93-67c9-4f3f-b8dc-30927642793f",
   "metadata": {},
   "outputs": [
    {
     "data": {
      "text/plain": [
       "['h', 't', 'a']"
      ]
     },
     "execution_count": 26,
     "metadata": {},
     "output_type": "execute_result"
    }
   ],
   "source": [
    "l3"
   ]
  },
  {
   "cell_type": "markdown",
   "id": "a4fd92aa-872a-47bc-aac4-b32dd4c71ceb",
   "metadata": {},
   "source": [
    "now to remove a particular element of the lsit "
   ]
  },
  {
   "cell_type": "code",
   "execution_count": 27,
   "id": "b4ad4e8d-ee20-4f07-8543-48f6bf26814e",
   "metadata": {},
   "outputs": [
    {
     "data": {
      "text/plain": [
       "'t'"
      ]
     },
     "execution_count": 27,
     "metadata": {},
     "output_type": "execute_result"
    }
   ],
   "source": [
    "l3.pop(1)"
   ]
  },
  {
   "cell_type": "markdown",
   "id": "5a28e926-c4b3-4ba7-bdea-30a4446ce329",
   "metadata": {},
   "source": [
    "here from the centre of the list we removed the character "
   ]
  },
  {
   "cell_type": "code",
   "execution_count": 28,
   "id": "8c4335fc-17cb-4e1a-a3c7-b4e7309507ce",
   "metadata": {},
   "outputs": [
    {
     "data": {
      "text/plain": [
       "['h', 'a']"
      ]
     },
     "execution_count": 28,
     "metadata": {},
     "output_type": "execute_result"
    }
   ],
   "source": [
    "l3"
   ]
  },
  {
   "cell_type": "code",
   "execution_count": 29,
   "id": "84f78257-2695-493a-b583-878c1315aa35",
   "metadata": {},
   "outputs": [
    {
     "data": {
      "text/plain": [
       "[2, 0, 4, 5, 6, 7, 45]"
      ]
     },
     "execution_count": 29,
     "metadata": {},
     "output_type": "execute_result"
    }
   ],
   "source": [
    "l2"
   ]
  },
  {
   "cell_type": "code",
   "execution_count": 14,
   "id": "aa9aec9f-6da4-4100-8a28-6684651e0933",
   "metadata": {},
   "outputs": [
    {
     "data": {
      "text/plain": [
       "[2, 3, 'srinivas', 'harsha']"
      ]
     },
     "execution_count": 14,
     "metadata": {},
     "output_type": "execute_result"
    }
   ],
   "source": [
    "l1"
   ]
  },
  {
   "cell_type": "code",
   "execution_count": 30,
   "id": "8f1e32c9-6d4a-47ff-b95a-aa18c548a58b",
   "metadata": {},
   "outputs": [],
   "source": [
    "l1.reverse()"
   ]
  },
  {
   "cell_type": "code",
   "execution_count": 16,
   "id": "6b03df38-0b7f-4dad-b191-0eb1544e9414",
   "metadata": {},
   "outputs": [
    {
     "data": {
      "text/plain": [
       "['harsha', 'srinivas', 3, 2]"
      ]
     },
     "execution_count": 16,
     "metadata": {},
     "output_type": "execute_result"
    }
   ],
   "source": [
    "l1"
   ]
  },
  {
   "cell_type": "markdown",
   "id": "f074dae5-2fb7-414f-bcac-7dedae7a83a5",
   "metadata": {},
   "source": [
    "here there is a permanent reverse of the list "
   ]
  },
  {
   "cell_type": "code",
   "execution_count": 31,
   "id": "84f77d04-7c15-4611-9f0b-0b180ce0371c",
   "metadata": {},
   "outputs": [
    {
     "data": {
      "text/plain": [
       "['harsha', 'srinivas', 3, 2]"
      ]
     },
     "execution_count": 31,
     "metadata": {},
     "output_type": "execute_result"
    }
   ],
   "source": [
    "l1\n"
   ]
  },
  {
   "cell_type": "code",
   "execution_count": 18,
   "id": "0305ba10-fe44-4815-815f-11f8759a7644",
   "metadata": {},
   "outputs": [
    {
     "ename": "TypeError",
     "evalue": "'<' not supported between instances of 'int' and 'str'",
     "output_type": "error",
     "traceback": [
      "\u001b[0;31m---------------------------------------------------------------------------\u001b[0m",
      "\u001b[0;31mTypeError\u001b[0m                                 Traceback (most recent call last)",
      "Cell \u001b[0;32mIn[18], line 1\u001b[0m\n\u001b[0;32m----> 1\u001b[0m \u001b[43ml1\u001b[49m\u001b[38;5;241;43m.\u001b[39;49m\u001b[43msort\u001b[49m\u001b[43m(\u001b[49m\u001b[43m)\u001b[49m\n",
      "\u001b[0;31mTypeError\u001b[0m: '<' not supported between instances of 'int' and 'str'"
     ]
    }
   ],
   "source": [
    "l1.sort"
   ]
  },
  {
   "cell_type": "markdown",
   "id": "119fcd04-9770-4165-a613-04ef3f557d53",
   "metadata": {},
   "source": [
    "sorting is done only when we have similar datatypes if not error pop out "
   ]
  },
  {
   "cell_type": "code",
   "execution_count": 3,
   "id": "91ed0df4-a07a-421a-8777-8f7e2dd34b73",
   "metadata": {},
   "outputs": [],
   "source": [
    "l4=[2,5,3,7,3634,6,4,9]"
   ]
  },
  {
   "cell_type": "code",
   "execution_count": 4,
   "id": "cdaafdf4-cf54-4a7c-a1cb-5124a857abfa",
   "metadata": {},
   "outputs": [
    {
     "data": {
      "text/plain": [
       "[2, 5, 3, 7, 3634, 6, 4, 9]"
      ]
     },
     "execution_count": 4,
     "metadata": {},
     "output_type": "execute_result"
    }
   ],
   "source": [
    "l4"
   ]
  },
  {
   "cell_type": "code",
   "execution_count": 5,
   "id": "e5fd7d08-79d1-4726-996c-2024fb81c0fa",
   "metadata": {},
   "outputs": [
    {
     "name": "stdout",
     "output_type": "stream",
     "text": [
      "[2, 3, 4, 5, 6, 7, 9, 3634]\n"
     ]
    }
   ],
   "source": [
    "l4.sort()\n",
    "print(l4)"
   ]
  },
  {
   "cell_type": "code",
   "execution_count": 6,
   "id": "a27d0f94-ff23-4106-9661-0837c1b1511a",
   "metadata": {},
   "outputs": [
    {
     "data": {
      "text/plain": [
       "[2, 3, 4, 5, 6, 7, 9, 3634]"
      ]
     },
     "execution_count": 6,
     "metadata": {},
     "output_type": "execute_result"
    }
   ],
   "source": [
    "l4"
   ]
  },
  {
   "cell_type": "markdown",
   "id": "2d87beab-7197-4745-983b-beb0c55cbbc8",
   "metadata": {},
   "source": [
    "ther is permanent sorting of elements of the list \n",
    "* only similar datatypes of the list are able to sort out in ascending order\n",
    "* for descending order sort of elements use sort(reverse=True) function"
   ]
  },
  {
   "cell_type": "code",
   "execution_count": 7,
   "id": "74bc0c5b-d5dc-4786-b4c6-a78ab764ded5",
   "metadata": {},
   "outputs": [],
   "source": [
    "l4.sort(reverse=True) # sorting in reversing order descending order"
   ]
  },
  {
   "cell_type": "code",
   "execution_count": 8,
   "id": "8c74c573-a359-4dfd-865c-87d5853be280",
   "metadata": {},
   "outputs": [
    {
     "data": {
      "text/plain": [
       "[3634, 9, 7, 6, 5, 4, 3, 2]"
      ]
     },
     "execution_count": 8,
     "metadata": {},
     "output_type": "execute_result"
    }
   ],
   "source": [
    "l4"
   ]
  },
  {
   "cell_type": "markdown",
   "id": "510b2d81-74c6-40c7-bd65-092f373a05ff",
   "metadata": {},
   "source": [
    "see we got it in an descending order "
   ]
  },
  {
   "cell_type": "code",
   "execution_count": 38,
   "id": "5588c622-e40c-43e6-83fd-79c8ae3f12c6",
   "metadata": {},
   "outputs": [
    {
     "data": {
      "text/plain": [
       "['harsha', 'srinivas', 3, 2]"
      ]
     },
     "execution_count": 38,
     "metadata": {},
     "output_type": "execute_result"
    }
   ],
   "source": [
    "l1"
   ]
  },
  {
   "cell_type": "code",
   "execution_count": null,
   "id": "5d0fee9e-ff71-48c4-be7c-76be3a655781",
   "metadata": {},
   "outputs": [],
   "source": [
    "4"
   ]
  },
  {
   "cell_type": "code",
   "execution_count": 42,
   "id": "40eb82bd-741b-4cb9-a5ba-0792596b6b14",
   "metadata": {},
   "outputs": [],
   "source": [
    "l5=[1,2,3,4]"
   ]
  },
  {
   "cell_type": "code",
   "execution_count": 43,
   "id": "bc41548c-9485-4164-8440-289550957aa7",
   "metadata": {},
   "outputs": [],
   "source": [
    "l5.remove(1) # remove  the element that is inside the bracket"
   ]
  },
  {
   "cell_type": "code",
   "execution_count": 44,
   "id": "9cdfe554-5a20-436b-a46e-0d6a02ee0617",
   "metadata": {},
   "outputs": [
    {
     "data": {
      "text/plain": [
       "[2, 3, 4]"
      ]
     },
     "execution_count": 44,
     "metadata": {},
     "output_type": "execute_result"
    }
   ],
   "source": [
    "l5"
   ]
  },
  {
   "cell_type": "code",
   "execution_count": 45,
   "id": "1400df78-a11d-4752-add9-2f00eeac505e",
   "metadata": {},
   "outputs": [
    {
     "data": {
      "text/plain": [
       "4"
      ]
     },
     "execution_count": 45,
     "metadata": {},
     "output_type": "execute_result"
    }
   ],
   "source": [
    "l5.pop()"
   ]
  },
  {
   "cell_type": "code",
   "execution_count": 46,
   "id": "485120e3-9e60-4488-b1fd-d89afa076089",
   "metadata": {},
   "outputs": [
    {
     "data": {
      "text/plain": [
       "[2, 3]"
      ]
     },
     "execution_count": 46,
     "metadata": {},
     "output_type": "execute_result"
    }
   ],
   "source": [
    "l5"
   ]
  },
  {
   "cell_type": "markdown",
   "id": "fc98cd73-fab7-4e98-9c50-b85f565f4648",
   "metadata": {},
   "source": [
    "remove and pop are bit similar in function but\n",
    "* remove() exactly the  number what we put inside the brackets gets eliminated \n",
    "* pop() function no need of the index by default it removes the last element of the list"
   ]
  },
  {
   "cell_type": "markdown",
   "id": "9d323745-bcad-4137-8af9-c9de638233f8",
   "metadata": {},
   "source": [
    "remove ()  : removes the first occurence of the specified element does not return anu value\n",
    "pop() : removes and return an element based on its index is provided it removes and returns the last element "
   ]
  },
  {
   "cell_type": "code",
   "execution_count": 47,
   "id": "20bae0ca-e58d-45e4-99c1-15fe8ba437a8",
   "metadata": {},
   "outputs": [],
   "source": [
    "list = [ 1,2,3,4,5,6]\n"
   ]
  },
  {
   "cell_type": "code",
   "execution_count": 48,
   "id": "fda5a05b-5916-4670-af0c-d3e753a62cdf",
   "metadata": {},
   "outputs": [],
   "source": [
    "list.reverse()"
   ]
  },
  {
   "cell_type": "code",
   "execution_count": 51,
   "id": "f1bbeb3c-f8ba-45d9-b7e8-f45fbedfc349",
   "metadata": {},
   "outputs": [
    {
     "name": "stdout",
     "output_type": "stream",
     "text": [
      "[6, 5, 4, 3, 2, 1]\n"
     ]
    }
   ],
   "source": [
    "list.sort(reverse=True)\n",
    "print(list)"
   ]
  },
  {
   "cell_type": "code",
   "execution_count": 53,
   "id": "0b1dced6-67d7-42e9-bcec-ed1cf56df287",
   "metadata": {},
   "outputs": [],
   "source": [
    "list1=[2,5,3,6,8,3,7,0]"
   ]
  },
  {
   "cell_type": "code",
   "execution_count": 54,
   "id": "e1fd465c-5296-419d-80ed-593a03ac630d",
   "metadata": {},
   "outputs": [],
   "source": [
    "list1.sort()"
   ]
  },
  {
   "cell_type": "code",
   "execution_count": 55,
   "id": "59530684-7a80-4a6f-80c5-bfa45363ee8c",
   "metadata": {},
   "outputs": [],
   "source": [
    "list.sort(reverse=True) #descending order sorting"
   ]
  },
  {
   "cell_type": "code",
   "execution_count": 56,
   "id": "aa787369-c32f-44ae-bd43-5dcc88206dd7",
   "metadata": {},
   "outputs": [
    {
     "data": {
      "text/plain": [
       "[6, 5, 4, 3, 2, 1]"
      ]
     },
     "execution_count": 56,
     "metadata": {},
     "output_type": "execute_result"
    }
   ],
   "source": [
    "list"
   ]
  },
  {
   "cell_type": "code",
   "execution_count": 57,
   "id": "5d4e25e3-b6eb-4374-8890-5a76d5cb3878",
   "metadata": {},
   "outputs": [
    {
     "data": {
      "text/plain": [
       "[0, 2, 3, 3, 5, 6, 7, 8]"
      ]
     },
     "execution_count": 57,
     "metadata": {},
     "output_type": "execute_result"
    }
   ],
   "source": [
    "list1"
   ]
  },
  {
   "cell_type": "code",
   "execution_count": 21,
   "id": "82e00aa6-4bc8-4895-8386-a3ac508a3f3e",
   "metadata": {},
   "outputs": [],
   "source": [
    "list1.sort(reverse=True)"
   ]
  },
  {
   "cell_type": "code",
   "execution_count": 22,
   "id": "1a704e14-9cf1-416c-a489-912968942303",
   "metadata": {},
   "outputs": [
    {
     "data": {
      "text/plain": [
       "[8, 7, 6, 5, 3, 3, 2, 0]"
      ]
     },
     "execution_count": 22,
     "metadata": {},
     "output_type": "execute_result"
    }
   ],
   "source": [
    "list1"
   ]
  },
  {
   "cell_type": "markdown",
   "id": "1e67023a-6a73-4d25-9f61-679b5ca5fbec",
   "metadata": {},
   "source": [
    "list sorted in an descending order "
   ]
  },
  {
   "cell_type": "code",
   "execution_count": null,
   "id": "f9653ae4-61c6-4bfb-83a1-0022e099bac9",
   "metadata": {},
   "outputs": [],
   "source": []
  },
  {
   "cell_type": "markdown",
   "id": "e1cb0032",
   "metadata": {},
   "source": [
    "stack datastructure\n",
    "\n"
   ]
  },
  {
   "cell_type": "code",
   "execution_count": 2,
   "id": "d1ff2a9e",
   "metadata": {},
   "outputs": [],
   "source": [
    "stack = []\n"
   ]
  },
  {
   "cell_type": "code",
   "execution_count": 3,
   "id": "e8023442",
   "metadata": {},
   "outputs": [
    {
     "data": {
      "text/plain": [
       "list"
      ]
     },
     "execution_count": 3,
     "metadata": {},
     "output_type": "execute_result"
    }
   ],
   "source": [
    "type(stack)"
   ]
  },
  {
   "cell_type": "code",
   "execution_count": 4,
   "id": "7381901a",
   "metadata": {},
   "outputs": [],
   "source": [
    "stack.append(1)\n",
    "stack.append(3)\n",
    "stack.append(3)"
   ]
  },
  {
   "cell_type": "code",
   "execution_count": 6,
   "id": "441b7633",
   "metadata": {},
   "outputs": [
    {
     "name": "stdout",
     "output_type": "stream",
     "text": [
      "[1, 3, 3]\n"
     ]
    }
   ],
   "source": [
    "print(stack)"
   ]
  },
  {
   "cell_type": "code",
   "execution_count": 7,
   "id": "0114e757",
   "metadata": {},
   "outputs": [
    {
     "data": {
      "text/plain": [
       "3"
      ]
     },
     "execution_count": 7,
     "metadata": {},
     "output_type": "execute_result"
    }
   ],
   "source": [
    "stack.pop()"
   ]
  },
  {
   "cell_type": "code",
   "execution_count": 8,
   "id": "761fa0f5",
   "metadata": {},
   "outputs": [
    {
     "name": "stdout",
     "output_type": "stream",
     "text": [
      "[1, 3]\n"
     ]
    }
   ],
   "source": [
    "print(stack)"
   ]
  },
  {
   "cell_type": "code",
   "execution_count": 9,
   "id": "1a746e3b",
   "metadata": {},
   "outputs": [
    {
     "data": {
      "text/plain": [
       "1"
      ]
     },
     "execution_count": 9,
     "metadata": {},
     "output_type": "execute_result"
    }
   ],
   "source": [
    "stack.pop()\n",
    "stack.pop()"
   ]
  },
  {
   "cell_type": "code",
   "execution_count": 10,
   "id": "899397c2",
   "metadata": {},
   "outputs": [
    {
     "data": {
      "text/plain": [
       "[]"
      ]
     },
     "execution_count": 10,
     "metadata": {},
     "output_type": "execute_result"
    }
   ],
   "source": [
    "stack"
   ]
  },
  {
   "cell_type": "code",
   "execution_count": 11,
   "id": "8c2e306b",
   "metadata": {},
   "outputs": [
    {
     "data": {
      "text/plain": [
       "0"
      ]
     },
     "execution_count": 11,
     "metadata": {},
     "output_type": "execute_result"
    }
   ],
   "source": [
    "len(stack)"
   ]
  },
  {
   "cell_type": "code",
   "execution_count": 2,
   "id": "eda3fdc2",
   "metadata": {},
   "outputs": [
    {
     "name": "stdout",
     "output_type": "stream",
     "text": [
      "1.push 2.pop 3.display 4.exit\n"
     ]
    }
   ],
   "source": [
    "while(1):\n",
    "    \n",
    "    print('1.push 2.pop 3.display 4.exit')\n",
    "\n",
    "    a=input('enter the op to be performed')\n",
    "    if a==1:\n",
    "        x=input('enter element to stack')\n",
    "        stack.append(x)\n",
    "    elif a==2:\n",
    "        stack.pop()\n",
    "    elif a==3:\n",
    "        print(stack)\n",
    "    else:\n",
    "        break"
   ]
  },
  {
   "cell_type": "code",
   "execution_count": null,
   "id": "125b9e85",
   "metadata": {},
   "outputs": [],
   "source": []
  }
 ],
 "metadata": {
  "kernelspec": {
   "display_name": "Python 3 (ipykernel)",
   "language": "python",
   "name": "python3"
  },
  "language_info": {
   "codemirror_mode": {
    "name": "ipython",
    "version": 3
   },
   "file_extension": ".py",
   "mimetype": "text/x-python",
   "name": "python",
   "nbconvert_exporter": "python",
   "pygments_lexer": "ipython3",
   "version": "3.11.9"
  }
 },
 "nbformat": 4,
 "nbformat_minor": 5
}

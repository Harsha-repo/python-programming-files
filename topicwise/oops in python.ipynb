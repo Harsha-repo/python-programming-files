{
 "cells": [
  {
   "cell_type": "code",
   "execution_count": 6,
   "id": "81414616-38fc-44be-939d-82102885b55b",
   "metadata": {},
   "outputs": [],
   "source": [
    "a = 10"
   ]
  },
  {
   "cell_type": "code",
   "execution_count": 7,
   "id": "00924fd1-eacb-484c-9421-f960e48a3e6f",
   "metadata": {},
   "outputs": [
    {
     "data": {
      "text/plain": [
       "int"
      ]
     },
     "execution_count": 7,
     "metadata": {},
     "output_type": "execute_result"
    }
   ],
   "source": [
    "type(a)"
   ]
  },
  {
   "cell_type": "raw",
   "id": "9c371f41-5c76-4a5a-8faa-3b6e47cbf230",
   "metadata": {},
   "source": [
    "\n"
   ]
  },
  {
   "cell_type": "code",
   "execution_count": 8,
   "id": "db5e4378-f23e-475b-8a98-3503e152ac84",
   "metadata": {},
   "outputs": [],
   "source": [
    "class test :    #declaration of class \n",
    "    pass            # pass means empty class "
   ]
  },
  {
   "cell_type": "code",
   "execution_count": null,
   "id": "d69bff20-eb69-4b11-97f3-d45d7e8d0baf",
   "metadata": {},
   "outputs": [],
   "source": []
  },
  {
   "cell_type": "code",
   "execution_count": 9,
   "id": "6650d6e9-02bd-4bcd-9bdc-85816e6333e4",
   "metadata": {},
   "outputs": [],
   "source": [
    "class pwskills:\n",
    "    class_variable='harsha'\n",
    "    def welcome_msg1(self): # here  the function is calling istself if this doesn't happend then \n",
    "        # the fucntion returns error \"self is not a keyword you can give any word \"\n",
    "        print('welcome to pw skills')"
   ]
  },
  {
   "cell_type": "code",
   "execution_count": 10,
   "id": "f8eff0ac-8362-42e4-b84c-4ff8d92f01f0",
   "metadata": {},
   "outputs": [
    {
     "ename": "NameError",
     "evalue": "name 'welcome_msg1' is not defined",
     "output_type": "error",
     "traceback": [
      "\u001b[0;31m---------------------------------------------------------------------------\u001b[0m",
      "\u001b[0;31mNameError\u001b[0m                                 Traceback (most recent call last)",
      "Cell \u001b[0;32mIn[10], line 1\u001b[0m\n\u001b[0;32m----> 1\u001b[0m \u001b[43mwelcome_msg1\u001b[49m()\n",
      "\u001b[0;31mNameError\u001b[0m: name 'welcome_msg1' is not defined"
     ]
    }
   ],
   "source": [
    "welcome_msg1()"
   ]
  },
  {
   "cell_type": "code",
   "execution_count": 11,
   "id": "f2c69ed5-3ca5-4f9c-9410-cca9e23b8548",
   "metadata": {},
   "outputs": [],
   "source": [
    "a=pwskills()  # since we are getting error the way is to first define class variable \n",
    "# and then call the function#\n",
    "# a is object of class , pwskills"
   ]
  },
  {
   "cell_type": "code",
   "execution_count": null,
   "id": "834ae971-6902-4cd7-8c98-debed47224c6",
   "metadata": {},
   "outputs": [],
   "source": []
  },
  {
   "cell_type": "code",
   "execution_count": 12,
   "id": "730c1bf6-9181-45ee-b557-5ecd5c8bc9ea",
   "metadata": {},
   "outputs": [
    {
     "name": "stdout",
     "output_type": "stream",
     "text": [
      "<__main__.pwskills object at 0x7f5af810c0d0>\n"
     ]
    }
   ],
   "source": [
    "print(a) # giving the main function name and pwskills classs name and the address  of that memory"
   ]
  },
  {
   "cell_type": "code",
   "execution_count": 13,
   "id": "0f7902bc-198c-4806-b55a-f87908ce8690",
   "metadata": {},
   "outputs": [
    {
     "name": "stdout",
     "output_type": "stream",
     "text": [
      "welcome to pw skills\n"
     ]
    }
   ],
   "source": [
    "a.welcome_msg1() # calling the function with respect to class LIke * specifying a person in group of person and \n",
    "# calling a persong  group-class  specific person - function (object inside class)"
   ]
  },
  {
   "cell_type": "code",
   "execution_count": 14,
   "id": "1c276857-ca13-43d8-8928-93796f189045",
   "metadata": {},
   "outputs": [
    {
     "data": {
      "text/plain": [
       "'harsha'"
      ]
     },
     "execution_count": 14,
     "metadata": {},
     "output_type": "execute_result"
    }
   ],
   "source": [
    "a.class_variable\n"
   ]
  },
  {
   "cell_type": "code",
   "execution_count": 15,
   "id": "f51243f0-dae0-49ba-b33e-afd313436746",
   "metadata": {},
   "outputs": [],
   "source": [
    "# we can create as many varibles required for the class and can access the elements of the class using any of those\n",
    "a=pwskills()\n",
    "b=pwskills()\n",
    "x=pwskills()\n",
    "# see below example"
   ]
  },
  {
   "cell_type": "code",
   "execution_count": 16,
   "id": "7fd41020-0c75-4987-ba5d-1f867a6ae196",
   "metadata": {},
   "outputs": [
    {
     "data": {
      "text/plain": [
       "'harsha'"
      ]
     },
     "execution_count": 16,
     "metadata": {},
     "output_type": "execute_result"
    }
   ],
   "source": [
    "x.class_variable"
   ]
  },
  {
   "cell_type": "code",
   "execution_count": 15,
   "id": "9a7980f4-9a9c-4202-83a4-c8ce19211baa",
   "metadata": {},
   "outputs": [],
   "source": [
    "class pwskills:\n",
    "    \n",
    "    def __init__(self,course,duration1,mentor1,date1): # constructor\n",
    "        self.course=course   # course is class variable but course 1 is formal paraneter which intakes value from the actual parameter \n",
    "        self.duration=duration1# duaration is the class variable and duartion1 is formal parameter \n",
    "        self.mentor=mentor1#similarly mentor is the class variable and mentor 1is the formal parameter\n",
    "        self.date=date1\n",
    "    def show_mentor(self):\n",
    "        print('print mentor name',self.mentor)\n",
    "    def startdate(self):\n",
    "        print('the start date is:',self.date)"
   ]
  },
  {
   "cell_type": "code",
   "execution_count": 16,
   "id": "23fda55c-34a9-4621-90c5-cf52d46bcd75",
   "metadata": {},
   "outputs": [],
   "source": [
    "dsm=pwskills('dsm',10,'harsha','1/1/2023')  # here dsm is accessed by course(class variable)but not by course1(formal parameter)"
   ]
  },
  {
   "cell_type": "code",
   "execution_count": 17,
   "id": "16801f66-8721-4853-9de2-d54377332943",
   "metadata": {},
   "outputs": [
    {
     "data": {
      "text/plain": [
       "<__main__.pwskills at 0x7fc45c155e70>"
      ]
     },
     "execution_count": 17,
     "metadata": {},
     "output_type": "execute_result"
    }
   ],
   "source": [
    "dsm   # says that the we can provide values to def using class variables(which are asssociated with the self)"
   ]
  },
  {
   "cell_type": "code",
   "execution_count": 18,
   "id": "862799c9-aa67-4e55-b5cd-dff1cf2b712c",
   "metadata": {},
   "outputs": [],
   "source": [
    "jdsd=pwskills('jdsd',4,'aruna','2/2/2023')"
   ]
  },
  {
   "cell_type": "raw",
   "id": "aa15f4bb-c5db-45bd-952d-1a394ba5dea0",
   "metadata": {},
   "source": [
    "so course1 is acessed by course(which is associated with self) and given the value jdsd\n",
    "durtaion 1 is acceseed by the durration class variable and given the value 4\n",
    "mentor1 is accessed by the class variable mentor and given the value harsha\n",
    "*  that is y if we write course1 instead of course it gives error saying that only through class varibles we can \n",
    "pass the values to the arguments\n"
   ]
  },
  {
   "cell_type": "code",
   "execution_count": 19,
   "id": "b79cbf03-6677-4f18-8a37-b75f1ad201dc",
   "metadata": {},
   "outputs": [
    {
     "data": {
      "text/plain": [
       "'dsm'"
      ]
     },
     "execution_count": 19,
     "metadata": {},
     "output_type": "execute_result"
    }
   ],
   "source": [
    "dsm.course"
   ]
  },
  {
   "cell_type": "code",
   "execution_count": 20,
   "id": "6fc15c0f-b341-46cf-9092-c07165121c3b",
   "metadata": {},
   "outputs": [
    {
     "ename": "AttributeError",
     "evalue": "'pwskills' object has no attribute 'course1'",
     "output_type": "error",
     "traceback": [
      "\u001b[0;31m---------------------------------------------------------------------------\u001b[0m",
      "\u001b[0;31mAttributeError\u001b[0m                            Traceback (most recent call last)",
      "Cell \u001b[0;32mIn[20], line 1\u001b[0m\n\u001b[0;32m----> 1\u001b[0m \u001b[43mdsm\u001b[49m\u001b[38;5;241;43m.\u001b[39;49m\u001b[43mcourse1\u001b[49m\n",
      "\u001b[0;31mAttributeError\u001b[0m: 'pwskills' object has no attribute 'course1'"
     ]
    }
   ],
   "source": [
    "dsm.course1\n"
   ]
  },
  {
   "cell_type": "code",
   "execution_count": 21,
   "id": "25059e4b-7b62-4adc-a3e7-f8e6994b35e5",
   "metadata": {},
   "outputs": [
    {
     "data": {
      "text/plain": [
       "'1/1/2023'"
      ]
     },
     "execution_count": 21,
     "metadata": {},
     "output_type": "execute_result"
    }
   ],
   "source": [
    "dsm.date"
   ]
  },
  {
   "cell_type": "code",
   "execution_count": 22,
   "id": "704d4df2-88a9-46c6-b68c-c165cb20f36f",
   "metadata": {},
   "outputs": [
    {
     "ename": "AttributeError",
     "evalue": "'pwskills' object has no attribute 'duration1'",
     "output_type": "error",
     "traceback": [
      "\u001b[0;31m---------------------------------------------------------------------------\u001b[0m",
      "\u001b[0;31mAttributeError\u001b[0m                            Traceback (most recent call last)",
      "Cell \u001b[0;32mIn[22], line 1\u001b[0m\n\u001b[0;32m----> 1\u001b[0m \u001b[43mdsm\u001b[49m\u001b[38;5;241;43m.\u001b[39;49m\u001b[43mduration1\u001b[49m\n",
      "\u001b[0;31mAttributeError\u001b[0m: 'pwskills' object has no attribute 'duration1'"
     ]
    }
   ],
   "source": [
    "dsm.duration1"
   ]
  },
  {
   "cell_type": "code",
   "execution_count": 24,
   "id": "31291646-639d-4596-bd11-4d015d51307b",
   "metadata": {},
   "outputs": [
    {
     "data": {
      "text/plain": [
       "10"
      ]
     },
     "execution_count": 24,
     "metadata": {},
     "output_type": "execute_result"
    }
   ],
   "source": [
    "dsm.duration"
   ]
  },
  {
   "cell_type": "code",
   "execution_count": null,
   "id": "f34ea738-09db-4597-9f80-426cadbb869b",
   "metadata": {},
   "outputs": [],
   "source": []
  },
  {
   "cell_type": "code",
   "execution_count": 23,
   "id": "71433372-2ac2-453d-b8a8-baf91574f5af",
   "metadata": {},
   "outputs": [
    {
     "name": "stdout",
     "output_type": "stream",
     "text": [
      "print mentor name harsha\n"
     ]
    }
   ],
   "source": [
    "dsm.show_mentor()"
   ]
  },
  {
   "cell_type": "code",
   "execution_count": 53,
   "id": "62b8928f-00f0-472b-8ba5-2465deab7fd4",
   "metadata": {},
   "outputs": [
    {
     "name": "stdout",
     "output_type": "stream",
     "text": [
      "print mentor name harsha\n"
     ]
    }
   ],
   "source": [
    "jdsd.show_mentor()"
   ]
  },
  {
   "cell_type": "code",
   "execution_count": 66,
   "id": "ec69bcac-606f-4558-bf93-ecfc7a222b2c",
   "metadata": {},
   "outputs": [
    {
     "name": "stdout",
     "output_type": "stream",
     "text": [
      "print mentor name harsha\n",
      "the start date is: 1/1/2023\n"
     ]
    }
   ],
   "source": [
    "dsm.show_mentor()\n",
    "dsm.startdate()"
   ]
  },
  {
   "cell_type": "code",
   "execution_count": 67,
   "id": "ef974281-6f41-471c-b0b5-6a9d6a2bbc14",
   "metadata": {},
   "outputs": [],
   "source": [
    "class pwskills :\n",
    "    def pwskills(self):\n",
    "        print('this is my pwskills class method')\n",
    "        "
   ]
  },
  {
   "cell_type": "code",
   "execution_count": 68,
   "id": "fe45a6b5-4bd4-4e6e-a94c-9d46b45e8b9e",
   "metadata": {},
   "outputs": [],
   "source": [
    "class student(pwskills):  #putiing class inside class\n",
    "    pass"
   ]
  },
  {
   "cell_type": "code",
   "execution_count": 72,
   "id": "ee23e308-571d-44a6-8a94-7ec9db33edc3",
   "metadata": {},
   "outputs": [],
   "source": [
    "stu_object=student()"
   ]
  },
  {
   "cell_type": "code",
   "execution_count": 73,
   "id": "9a47c149-73db-4c7a-a249-d5201d23dd5c",
   "metadata": {},
   "outputs": [
    {
     "name": "stdout",
     "output_type": "stream",
     "text": [
      "this is my pwskills class method\n"
     ]
    }
   ],
   "source": [
    "stu_object.pwskills()"
   ]
  },
  {
   "cell_type": "code",
   "execution_count": 1,
   "id": "a3557a31-beda-4ae7-b044-008d72ff7975",
   "metadata": {},
   "outputs": [],
   "source": [
    "class pwskills:\n",
    "    def pwskills(self):\n",
    "        print('this is my pw skills method')\n",
    "        "
   ]
  },
  {
   "cell_type": "code",
   "execution_count": 2,
   "id": "965728b4-2a26-4abb-b77b-cf0d5d439b02",
   "metadata": {},
   "outputs": [],
   "source": [
    "class student(pwskills):\n",
    "    pass"
   ]
  },
  {
   "cell_type": "code",
   "execution_count": 4,
   "id": "e0bd7a21-4775-4842-9e62-0d0e5adf6442",
   "metadata": {},
   "outputs": [
    {
     "name": "stdout",
     "output_type": "stream",
     "text": [
      "this is my pw skills method\n"
     ]
    }
   ],
   "source": [
    "obj_stu = student()\n",
    "a=obj_stu.pwskills()"
   ]
  },
  {
   "cell_type": "raw",
   "id": "638775fe-0b41-4780-9ceb-2e9f9dc41ace",
   "metadata": {},
   "source": [
    "acessing one class code by accessing through the other class this is called inheritance\n",
    "paretn class is pwskills\n",
    "child class is student"
   ]
  },
  {
   "cell_type": "code",
   "execution_count": 10,
   "id": "6554b228-86ad-4934-8c7a-197221b415f0",
   "metadata": {},
   "outputs": [],
   "source": [
    "class mentor:\n",
    "    def __init__(self,mentor_name,mentor_email,mentor_contact):\n",
    "        \n",
    "        self.mentor_name=mentor_name\n",
    "        self.mentor_email=mentor_email\n",
    "        self.mentor_contact=mentor_contact\n",
    "        \n",
    "    def print_mentor_details(self):\n",
    "        print(self.mentor_name,self.mentor_email.self.mentor_contact)\n",
    "        "
   ]
  },
  {
   "cell_type": "code",
   "execution_count": 46,
   "id": "a5947c2a-655f-4428-a85b-0c014dd6a6ea",
   "metadata": {},
   "outputs": [],
   "source": [
    "class datascience_masters(mentor):\n",
    "    def print_mentors_datail(self):\n",
    "        print('this is my datascience mentorss',\n",
    "             'name:', self.mentor_name,\n",
    "             'email:',self.mentor_email,\n",
    "             'number:',self.mentor_contact)\n"
   ]
  },
  {
   "cell_type": "code",
   "execution_count": 47,
   "id": "e3394011-16f1-43a3-bf7f-427b5bd39f14",
   "metadata": {},
   "outputs": [],
   "source": [
    "obj_dsm=datascience_masters('sudh','sudhanshu@pw',239834)\n"
   ]
  },
  {
   "cell_type": "code",
   "execution_count": 48,
   "id": "fb73437f-1ea1-4de4-92ff-48a63bfdb051",
   "metadata": {},
   "outputs": [
    {
     "name": "stdout",
     "output_type": "stream",
     "text": [
      "<__main__.datascience_masters object at 0x7f8308902320>\n"
     ]
    }
   ],
   "source": [
    "print(obj_dsm)"
   ]
  },
  {
   "cell_type": "code",
   "execution_count": 49,
   "id": "95381814-3ebf-4014-8212-2e5b420fbb4e",
   "metadata": {},
   "outputs": [
    {
     "data": {
      "text/plain": [
       "'sudh'"
      ]
     },
     "execution_count": 49,
     "metadata": {},
     "output_type": "execute_result"
    }
   ],
   "source": [
    "obj_dsm.mentor_name"
   ]
  },
  {
   "cell_type": "code",
   "execution_count": 50,
   "id": "f72a9d7d-bf55-4b04-95b1-e6cc6ca16780",
   "metadata": {},
   "outputs": [
    {
     "data": {
      "text/plain": [
       "'sudhanshu@pw'"
      ]
     },
     "execution_count": 50,
     "metadata": {},
     "output_type": "execute_result"
    }
   ],
   "source": [
    "obj_dsm.mentor_email"
   ]
  },
  {
   "cell_type": "code",
   "execution_count": 51,
   "id": "ae7837ca-db3e-49b5-a682-9dc462a296d0",
   "metadata": {},
   "outputs": [
    {
     "name": "stdout",
     "output_type": "stream",
     "text": [
      "this is my datascience mentorss name: sudh email: sudhanshu@pw number: 239834\n"
     ]
    }
   ],
   "source": [
    "obj_dsm.print_mentors_datail()"
   ]
  },
  {
   "cell_type": "code",
   "execution_count": null,
   "id": "4b7e2764-58da-4342-ac74-d4598d0509ad",
   "metadata": {},
   "outputs": [],
   "source": []
  },
  {
   "cell_type": "raw",
   "id": "4d0f32bf-93f3-47e8-a3c8-f7224167c937",
   "metadata": {},
   "source": [
    "inheritence in python programming\n",
    "\n"
   ]
  },
  {
   "cell_type": "raw",
   "id": "a1620d4f-413c-4c46-b2f0-92c07a4a28c2",
   "metadata": {},
   "source": [
    "this is method where one class is accessed by the other class variable or (object)\n",
    "lets say a parent class is accessed by the child class object(variabe) by inherting the parent class into \n",
    "child class"
   ]
  },
  {
   "cell_type": "raw",
   "id": "1ebcb6cc-de91-4a03-b308-0d00108a417f",
   "metadata": {},
   "source": [
    "lets sees an example"
   ]
  },
  {
   "cell_type": "code",
   "execution_count": 3,
   "id": "f5ed448c-4ba7-4f18-b532-9c5c8b39649f",
   "metadata": {},
   "outputs": [],
   "source": [
    "class parent:\n",
    "    def pclass(self):\n",
    "        print('this is parent class')\n",
    "        \n",
    "        "
   ]
  },
  {
   "cell_type": "code",
   "execution_count": 4,
   "id": "c1010b5d-71f4-4c8b-94cd-5fc8fc2fe169",
   "metadata": {},
   "outputs": [],
   "source": [
    "class child(parent):\n",
    "        pass"
   ]
  },
  {
   "cell_type": "code",
   "execution_count": null,
   "id": "0336bbac-4684-4dcc-aa29-8e1b2d7055c3",
   "metadata": {},
   "outputs": [],
   "source": []
  },
  {
   "cell_type": "code",
   "execution_count": 5,
   "id": "e22a32b4-16a2-45a9-b712-e304612a524a",
   "metadata": {},
   "outputs": [],
   "source": [
    "obj_child=child()"
   ]
  },
  {
   "cell_type": "code",
   "execution_count": 8,
   "id": "e6f14219-e00c-4ba8-8975-7745f9096d4a",
   "metadata": {},
   "outputs": [
    {
     "name": "stdout",
     "output_type": "stream",
     "text": [
      "this is parent class\n"
     ]
    }
   ],
   "source": [
    "obj_child.pclass()"
   ]
  },
  {
   "cell_type": "raw",
   "id": "0cd9e66c-b085-425e-b3ee-8ef6add60b54",
   "metadata": {},
   "source": [
    "the function which is there in the parent class is noe can be accessed \n",
    "through the child class"
   ]
  },
  {
   "cell_type": "code",
   "execution_count": 46,
   "id": "275dcd06-d8b1-4902-8e10-40a3f906d76d",
   "metadata": {},
   "outputs": [],
   "source": [
    "class mentor:\n",
    "    class_va=10\n",
    "    def __init__(self,mname,mmail,mcontact):\n",
    "        self.mentorname=mname\n",
    "        self.memtormail=mmail\n",
    "        self.mentorcontact=mcontact\n",
    "    \n",
    "    def print_mentor_details(self):\n",
    "        print(self.mentorname,self.memtormail,self.mentorcontact)"
   ]
  },
  {
   "cell_type": "code",
   "execution_count": 47,
   "id": "b24b98de-bb48-4207-b53a-456894bf4f85",
   "metadata": {},
   "outputs": [],
   "source": [
    "class dsm(mentor):#inherting the appperant class\n",
    "    def print_dsm(self):\n",
    "        print('this is my dsm class')\n",
    "        "
   ]
  },
  {
   "cell_type": "code",
   "execution_count": 48,
   "id": "f22e3a39-f4bf-4ef7-9649-11d9cdfd0fb4",
   "metadata": {},
   "outputs": [],
   "source": [
    "obj_dsm=dsm('sudh','smial',9908)"
   ]
  },
  {
   "cell_type": "code",
   "execution_count": 49,
   "id": "852be75b-00f2-4b5b-8103-faa3fdf1bb04",
   "metadata": {},
   "outputs": [
    {
     "data": {
      "text/plain": [
       "'sudh'"
      ]
     },
     "execution_count": 49,
     "metadata": {},
     "output_type": "execute_result"
    }
   ],
   "source": [
    "obj_dsm.mentorname\n"
   ]
  },
  {
   "cell_type": "code",
   "execution_count": 50,
   "id": "e52e1815-915b-4c08-86c8-a3629282298f",
   "metadata": {},
   "outputs": [
    {
     "data": {
      "text/plain": [
       "9908"
      ]
     },
     "execution_count": 50,
     "metadata": {},
     "output_type": "execute_result"
    }
   ],
   "source": [
    "obj_dsm.mentorcontact"
   ]
  },
  {
   "cell_type": "code",
   "execution_count": 51,
   "id": "236ccff9-da81-43f1-bb11-1e9a9fb4a25d",
   "metadata": {},
   "outputs": [
    {
     "data": {
      "text/plain": [
       "<bound method mentor.print_mentor_details of <__main__.dsm object at 0x7f7e71f28f10>>"
      ]
     },
     "execution_count": 51,
     "metadata": {},
     "output_type": "execute_result"
    }
   ],
   "source": [
    "obj_dsm.print_mentor_details"
   ]
  },
  {
   "cell_type": "code",
   "execution_count": 52,
   "id": "0dce8317-44b0-4f96-a64c-2097fc983fed",
   "metadata": {},
   "outputs": [
    {
     "name": "stdout",
     "output_type": "stream",
     "text": [
      "sudh smial 9908\n"
     ]
    }
   ],
   "source": [
    "obj_dsm.print_mentor_details()"
   ]
  },
  {
   "cell_type": "code",
   "execution_count": 58,
   "id": "ff6b79af-c2a6-40d7-9fe4-374b8db15eec",
   "metadata": {},
   "outputs": [
    {
     "data": {
      "text/plain": [
       "10"
      ]
     },
     "execution_count": 58,
     "metadata": {},
     "output_type": "execute_result"
    }
   ],
   "source": [
    "obj_dsm.class_va"
   ]
  },
  {
   "cell_type": "code",
   "execution_count": null,
   "id": "2ffc7921-3143-422e-b711-d9a8ea3842ee",
   "metadata": {},
   "outputs": [],
   "source": []
  },
  {
   "cell_type": "code",
   "execution_count": 1,
   "id": "b8435ec3-95af-4d7f-928b-7d2f79cc3dd8",
   "metadata": {},
   "outputs": [],
   "source": [
    "class student :\n",
    "    \n",
    "    def __init__details(self,name,usn):\n",
    "        self.name = name\n",
    "        self.usn = usn \n",
    "        "
   ]
  },
  {
   "cell_type": "code",
   "execution_count": 2,
   "id": "e43f7bdb-59ca-47a0-9f5e-f31a78af91c2",
   "metadata": {},
   "outputs": [],
   "source": [
    "s1 = student()\n"
   ]
  },
  {
   "cell_type": "code",
   "execution_count": 3,
   "id": "bc19e164-2674-4b2f-b5bb-7b52a2847b85",
   "metadata": {},
   "outputs": [
    {
     "name": "stdout",
     "output_type": "stream",
     "text": [
      "<__main__.student object at 0x7f6e3aba33d0>\n"
     ]
    }
   ],
   "source": [
    "print(s1)\n"
   ]
  },
  {
   "cell_type": "code",
   "execution_count": 9,
   "id": "e704088a-de15-444c-8b19-9978494a29a7",
   "metadata": {},
   "outputs": [
    {
     "ename": "TypeError",
     "evalue": "student() takes no arguments",
     "output_type": "error",
     "traceback": [
      "\u001b[0;31m---------------------------------------------------------------------------\u001b[0m",
      "\u001b[0;31mTypeError\u001b[0m                                 Traceback (most recent call last)",
      "Cell \u001b[0;32mIn[9], line 1\u001b[0m\n\u001b[0;32m----> 1\u001b[0m s1\u001b[38;5;241m=\u001b[39m\u001b[43mstudent\u001b[49m\u001b[43m(\u001b[49m\u001b[38;5;124;43m'\u001b[39;49m\u001b[38;5;124;43mharsha\u001b[39;49m\u001b[38;5;124;43m'\u001b[39;49m\u001b[43m,\u001b[49m\u001b[38;5;241;43m44\u001b[39;49m\u001b[43m)\u001b[49m\n",
      "\u001b[0;31mTypeError\u001b[0m: student() takes no arguments"
     ]
    }
   ],
   "source": [
    "s1=student('harsha',44)"
   ]
  },
  {
   "cell_type": "code",
   "execution_count": null,
   "id": "f6a2ff66-7d94-46f2-bc7d-495ea160b8d2",
   "metadata": {},
   "outputs": [],
   "source": []
  },
  {
   "cell_type": "code",
   "execution_count": null,
   "id": "ea144ea1-b535-4cce-92e6-5f5b578fe640",
   "metadata": {},
   "outputs": [],
   "source": []
  },
  {
   "cell_type": "raw",
   "id": "7596c6b0-3b3e-4587-aadd-5ea63b5ab4d1",
   "metadata": {},
   "source": []
  },
  {
   "cell_type": "code",
   "execution_count": 43,
   "id": "58a75a6c-e06d-46c6-9ab6-2c9a59ebb480",
   "metadata": {},
   "outputs": [
    {
     "name": "stdin",
     "output_type": "stream",
     "text": [
      "enter your name : 5\n",
      "enter your usn: 5\n",
      "enter your physics marks: 90\n",
      "enter your math marks: 90\n",
      "enter your chemistry marks: 90\n"
     ]
    },
    {
     "name": "stdout",
     "output_type": "stream",
     "text": [
      "*******result*******\n",
      "physics = 90\n",
      "maths = 90\n",
      "chemsity= 90\n",
      "TOTAL =  270\n",
      "percentage =  90.0\n"
     ]
    }
   ],
   "source": [
    "#### n = int(input('enter number of students:'))\n",
    "##i=0\n",
    "##while i<n:\n",
    "\n",
    "class student:\n",
    "    def __init__(self):\n",
    "        self.name = input('enter your name :')\n",
    "        self.usn = int(input('enter your usn:'))\n",
    "\n",
    "    def marks(self):\n",
    "        self.marks=[]\n",
    "        self.marks.append(int(input('enter your physics marks:')))\n",
    "        self.marks.append(int(input('enter your math marks:')))\n",
    "        self.marks .append(int(input('enter your chemistry marks:')))\n",
    "    def result(self):\n",
    "        print('*******result*******')\n",
    "        print('physics =',self.marks[0])\n",
    "        print('maths =',self.marks[1])\n",
    "        print('chemsity=',self.marks[2])\n",
    "        \n",
    "        print('TOTAL = ',sum(self.marks))\n",
    "        print('percentage = ',((sum(self.marks)/300)*100))\n",
    "\n",
    "s1 = student()\n",
    "s1.marks()\n",
    "s1.result()\n",
    "##i=i+1\n"
   ]
  },
  {
   "cell_type": "raw",
   "id": "4bba5f08-138f-46e3-be3c-cd0e5c4e930f",
   "metadata": {},
   "source": []
  },
  {
   "cell_type": "code",
   "execution_count": 5,
   "id": "28f54402-7953-411f-87ce-8c7c58a4cf6c",
   "metadata": {},
   "outputs": [
    {
     "name": "stdin",
     "output_type": "stream",
     "text": [
      "enter your name : h\n",
      "enter your usn: 34\n",
      "enter your physics marks: 78\n",
      "enter your math marks: 67\n",
      "enter your chemistry marks: 78\n"
     ]
    },
    {
     "name": "stdout",
     "output_type": "stream",
     "text": [
      "*******result*******\n",
      "physics = 78\n",
      "maths = 67\n",
      "chemsity= 78\n",
      "TOTAL =  212\n",
      "percentage =  70.66666666666667\n"
     ]
    },
    {
     "name": "stdin",
     "output_type": "stream",
     "text": [
      "enter your name : h\n",
      "enter your usn: 90\n",
      "enter your physics marks: 90\n",
      "enter your math marks: 90\n",
      "enter your chemistry marks: 90\n"
     ]
    },
    {
     "name": "stdout",
     "output_type": "stream",
     "text": [
      "*******result*******\n",
      "physics = 90\n",
      "maths = 90\n",
      "chemsity= 90\n",
      "TOTAL =  270\n",
      "percentage =  90.0\n"
     ]
    }
   ],
   "source": [
    "n=2\n",
    "for i in range(n):\n",
    "    s1=student()\n",
    "    s1.marks()\n",
    "    s1.result()"
   ]
  },
  {
   "cell_type": "code",
   "execution_count": 14,
   "id": "9461b09f-a47b-4c50-bb51-0e4c87a7e087",
   "metadata": {},
   "outputs": [
    {
     "name": "stdout",
     "output_type": "stream",
     "text": [
      "enter first complex number\n"
     ]
    },
    {
     "name": "stdin",
     "output_type": "stream",
     "text": [
      "enter real part of complex : 1\n",
      "enter img part of complex: 2\n"
     ]
    },
    {
     "name": "stdout",
     "output_type": "stream",
     "text": [
      "1 + 2 j\n",
      "enter second complex number\n"
     ]
    },
    {
     "name": "stdin",
     "output_type": "stream",
     "text": [
      "enter real part of complex : 2\n",
      "enter img part of complex: 2\n"
     ]
    },
    {
     "name": "stdout",
     "output_type": "stream",
     "text": [
      "2 + 2 j\n",
      "the sum is :\n",
      "3 + 4 j\n"
     ]
    }
   ],
   "source": [
    " class complex :\n",
    "    def initcomplex(self):\n",
    "        self.realpart=int(input('enter real part of complex :'))\n",
    "        self.imgpart=int(input('enter img part of complex:'))\n",
    "    def sum_complex(self,c1,c2):\n",
    "        self.realpart=c1.realpart+c2.realpart\n",
    "        self.imgpart = c1.imgpart+c2.imgpart\n",
    "\n",
    "    def display(self):\n",
    "        self.result = print(self.realpart,'+',self.imgpart,'j')\n",
    "\n",
    "c1=complex()\n",
    "\n",
    "c2=complex()\n",
    "\n",
    "c3=complex()\n",
    "print('enter first complex number')\n",
    "c1.initcomplex()\n",
    "c1.display()\n",
    "print('enter second complex number')\n",
    "c2.initcomplex()\n",
    "c2.display()\n",
    "print('the sum is :')\n",
    "c3.sum_complex(c1,c2)\n",
    "c3.display()"
   ]
  },
  {
   "cell_type": "code",
   "execution_count": 39,
   "id": "1669605f-886e-4f72-9fb8-b3cd3d9014fe",
   "metadata": {},
   "outputs": [
    {
     "name": "stdin",
     "output_type": "stream",
     "text": [
      "enter name of student : h\n",
      "enter usn of student: 44\n",
      "enter your physics marks: 90\n",
      "enter mat marks: 90\n",
      "enter chem marks: 90\n"
     ]
    },
    {
     "name": "stdout",
     "output_type": "stream",
     "text": [
      "result\n",
      "physics= 90\n",
      "maths =  90\n",
      "chemistry= 90\n",
      "total= 270\n",
      "percentage= 90.0\n"
     ]
    }
   ],
   "source": [
    "class student :\n",
    "    def __init__(self):\n",
    "        self.name=input('enter name of student :')\n",
    "        self.usn=input('enter usn of student:')\n",
    "        \n",
    "    def marks(self):\n",
    "        self.marks=[]\n",
    "        self.marks.append(int(input('enter your physics marks:')))\n",
    "        self.marks.append(int(input('enter mat marks:')))\n",
    "        self.marks.append(int(input('enter chem marks:')))\n",
    "    \n",
    "    def result(self):\n",
    "        print('result')\n",
    "        print('physics=',self.marks[0])\n",
    "        print('maths = ',self.marks[1])\n",
    "        print('chemistry=',self.marks[2])\n",
    "        \n",
    "    def sum(self):\n",
    "        total=self.marks[0]+self.marks[1]+self.marks[2]\n",
    "        print('total=',total)\n",
    "        print('percentage=',((self.marks[0]+self.marks[1]+self.marks[2])/300)*100)\n",
    "a = student()\n",
    "a.marks()\n",
    "a.result()\n",
    "a.sum()"
   ]
  },
  {
   "cell_type": "code",
   "execution_count": null,
   "id": "1fd6afe5-9de5-4bdf-bccf-183b847750b7",
   "metadata": {},
   "outputs": [],
   "source": []
  }
 ],
 "metadata": {
  "kernelspec": {
   "display_name": "Python 3 (ipykernel)",
   "language": "python",
   "name": "python3"
  },
  "language_info": {
   "codemirror_mode": {
    "name": "ipython",
    "version": 3
   },
   "file_extension": ".py",
   "mimetype": "text/x-python",
   "name": "python",
   "nbconvert_exporter": "python",
   "pygments_lexer": "ipython3",
   "version": "3.10.8"
  }
 },
 "nbformat": 4,
 "nbformat_minor": 5
}

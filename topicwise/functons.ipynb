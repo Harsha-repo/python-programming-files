{
 "cells": [
  {
   "cell_type": "code",
   "execution_count": 1,
   "id": "f48fa1cc-3db4-424a-890b-27716463b2aa",
   "metadata": {},
   "outputs": [],
   "source": [
    "def test():\n",
    "    pass\n"
   ]
  },
  {
   "cell_type": "code",
   "execution_count": 2,
   "id": "3a8220b5-9a67-412e-b3a6-c884a3e1a85d",
   "metadata": {},
   "outputs": [],
   "source": [
    "test()"
   ]
  },
  {
   "cell_type": "code",
   "execution_count": 1,
   "id": "a85bdcbe-c96e-4eb8-980a-fd34877f7ee3",
   "metadata": {},
   "outputs": [],
   "source": [
    "def test():\n",
    "    print('this is my first function')"
   ]
  },
  {
   "cell_type": "code",
   "execution_count": 2,
   "id": "91f5280a-4f78-4465-ad55-a9001beb1751",
   "metadata": {},
   "outputs": [
    {
     "name": "stdout",
     "output_type": "stream",
     "text": [
      "this is my first function\n"
     ]
    }
   ],
   "source": [
    "test()"
   ]
  },
  {
   "cell_type": "code",
   "execution_count": 3,
   "id": "cc77daae-72ee-4b94-8615-3260fe7aef13",
   "metadata": {},
   "outputs": [],
   "source": [
    "def test1(a,b):\n",
    "    print(a,b)"
   ]
  },
  {
   "cell_type": "code",
   "execution_count": 5,
   "id": "2a8394bc-9720-4559-8027-192520040680",
   "metadata": {},
   "outputs": [
    {
     "ename": "TypeError",
     "evalue": "test1() missing 1 required positional argument: 'b'",
     "output_type": "error",
     "traceback": [
      "\u001b[0;31m---------------------------------------------------------------------------\u001b[0m",
      "\u001b[0;31mTypeError\u001b[0m                                 Traceback (most recent call last)",
      "Cell \u001b[0;32mIn[5], line 1\u001b[0m\n\u001b[0;32m----> 1\u001b[0m \u001b[43mtest1\u001b[49m\u001b[43m(\u001b[49m\u001b[38;5;124;43m'\u001b[39;49m\u001b[38;5;124;43mram\u001b[39;49m\u001b[38;5;124;43m'\u001b[39;49m\u001b[43m)\u001b[49m\n",
      "\u001b[0;31mTypeError\u001b[0m: test1() missing 1 required positional argument: 'b'"
     ]
    }
   ],
   "source": [
    "test1('ram')"
   ]
  },
  {
   "cell_type": "markdown",
   "id": "c8a603a4-3aee-480d-874e-e971def71ec8",
   "metadata": {},
   "source": [
    "we need to enter both the arguments of the functions if not givves a error "
   ]
  },
  {
   "cell_type": "code",
   "execution_count": 7,
   "id": "466eae39-fced-4a9e-8958-0194cd99cc73",
   "metadata": {},
   "outputs": [
    {
     "name": "stdout",
     "output_type": "stream",
     "text": [
      "4 ram\n"
     ]
    }
   ],
   "source": [
    "test1(b='ram',a=4)"
   ]
  },
  {
   "cell_type": "code",
   "execution_count": 10,
   "id": "d39c71ba-23e1-48c5-996c-53014ab0f246",
   "metadata": {},
   "outputs": [],
   "source": [
    "def test2(a):\n",
    "    print(a)"
   ]
  },
  {
   "cell_type": "code",
   "execution_count": 11,
   "id": "070c42d5-3588-4a9a-a061-01b94e56c52b",
   "metadata": {},
   "outputs": [
    {
     "name": "stdout",
     "output_type": "stream",
     "text": [
      "ram\n"
     ]
    }
   ],
   "source": [
    "test2('ram')"
   ]
  },
  {
   "cell_type": "code",
   "execution_count": 12,
   "id": "ee1a1eeb-b623-4ed0-9d39-ad09c211b51c",
   "metadata": {},
   "outputs": [
    {
     "name": "stdout",
     "output_type": "stream",
     "text": [
      "sita\n"
     ]
    }
   ],
   "source": [
    "test2('sita')"
   ]
  },
  {
   "cell_type": "code",
   "execution_count": 13,
   "id": "f29e4182-8ca6-47b2-8049-9d656de1c1b2",
   "metadata": {},
   "outputs": [
    {
     "name": "stdout",
     "output_type": "stream",
     "text": [
      "sita\n"
     ]
    },
    {
     "data": {
      "text/plain": [
       "NoneType"
      ]
     },
     "execution_count": 13,
     "metadata": {},
     "output_type": "execute_result"
    }
   ],
   "source": [
    "type(test2('sita'))"
   ]
  },
  {
   "cell_type": "raw",
   "id": "75a28221-041a-42aa-bbea-cbb0b1b2bc52",
   "metadata": {},
   "source": [
    "function follows the type non type"
   ]
  },
  {
   "cell_type": "raw",
   "id": "a86d66b1-d091-4c70-a2ac-332f8326e1f4",
   "metadata": {},
   "source": [
    "even type casting is not possible "
   ]
  },
  {
   "cell_type": "raw",
   "id": "eb0076da-967e-4f1a-9038-fb630986b51d",
   "metadata": {},
   "source": [
    "so to  concatenate"
   ]
  },
  {
   "cell_type": "code",
   "execution_count": 18,
   "id": "5f8d42c7-ce87-4109-8892-1cf4816ae501",
   "metadata": {},
   "outputs": [],
   "source": [
    "def test(a):\n",
    "    return a"
   ]
  },
  {
   "cell_type": "code",
   "execution_count": 19,
   "id": "0ece7aa7-5f56-4ebd-a872-c3075eaba632",
   "metadata": {},
   "outputs": [
    {
     "data": {
      "text/plain": [
       "'ram'"
      ]
     },
     "execution_count": 19,
     "metadata": {},
     "output_type": "execute_result"
    }
   ],
   "source": [
    "test('ram')"
   ]
  },
  {
   "cell_type": "code",
   "execution_count": 20,
   "id": "ae5cece8-30d4-4c24-a9c4-6f1a0dd85ec8",
   "metadata": {},
   "outputs": [
    {
     "data": {
      "text/plain": [
       "str"
      ]
     },
     "execution_count": 20,
     "metadata": {},
     "output_type": "execute_result"
    }
   ],
   "source": [
    "type(test('ram'))"
   ]
  },
  {
   "cell_type": "code",
   "execution_count": 21,
   "id": "9abb429e-e688-40fa-83e2-5a0444edca31",
   "metadata": {},
   "outputs": [],
   "source": [
    "def test4(a,b,c):\n",
    "    return a,b,c\n",
    "# when you return the function then daatatypes gets assigned carrrectly other than nonetype"
   ]
  },
  {
   "cell_type": "raw",
   "id": "0d169e84-2b8c-483a-8faf-0ef84bb2a34b",
   "metadata": {},
   "source": [
    "test4('ram','sita',1)"
   ]
  },
  {
   "cell_type": "code",
   "execution_count": 22,
   "id": "830f87dc-94ae-4d75-9802-21bec4d3bf8b",
   "metadata": {},
   "outputs": [
    {
     "data": {
      "text/plain": [
       "tuple"
      ]
     },
     "execution_count": 22,
     "metadata": {},
     "output_type": "execute_result"
    }
   ],
   "source": [
    "type(test4('ram','sita',1))\n"
   ]
  },
  {
   "cell_type": "code",
   "execution_count": 28,
   "id": "1df252ef-0f28-4953-a466-11be8651bf3a",
   "metadata": {},
   "outputs": [],
   "source": [
    "a = 10 \n",
    "b= 56\n",
    "c = 'harsha'"
   ]
  },
  {
   "cell_type": "code",
   "execution_count": 29,
   "id": "4b9bb2da-ec5d-4101-9e5e-a124e0739dcc",
   "metadata": {},
   "outputs": [
    {
     "data": {
      "text/plain": [
       "(10, 56, 'harsha')"
      ]
     },
     "execution_count": 29,
     "metadata": {},
     "output_type": "execute_result"
    }
   ],
   "source": [
    "a,b,c "
   ]
  },
  {
   "cell_type": "raw",
   "id": "4ff4d10a-c41a-4457-a7ee-550a1c6e2c13",
   "metadata": {},
   "source": [
    "list input in the functions"
   ]
  },
  {
   "cell_type": "code",
   "execution_count": 30,
   "id": "56b2b3fa-ddbb-405a-804e-7a693a521c54",
   "metadata": {},
   "outputs": [],
   "source": [
    "def test5(l):\n",
    "    for i in l :\n",
    "        print(i)"
   ]
  },
  {
   "cell_type": "code",
   "execution_count": 31,
   "id": "8d06a5b5-c06d-4740-b573-4d361295037a",
   "metadata": {},
   "outputs": [
    {
     "name": "stdout",
     "output_type": "stream",
     "text": [
      "2\n",
      "3\n",
      "4\n",
      "5\n",
      "6\n"
     ]
    }
   ],
   "source": [
    "test5([2,3,4,5,6])"
   ]
  },
  {
   "cell_type": "code",
   "execution_count": 32,
   "id": "9c058c7d-2668-47fb-843d-b61acb191586",
   "metadata": {},
   "outputs": [
    {
     "name": "stdout",
     "output_type": "stream",
     "text": [
      "2\n",
      "3\n",
      "4\n",
      "5\n",
      "6\n"
     ]
    },
    {
     "data": {
      "text/plain": [
       "NoneType"
      ]
     },
     "execution_count": 32,
     "metadata": {},
     "output_type": "execute_result"
    }
   ],
   "source": [
    "type(test5([2,3,4,5,6]))\n"
   ]
  },
  {
   "cell_type": "code",
   "execution_count": 34,
   "id": "b7f1cb10-5f5b-403c-8208-3e7d1b47628c",
   "metadata": {},
   "outputs": [
    {
     "ename": "TypeError",
     "evalue": "type() takes 1 or 3 arguments",
     "output_type": "error",
     "traceback": [
      "\u001b[0;31m---------------------------------------------------------------------------\u001b[0m",
      "\u001b[0;31mTypeError\u001b[0m                                 Traceback (most recent call last)",
      "Cell \u001b[0;32mIn[34], line 1\u001b[0m\n\u001b[0;32m----> 1\u001b[0m \u001b[38;5;28;43mtype\u001b[39;49m\u001b[43m(\u001b[49m\u001b[43m)\u001b[49m\n",
      "\u001b[0;31mTypeError\u001b[0m: type() takes 1 or 3 arguments"
     ]
    }
   ],
   "source": [
    "type()  #keep cursor in between parenthesis and shift tab will give the details of the docstring\n"
   ]
  },
  {
   "cell_type": "code",
   "execution_count": 27,
   "id": "86e45b60-ab52-47e6-9e8f-d6ca9280b60b",
   "metadata": {},
   "outputs": [
    {
     "ename": "TypeError",
     "evalue": "test5() missing 1 required positional argument: 'l'",
     "output_type": "error",
     "traceback": [
      "\u001b[0;31m---------------------------------------------------------------------------\u001b[0m",
      "\u001b[0;31mTypeError\u001b[0m                                 Traceback (most recent call last)",
      "Cell \u001b[0;32mIn[27], line 1\u001b[0m\n\u001b[0;32m----> 1\u001b[0m \u001b[43mtest5\u001b[49m\u001b[43m(\u001b[49m\u001b[43m)\u001b[49m\n",
      "\u001b[0;31mTypeError\u001b[0m: test5() missing 1 required positional argument: 'l'"
     ]
    }
   ],
   "source": [
    "test5()"
   ]
  },
  {
   "cell_type": "code",
   "execution_count": null,
   "id": "5ed0a760-9eaa-4438-8054-8b09c5b6548a",
   "metadata": {},
   "outputs": [],
   "source": [
    "Signature: test5(l)\n",
    "Docstring: <no docstring>\n",
    "File:      /tmp/ipykernel_153/3448789015.py\n",
    "Type:      function"
   ]
  },
  {
   "cell_type": "raw",
   "id": "85b492c3-8a67-4a17-b40d-ab45a8f2b2d3",
   "metadata": {},
   "source": [
    "since user defined fuucntion has no docstring we neeed to provide our name of docstring\n",
    "by using \"\"\"__\"\"\" anything inside this three quoted string is called docstring of that function"
   ]
  },
  {
   "cell_type": "code",
   "execution_count": 43,
   "id": "29341e56-b475-4532-b999-e9140e8fe7b8",
   "metadata": {},
   "outputs": [],
   "source": [
    "def test5(l):\n",
    "    \"\"\"this is the function whichtake list as input and print all the elements of the list\"\"\" \n",
    "    for i in l :\n",
    "        print(i)     "
   ]
  },
  {
   "cell_type": "code",
   "execution_count": null,
   "id": "b980029f-5b6f-47ff-8258-e25ff3cd04ab",
   "metadata": {},
   "outputs": [],
   "source": [
    "test(5)"
   ]
  },
  {
   "cell_type": "code",
   "execution_count": null,
   "id": "db555902-f482-4312-bbdb-1074ff40b028",
   "metadata": {},
   "outputs": [],
   "source": [
    "Signature: test5(l)\n",
    "Docstring: this is the function whichtake list as input and print all the elements of the list\n",
    "File:      /tmp/ipykernel_153/2644016491.py\n",
    "Type:      function"
   ]
  },
  {
   "cell_type": "raw",
   "id": "b4f1af42-c59e-4231-b82b-9b71b113e338",
   "metadata": {},
   "source": [
    " see now we got the user defined function's docstring"
   ]
  },
  {
   "cell_type": "raw",
   "id": "18d0eebb-1548-48ed-8adc-900905989397",
   "metadata": {},
   "source": [
    "when we write in a triple quotes we refer to docstring of that user defined function"
   ]
  },
  {
   "cell_type": "code",
   "execution_count": 35,
   "id": "74688f0c-431a-4c7f-995a-a64619873448",
   "metadata": {},
   "outputs": [],
   "source": [
    "def test7(a,b,c,d):\n",
    "    return a,b,c,d\n"
   ]
  },
  {
   "cell_type": "code",
   "execution_count": 36,
   "id": "c37e598c-809b-41bb-97b7-132bf5e40371",
   "metadata": {},
   "outputs": [
    {
     "data": {
      "text/plain": [
       "(3, 4, 5, 6)"
      ]
     },
     "execution_count": 36,
     "metadata": {},
     "output_type": "execute_result"
    }
   ],
   "source": [
    "test7(3,4,5,6)"
   ]
  },
  {
   "cell_type": "code",
   "execution_count": 37,
   "id": "21c81830-afe3-4e7e-a2c4-b7d2d1785080",
   "metadata": {},
   "outputs": [],
   "source": [
    "def test8(*args):\n",
    "    \n",
    "# * refers to multiple input taker that i t has capacity of taking multiple input as many user needed\n",
    "    return args"
   ]
  },
  {
   "cell_type": "code",
   "execution_count": 41,
   "id": "f8a99194-b377-4a5a-b491-a43b1ea084cf",
   "metadata": {},
   "outputs": [
    {
     "data": {
      "text/plain": [
       "(1, 2, 3, 4, 5, 6, 78)"
      ]
     },
     "execution_count": 41,
     "metadata": {},
     "output_type": "execute_result"
    }
   ],
   "source": [
    "test8(1,2,3,4,5,6,78) # we can see hear that we are able to  include as many elements we can and print them "
   ]
  },
  {
   "cell_type": "code",
   "execution_count": 45,
   "id": "9893ac75-3384-45fa-af10-89db29976173",
   "metadata": {},
   "outputs": [],
   "source": [
    "def test9(*sudh):\n",
    "    return sudh"
   ]
  },
  {
   "cell_type": "code",
   "execution_count": 46,
   "id": "630bcad2-bea3-4329-9e36-68698dce2bb2",
   "metadata": {},
   "outputs": [
    {
     "data": {
      "text/plain": [
       "(1, 2, 3, 4, 5, 6, 9)"
      ]
     },
     "execution_count": 46,
     "metadata": {},
     "output_type": "execute_result"
    }
   ],
   "source": [
    "test9(1,2,3,4,5,6,9)"
   ]
  },
  {
   "cell_type": "code",
   "execution_count": 47,
   "id": "69009889-47d2-44a1-a757-fc3abc6cba1f",
   "metadata": {},
   "outputs": [],
   "source": [
    "def test10(*args,email_id=\"@gamil.com\"):\n",
    "    return args,email_id"
   ]
  },
  {
   "cell_type": "code",
   "execution_count": 48,
   "id": "75bbdeae-140e-43b4-8548-3336c5717959",
   "metadata": {},
   "outputs": [
    {
     "data": {
      "text/plain": [
       "((45, 5, 6, 7), '@gamil.com')"
      ]
     },
     "execution_count": 48,
     "metadata": {},
     "output_type": "execute_result"
    }
   ],
   "source": [
    "test10(45,5,6,7)"
   ]
  },
  {
   "cell_type": "raw",
   "id": "7ac052a2-b3e1-4125-b8f1-5ad02dcb30b2",
   "metadata": {},
   "source": [
    "for args it takes an input  and creates an tuple that holds both the multiple inputs of the user \n",
    "and prints also the default initiated variables as well"
   ]
  },
  {
   "cell_type": "code",
   "execution_count": 49,
   "id": "84a008ab-d5c3-46d2-a0dc-c1de244ce2b9",
   "metadata": {},
   "outputs": [],
   "source": [
    "def test12(**kwargs):\n",
    "          return kwargs"
   ]
  },
  {
   "cell_type": "code",
   "execution_count": 54,
   "id": "7b6802d1-0923-4625-92ff-efb0348a72d1",
   "metadata": {},
   "outputs": [
    {
     "ename": "TypeError",
     "evalue": "test12() takes 0 positional arguments but 4 were given",
     "output_type": "error",
     "traceback": [
      "\u001b[0;31m---------------------------------------------------------------------------\u001b[0m",
      "\u001b[0;31mTypeError\u001b[0m                                 Traceback (most recent call last)",
      "Cell \u001b[0;32mIn[54], line 1\u001b[0m\n\u001b[0;32m----> 1\u001b[0m \u001b[43mtest12\u001b[49m\u001b[43m(\u001b[49m\u001b[38;5;241;43m1\u001b[39;49m\u001b[43m,\u001b[49m\u001b[38;5;241;43m2\u001b[39;49m\u001b[43m,\u001b[49m\u001b[38;5;241;43m3\u001b[39;49m\u001b[43m,\u001b[49m\u001b[38;5;241;43m4\u001b[39;49m\u001b[43m)\u001b[49m\n",
      "\u001b[0;31mTypeError\u001b[0m: test12() takes 0 positional arguments but 4 were given"
     ]
    }
   ],
   "source": [
    "test12(1,2,3,4)"
   ]
  },
  {
   "cell_type": "raw",
   "id": "5dedc162-24fa-428e-8228-728b01016e72",
   "metadata": {},
   "source": [
    "**kwargs are used to define pair of  multi input arguments by the user that can accept two multiargs"
   ]
  },
  {
   "cell_type": "raw",
   "id": "0cea7885-9cee-4c51-aeb4-d86590f81f93",
   "metadata": {},
   "source": [
    "since two inputs has to be taken there must be initializattion of the variables before taking the input "
   ]
  },
  {
   "cell_type": "code",
   "execution_count": 56,
   "id": "6072a9e5-867c-4afc-ae1d-68a0982c415f",
   "metadata": {},
   "outputs": [
    {
     "data": {
      "text/plain": [
       "{'name': 'ram', 'mata': 'sita'}"
      ]
     },
     "execution_count": 56,
     "metadata": {},
     "output_type": "execute_result"
    }
   ],
   "source": [
    "test12(name='ram',mata='sita')"
   ]
  },
  {
   "cell_type": "raw",
   "id": "f133e0f4-60f1-43cd-b02c-647cfc430f23",
   "metadata": {},
   "source": [
    "not only two i can take as manyinputs from the user but user should define tha variables before runnning"
   ]
  },
  {
   "cell_type": "raw",
   "id": "210a8a72-7bab-402e-aa5e-65f33e305d53",
   "metadata": {},
   "source": [
    "** is used to input of multi args from the user that has to be initiated at the pssing of args "
   ]
  },
  {
   "cell_type": "code",
   "execution_count": null,
   "id": "a0a9423b-f948-4933-9653-0e844faa8b50",
   "metadata": {},
   "outputs": [],
   "source": []
  },
  {
   "cell_type": "markdown",
   "id": "ff9c3bab-aa09-4d5c-9b21-49d63b4f1c09",
   "metadata": {},
   "source": [
    "THE FUNCTION THAT IS NAMELESS IS CALLED LAMBDA FUNCTION "
   ]
  },
  {
   "cell_type": "code",
   "execution_count": 58,
   "id": "7ff65c1e-38fa-4c0a-929a-7c9d56d431db",
   "metadata": {},
   "outputs": [],
   "source": [
    " h = lambda a,b:a*b"
   ]
  },
  {
   "cell_type": "code",
   "execution_count": 59,
   "id": "79766170-1dfa-4a56-b633-a76999937105",
   "metadata": {},
   "outputs": [
    {
     "data": {
      "text/plain": [
       "6"
      ]
     },
     "execution_count": 59,
     "metadata": {},
     "output_type": "execute_result"
    }
   ],
   "source": [
    "h(2,3)"
   ]
  },
  {
   "cell_type": "code",
   "execution_count": 60,
   "id": "6358d5d7-2717-4849-987a-4404b8d83435",
   "metadata": {},
   "outputs": [],
   "source": [
    "h1= lambda a,b,c : a*b-c"
   ]
  },
  {
   "cell_type": "code",
   "execution_count": 61,
   "id": "7324e276-cd5c-4da9-b22b-26ddad866a46",
   "metadata": {},
   "outputs": [
    {
     "data": {
      "text/plain": [
       "6"
      ]
     },
     "execution_count": 61,
     "metadata": {},
     "output_type": "execute_result"
    }
   ],
   "source": [
    "h1( 4,2,2)"
   ]
  },
  {
   "cell_type": "code",
   "execution_count": 67,
   "id": "16acc1ad-c5a6-459d-b2a5-adf4b8fe251f",
   "metadata": {},
   "outputs": [],
   "source": [
    "def test14(l):\n",
    "    \"\"\"this function will take input as a list and add -10 to each  of the elements list\"\"\"\n",
    "    l1 = []\n",
    "    for i in l :\n",
    "        l1.append(i-10)\n",
    "    return l1\n"
   ]
  },
  {
   "cell_type": "code",
   "execution_count": 68,
   "id": "4dd14108-4054-47f1-b130-3f5ae94991f6",
   "metadata": {},
   "outputs": [
    {
     "data": {
      "text/plain": [
       "[-9, -8, -7, -6, -5, -4, -3, -2, -1]"
      ]
     },
     "execution_count": 68,
     "metadata": {},
     "output_type": "execute_result"
    }
   ],
   "source": [
    "test14([1,2,3,4,5,6,7,8,9])"
   ]
  },
  {
   "cell_type": "code",
   "execution_count": null,
   "id": "db4505fd-44b1-4bd4-b955-4dfbbc0c14e9",
   "metadata": {},
   "outputs": [],
   "source": []
  }
 ],
 "metadata": {
  "kernelspec": {
   "display_name": "Python 3 (ipykernel)",
   "language": "python",
   "name": "python3"
  },
  "language_info": {
   "codemirror_mode": {
    "name": "ipython",
    "version": 3
   },
   "file_extension": ".py",
   "mimetype": "text/x-python",
   "name": "python",
   "nbconvert_exporter": "python",
   "pygments_lexer": "ipython3",
   "version": "3.10.8"
  }
 },
 "nbformat": 4,
 "nbformat_minor": 5
}

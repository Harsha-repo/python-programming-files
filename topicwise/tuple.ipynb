{
 "cells": [
  {
   "cell_type": "code",
   "execution_count": 1,
   "id": "ef9e2e59-c91b-4824-a0a0-204c15585309",
   "metadata": {},
   "outputs": [],
   "source": [
    "t=()"
   ]
  },
  {
   "cell_type": "code",
   "execution_count": 2,
   "id": "3aa985b0-84f7-4473-bcc5-13fefff69fab",
   "metadata": {},
   "outputs": [
    {
     "data": {
      "text/plain": [
       "tuple"
      ]
     },
     "execution_count": 2,
     "metadata": {},
     "output_type": "execute_result"
    }
   ],
   "source": [
    "type(t)"
   ]
  },
  {
   "cell_type": "markdown",
   "id": "38fc0e03-4bb7-46ff-a9f5-4b35fb4f60c3",
   "metadata": {},
   "source": [
    "is tuple python reads as "
   ]
  },
  {
   "cell_type": "code",
   "execution_count": 3,
   "id": "1555b7df-aba0-4acc-832a-3f5409393cce",
   "metadata": {},
   "outputs": [],
   "source": [
    "t1=(6+1j,2,3,4,'truth',True,5)"
   ]
  },
  {
   "cell_type": "code",
   "execution_count": 4,
   "id": "0ccc4cb0-018f-424a-a5e7-e1ccfd6289dc",
   "metadata": {},
   "outputs": [
    {
     "data": {
      "text/plain": [
       "tuple"
      ]
     },
     "execution_count": 4,
     "metadata": {},
     "output_type": "execute_result"
    }
   ],
   "source": [
    "type(t1)"
   ]
  },
  {
   "cell_type": "code",
   "execution_count": 5,
   "id": "f2e78be8-9e3d-4594-a5ed-22cc2bccf027",
   "metadata": {},
   "outputs": [
    {
     "data": {
      "text/plain": [
       "True"
      ]
     },
     "execution_count": 5,
     "metadata": {},
     "output_type": "execute_result"
    }
   ],
   "source": [
    "t1[5]"
   ]
  },
  {
   "cell_type": "code",
   "execution_count": 6,
   "id": "eb6a887f-68f8-49e7-8890-c1b3e0959e9d",
   "metadata": {},
   "outputs": [
    {
     "data": {
      "text/plain": [
       "4"
      ]
     },
     "execution_count": 6,
     "metadata": {},
     "output_type": "execute_result"
    }
   ],
   "source": [
    "t1[3]"
   ]
  },
  {
   "cell_type": "code",
   "execution_count": 7,
   "id": "7e427527-f6f5-4722-b9cc-867080e036f5",
   "metadata": {},
   "outputs": [
    {
     "ename": "TypeError",
     "evalue": "'tuple' object does not support item assignment",
     "output_type": "error",
     "traceback": [
      "\u001b[0;31m---------------------------------------------------------------------------\u001b[0m",
      "\u001b[0;31mTypeError\u001b[0m                                 Traceback (most recent call last)",
      "Cell \u001b[0;32mIn[7], line 1\u001b[0m\n\u001b[0;32m----> 1\u001b[0m \u001b[43mt1\u001b[49m\u001b[43m[\u001b[49m\u001b[38;5;241;43m5\u001b[39;49m\u001b[43m]\u001b[49m\u001b[38;5;241m=\u001b[39m\u001b[38;5;124m'\u001b[39m\u001b[38;5;124msudh\u001b[39m\u001b[38;5;124m'\u001b[39m\n",
      "\u001b[0;31mTypeError\u001b[0m: 'tuple' object does not support item assignment"
     ]
    }
   ],
   "source": [
    "t1[5]='sudh'"
   ]
  },
  {
   "cell_type": "markdown",
   "id": "c1c25eba-c3fa-4d00-8118-9af380deb1e6",
   "metadata": {},
   "source": [
    "tuples do not support the immutability  it is mutable\n",
    "* but in case  of list it is possible \n",
    "* we can alter the elements of the list "
   ]
  },
  {
   "cell_type": "code",
   "execution_count": 8,
   "id": "10581cf5-8a42-4f0b-87c5-8a51b7bea9cc",
   "metadata": {},
   "outputs": [
    {
     "data": {
      "text/plain": [
       "()"
      ]
     },
     "execution_count": 8,
     "metadata": {},
     "output_type": "execute_result"
    }
   ],
   "source": [
    "t"
   ]
  },
  {
   "cell_type": "code",
   "execution_count": 9,
   "id": "8ac8c907-82ce-480c-bcf8-cbed698dabc3",
   "metadata": {},
   "outputs": [
    {
     "data": {
      "text/plain": [
       "((6+1j), 2, 3, 4, 'truth', True, 5)"
      ]
     },
     "execution_count": 9,
     "metadata": {},
     "output_type": "execute_result"
    }
   ],
   "source": [
    "t1"
   ]
  },
  {
   "cell_type": "code",
   "execution_count": 10,
   "id": "d7cfdb74-144d-4556-be87-5d87433b7852",
   "metadata": {},
   "outputs": [
    {
     "data": {
      "text/plain": [
       "[(6+1j), 2, 3, 4, 'truth', True, 5]"
      ]
     },
     "execution_count": 10,
     "metadata": {},
     "output_type": "execute_result"
    }
   ],
   "source": [
    "list(t1)"
   ]
  },
  {
   "cell_type": "markdown",
   "id": "6870edce-48b3-4e3b-8c89-7491c180980d",
   "metadata": {},
   "source": [
    "wow now tupels got converted to list"
   ]
  },
  {
   "cell_type": "code",
   "execution_count": 19,
   "id": "5659ed59-c48a-40f1-b3cb-8e2c361afbfd",
   "metadata": {},
   "outputs": [
    {
     "data": {
      "text/plain": [
       "\"((6+1j), 2, 3, 4, 'truth', True, 5)\""
      ]
     },
     "execution_count": 19,
     "metadata": {},
     "output_type": "execute_result"
    }
   ],
   "source": [
    "str(t1)"
   ]
  },
  {
   "cell_type": "code",
   "execution_count": 20,
   "id": "a791fe42-6161-4fba-bfa8-9388c1ed813f",
   "metadata": {},
   "outputs": [
    {
     "data": {
      "text/plain": [
       "((6+1j), 2, 3, 4, 'truth', True, 5)"
      ]
     },
     "execution_count": 20,
     "metadata": {},
     "output_type": "execute_result"
    }
   ],
   "source": [
    "t1"
   ]
  },
  {
   "cell_type": "code",
   "execution_count": 21,
   "id": "783d9c14-28c1-421d-9173-ec53aba22319",
   "metadata": {},
   "outputs": [
    {
     "data": {
      "text/plain": [
       "0"
      ]
     },
     "execution_count": 21,
     "metadata": {},
     "output_type": "execute_result"
    }
   ],
   "source": [
    "t1.count(100) # checking of a character inside the tuple"
   ]
  },
  {
   "cell_type": "code",
   "execution_count": 22,
   "id": "62de7425-7722-49bf-8bbf-bc582d77d30a",
   "metadata": {},
   "outputs": [
    {
     "data": {
      "text/plain": [
       "1"
      ]
     },
     "execution_count": 22,
     "metadata": {},
     "output_type": "execute_result"
    }
   ],
   "source": [
    " t1.count('truth')"
   ]
  },
  {
   "cell_type": "code",
   "execution_count": 23,
   "id": "e450b707-d565-4340-bb50-511f00bd1820",
   "metadata": {},
   "outputs": [
    {
     "data": {
      "text/plain": [
       "4"
      ]
     },
     "execution_count": 23,
     "metadata": {},
     "output_type": "execute_result"
    }
   ],
   "source": [
    "t1.index('truth')"
   ]
  },
  {
   "cell_type": "markdown",
   "id": "d3b4bb5a-9a8a-4aeb-a785-d1aac492f8bb",
   "metadata": {},
   "source": [
    "get the index of the particular element"
   ]
  },
  {
   "cell_type": "code",
   "execution_count": 24,
   "id": "f7b327e5-3354-453e-9c23-e1cf8537280d",
   "metadata": {},
   "outputs": [],
   "source": [
    "t2=('tru',3,5,6,5,'tru')"
   ]
  },
  {
   "cell_type": "code",
   "execution_count": 25,
   "id": "c3763ffd-d2bd-4e18-aae7-a8eead052a95",
   "metadata": {},
   "outputs": [
    {
     "data": {
      "text/plain": [
       "2"
      ]
     },
     "execution_count": 25,
     "metadata": {},
     "output_type": "execute_result"
    }
   ],
   "source": [
    "t2.count('tru')"
   ]
  },
  {
   "cell_type": "markdown",
   "id": "acd55ebb-f18e-4b67-8e26-92f5e9aa2526",
   "metadata": {},
   "source": [
    "t2.index('tru')"
   ]
  },
  {
   "cell_type": "markdown",
   "id": "1cfb1529-a874-4a03-8d3c-4e5759da091d",
   "metadata": {},
   "source": [
    "even though there is repetation of 'tru' its index will be shown for the first one"
   ]
  },
  {
   "cell_type": "code",
   "execution_count": 26,
   "id": "56b11185-5973-4997-bc22-1ecc22511442",
   "metadata": {},
   "outputs": [
    {
     "data": {
      "text/plain": [
       "('tru', 3, 5, 6, 5, 'tru')"
      ]
     },
     "execution_count": 26,
     "metadata": {},
     "output_type": "execute_result"
    }
   ],
   "source": [
    "t2"
   ]
  },
  {
   "cell_type": "code",
   "execution_count": 27,
   "id": "a54cb493-2f58-4e76-9e01-dcdba531d02d",
   "metadata": {},
   "outputs": [
    {
     "data": {
      "text/plain": [
       "((6+1j), 2, 3, 4, 'truth', True, 5)"
      ]
     },
     "execution_count": 27,
     "metadata": {},
     "output_type": "execute_result"
    }
   ],
   "source": [
    "t1"
   ]
  },
  {
   "cell_type": "code",
   "execution_count": 28,
   "id": "dfd42661-a930-499d-ba2b-48433292f89c",
   "metadata": {},
   "outputs": [
    {
     "data": {
      "text/plain": [
       "[(6+1j), 2, 3, 4, 'truth', True, 5]"
      ]
     },
     "execution_count": 28,
     "metadata": {},
     "output_type": "execute_result"
    }
   ],
   "source": [
    "list(t1)"
   ]
  },
  {
   "cell_type": "code",
   "execution_count": 29,
   "id": "fe5aaf32-0ee1-441b-bf1e-02231128b836",
   "metadata": {},
   "outputs": [
    {
     "data": {
      "text/plain": [
       "((6+1j), 2, 3, 4, 'truth', True, 5)"
      ]
     },
     "execution_count": 29,
     "metadata": {},
     "output_type": "execute_result"
    }
   ],
   "source": [
    "t1"
   ]
  },
  {
   "cell_type": "code",
   "execution_count": 30,
   "id": "d4028f56-ec56-47fb-89d6-973da87aabc9",
   "metadata": {},
   "outputs": [
    {
     "data": {
      "text/plain": [
       "{(6+1j), 2, 3, 4, 5, True, 'truth'}"
      ]
     },
     "execution_count": 30,
     "metadata": {},
     "output_type": "execute_result"
    }
   ],
   "source": [
    "set(t1)"
   ]
  },
  {
   "cell_type": "code",
   "execution_count": null,
   "id": "4236e196-7c17-441a-960b-12ae45c93a6c",
   "metadata": {},
   "outputs": [],
   "source": []
  }
 ],
 "metadata": {
  "kernelspec": {
   "display_name": "Python 3 (ipykernel)",
   "language": "python",
   "name": "python3"
  },
  "language_info": {
   "codemirror_mode": {
    "name": "ipython",
    "version": 3
   },
   "file_extension": ".py",
   "mimetype": "text/x-python",
   "name": "python",
   "nbconvert_exporter": "python",
   "pygments_lexer": "ipython3",
   "version": "3.10.8"
  }
 },
 "nbformat": 4,
 "nbformat_minor": 5
}

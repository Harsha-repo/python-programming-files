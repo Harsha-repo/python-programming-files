{
 "cells": [
  {
   "cell_type": "code",
   "execution_count": 1,
   "id": "e016f3f5-da91-47fb-a9fb-b04c06a1a970",
   "metadata": {},
   "outputs": [],
   "source": [
    "s={}"
   ]
  },
  {
   "cell_type": "code",
   "execution_count": 2,
   "id": "d37ce3e3-29c0-4a5e-b107-3de1d28c7aa3",
   "metadata": {},
   "outputs": [
    {
     "data": {
      "text/plain": [
       "dict"
      ]
     },
     "execution_count": 2,
     "metadata": {},
     "output_type": "execute_result"
    }
   ],
   "source": [
    "type(s)"
   ]
  },
  {
   "cell_type": "code",
   "execution_count": 3,
   "id": "c599c24c-91d0-4219-9821-77495b291869",
   "metadata": {},
   "outputs": [],
   "source": [
    "s={2,3,2,3}"
   ]
  },
  {
   "cell_type": "code",
   "execution_count": 4,
   "id": "eea00b34-7a3c-46ca-bd64-654e7776b16e",
   "metadata": {},
   "outputs": [
    {
     "data": {
      "text/plain": [
       "set"
      ]
     },
     "execution_count": 4,
     "metadata": {},
     "output_type": "execute_result"
    }
   ],
   "source": [
    "type(s)\n"
   ]
  },
  {
   "cell_type": "markdown",
   "id": "f418a9b4-88b1-474c-a7f0-6dcfe8eefbd1",
   "metadata": {},
   "source": [
    "when u fill data then it shows set other vice it behaves as dictionary"
   ]
  },
  {
   "cell_type": "code",
   "execution_count": 4,
   "id": "27016a8e-f426-48f1-8f4d-0b4fbce2b841",
   "metadata": {},
   "outputs": [],
   "source": [
    "d={}\n"
   ]
  },
  {
   "cell_type": "code",
   "execution_count": 5,
   "id": "f793c186-c946-48ef-85bd-9642c4ba92d1",
   "metadata": {},
   "outputs": [
    {
     "data": {
      "text/plain": [
       "dict"
      ]
     },
     "execution_count": 5,
     "metadata": {},
     "output_type": "execute_result"
    }
   ],
   "source": [
    "type(d)"
   ]
  },
  {
   "cell_type": "markdown",
   "id": "7f72ae5b-d19c-4e9b-ad71-149c2232dd2c",
   "metadata": {},
   "source": [
    "declaration of dictionary"
   ]
  },
  {
   "cell_type": "markdown",
   "id": "8eb91c14-b263-424a-9829-84523001552e",
   "metadata": {},
   "source": [
    "dictionary defined by two components\n",
    "* key /\n",
    "* value "
   ]
  },
  {
   "cell_type": "code",
   "execution_count": 6,
   "id": "67ccee01-e5d8-4f84-a382-6f3cd37eb21d",
   "metadata": {},
   "outputs": [],
   "source": [
    "\n",
    "d={'a': 1}"
   ]
  },
  {
   "cell_type": "code",
   "execution_count": 7,
   "id": "303c5d3d",
   "metadata": {},
   "outputs": [
    {
     "data": {
      "text/plain": [
       "dict"
      ]
     },
     "execution_count": 7,
     "metadata": {},
     "output_type": "execute_result"
    }
   ],
   "source": [
    "type(d)"
   ]
  },
  {
   "cell_type": "code",
   "execution_count": 8,
   "id": "5752f7b7-975c-4e7d-8f33-b2e6c569fcb4",
   "metadata": {},
   "outputs": [
    {
     "data": {
      "text/plain": [
       "1"
      ]
     },
     "execution_count": 8,
     "metadata": {},
     "output_type": "execute_result"
    }
   ],
   "source": [
    "d['a']"
   ]
  },
  {
   "cell_type": "markdown",
   "id": "a7b07da2-6899-45eb-8088-5792fde437c4",
   "metadata": {},
   "source": [
    "here 'a' is the key word indexing the number 1 "
   ]
  },
  {
   "cell_type": "code",
   "execution_count": 6,
   "id": "1badaf85-7f9b-4609-9de5-d2dda15eebea",
   "metadata": {},
   "outputs": [],
   "source": [
    "d={'name':'harsha'}"
   ]
  },
  {
   "cell_type": "markdown",
   "id": "61a4dfd4",
   "metadata": {},
   "source": [
    "this dictionary is same as list \n",
    "but in list the indexing is done by the computer internally\n",
    "in dictionary user does the indexing\n",
    "if user need to label the index of his own then he can use dictionary"
   ]
  },
  {
   "cell_type": "markdown",
   "id": "6e1eba4c-bfb4-4352-939f-d86bf2166dc9",
   "metadata": {},
   "source": [
    "here' name 'is indexing the word 'harsha' ;"
   ]
  },
  {
   "cell_type": "code",
   "execution_count": 9,
   "id": "ff9f79a1-69c6-437c-b5ba-ba983586e43b",
   "metadata": {},
   "outputs": [
    {
     "ename": "KeyError",
     "evalue": "'name'",
     "output_type": "error",
     "traceback": [
      "\u001b[1;31m---------------------------------------------------------------------------\u001b[0m",
      "\u001b[1;31mKeyError\u001b[0m                                  Traceback (most recent call last)",
      "Cell \u001b[1;32mIn[9], line 1\u001b[0m\n\u001b[1;32m----> 1\u001b[0m \u001b[43md\u001b[49m\u001b[43m[\u001b[49m\u001b[38;5;124;43m'\u001b[39;49m\u001b[38;5;124;43mname\u001b[39;49m\u001b[38;5;124;43m'\u001b[39;49m\u001b[43m]\u001b[49m\n",
      "\u001b[1;31mKeyError\u001b[0m: 'name'"
     ]
    }
   ],
   "source": [
    "d['name']"
   ]
  },
  {
   "cell_type": "code",
   "execution_count": 10,
   "id": "53c6e9c9-1838-459e-a14d-4f640fc7776a",
   "metadata": {},
   "outputs": [],
   "source": [
    "d2={234234:'harsha'}"
   ]
  },
  {
   "cell_type": "code",
   "execution_count": 11,
   "id": "c4b07f50-be54-4a04-96f2-9233d75e4ca6",
   "metadata": {},
   "outputs": [
    {
     "data": {
      "text/plain": [
       "'harsha'"
      ]
     },
     "execution_count": 11,
     "metadata": {},
     "output_type": "execute_result"
    }
   ],
   "source": [
    "d2[234234]"
   ]
  },
  {
   "cell_type": "markdown",
   "id": "c7666a88-0d26-4fb1-afeb-9776807e9bd6",
   "metadata": {},
   "source": [
    "key name should not with the special character including'_'\n",
    "within the string the special charcters are allowed "
   ]
  },
  {
   "cell_type": "markdown",
   "id": "e39a51e8-4ddb-49e6-a55c-51fff54b58bd",
   "metadata": {},
   "source": [
    "using a list as an key word "
   ]
  },
  {
   "cell_type": "code",
   "execution_count": 12,
   "id": "26651920-6244-49dc-9faa-1b7fa3e4e982",
   "metadata": {},
   "outputs": [
    {
     "ename": "TypeError",
     "evalue": "unhashable type: 'list'",
     "output_type": "error",
     "traceback": [
      "\u001b[1;31m---------------------------------------------------------------------------\u001b[0m",
      "\u001b[1;31mTypeError\u001b[0m                                 Traceback (most recent call last)",
      "Cell \u001b[1;32mIn[12], line 1\u001b[0m\n\u001b[1;32m----> 1\u001b[0m d3\u001b[38;5;241m=\u001b[39m{[\u001b[38;5;241m1\u001b[39m,\u001b[38;5;241m2\u001b[39m,\u001b[38;5;241m3\u001b[39m]:\u001b[38;5;124m'\u001b[39m\u001b[38;5;124mharsha\u001b[39m\u001b[38;5;124m'\u001b[39m}\n",
      "\u001b[1;31mTypeError\u001b[0m: unhashable type: 'list'"
     ]
    }
   ],
   "source": [
    "d3={[1,2,3]:'harsha'}"
   ]
  },
  {
   "cell_type": "markdown",
   "id": "e4faaa06-9460-4176-9ac9-c1bf73290f64",
   "metadata": {},
   "source": [
    "we cannot use a list in place of key word as name  , ( because mutable property )"
   ]
  },
  {
   "cell_type": "markdown",
   "id": "e246f6cb-2f66-4600-ad13-8de9d85cb7cd",
   "metadata": {},
   "source": [
    "* tuple as a key word "
   ]
  },
  {
   "cell_type": "code",
   "execution_count": 13,
   "id": "66bb7c10-150e-4525-8332-ae0b11cc83eb",
   "metadata": {},
   "outputs": [],
   "source": [
    "d4={(1,2,3):'harsha '}\n"
   ]
  },
  {
   "cell_type": "code",
   "execution_count": 16,
   "id": "55b49cba-6ef7-48c2-a10f-51d189b9632b",
   "metadata": {},
   "outputs": [
    {
     "data": {
      "text/plain": [
       "'harsha '"
      ]
     },
     "execution_count": 16,
     "metadata": {},
     "output_type": "execute_result"
    }
   ],
   "source": [
    "d4[(1,2,3)]"
   ]
  },
  {
   "cell_type": "markdown",
   "id": "c9b7ee49-160b-4939-be66-ae23dee42ffd",
   "metadata": {},
   "source": [
    "* a tuple an be used as a keyword of the dictionary because\n",
    "it s having a property immutability(cannot alter the particular index character)"
   ]
  },
  {
   "cell_type": "code",
   "execution_count": 14,
   "id": "34ae8916-8a83-4a22-a6ca-f39e03da414e",
   "metadata": {},
   "outputs": [],
   "source": [
    "d5={True:'harsha'}"
   ]
  },
  {
   "cell_type": "code",
   "execution_count": null,
   "id": "cd3a5c37",
   "metadata": {},
   "outputs": [],
   "source": []
  },
  {
   "cell_type": "markdown",
   "id": "fe7a5406-643e-4afe-a2dd-4eaaf7f16620",
   "metadata": {},
   "source": [
    "dict as a key word of dictionary"
   ]
  },
  {
   "cell_type": "code",
   "execution_count": 18,
   "id": "3c9ae5ea-9f60-49d1-8ba8-e35164eb452d",
   "metadata": {},
   "outputs": [
    {
     "ename": "TypeError",
     "evalue": "unhashable type: 'set'",
     "output_type": "error",
     "traceback": [
      "\u001b[0;31m---------------------------------------------------------------------------\u001b[0m",
      "\u001b[0;31mTypeError\u001b[0m                                 Traceback (most recent call last)",
      "Cell \u001b[0;32mIn[18], line 1\u001b[0m\n\u001b[0;32m----> 1\u001b[0m d6\u001b[38;5;241m=\u001b[39m{{\u001b[38;5;241m34\u001b[39m}: \u001b[38;5;124m'\u001b[39m\u001b[38;5;124mharsha\u001b[39m\u001b[38;5;124m'\u001b[39m}\n",
      "\u001b[0;31mTypeError\u001b[0m: unhashable type: 'set'"
     ]
    }
   ],
   "source": [
    "d6={{34}: 'harsha'}"
   ]
  },
  {
   "cell_type": "code",
   "execution_count": 15,
   "id": "fdb28cec-9367-4276-976d-87b36a068847",
   "metadata": {},
   "outputs": [],
   "source": [
    "d7={'name':'harsha','name': 'srinivas'}"
   ]
  },
  {
   "cell_type": "code",
   "execution_count": 20,
   "id": "e7851371-c287-4f2c-b5c9-6c069a54c84e",
   "metadata": {},
   "outputs": [
    {
     "data": {
      "text/plain": [
       "{'name': 'srinivas'}"
      ]
     },
     "execution_count": 20,
     "metadata": {},
     "output_type": "execute_result"
    }
   ],
   "source": [
    "d7"
   ]
  },
  {
   "cell_type": "markdown",
   "id": "5eef0cbb-2068-49c5-b895-f87e28ae9c4b",
   "metadata": {},
   "source": [
    "key will always be unique hence it takes only one key word then \n",
    "the early key value is overwritten by the latest value\n",
    "hence the result is srinvias"
   ]
  },
  {
   "cell_type": "code",
   "execution_count": 4,
   "id": "b3bfe918-24d8-48c8-bdba-178ce46a6abf",
   "metadata": {},
   "outputs": [],
   "source": [
    "msg = 'this is python lab . this is e2 batch'\n",
    " # split function divides each word of the sentence according to the spaces  in the sentence if punctuations are not specified \n",
    "msg1=msg.split()"
   ]
  },
  {
   "cell_type": "code",
   "execution_count": 6,
   "id": "61d8c6f1-f80a-4a20-8772-6586dd0edd8d",
   "metadata": {},
   "outputs": [
    {
     "data": {
      "text/plain": [
       "['this', 'is', 'python', 'lab', '.', 'this', 'is', 'e2', 'batch']"
      ]
     },
     "execution_count": 6,
     "metadata": {},
     "output_type": "execute_result"
    }
   ],
   "source": [
    "msg1"
   ]
  },
  {
   "cell_type": "code",
   "execution_count": 7,
   "id": "23ff6a2c-ba93-46b3-9e08-1d5c90b8d7bd",
   "metadata": {},
   "outputs": [
    {
     "data": {
      "text/plain": [
       "{' ',\n",
       " '.',\n",
       " '2',\n",
       " 'a',\n",
       " 'b',\n",
       " 'c',\n",
       " 'e',\n",
       " 'h',\n",
       " 'i',\n",
       " 'l',\n",
       " 'n',\n",
       " 'o',\n",
       " 'p',\n",
       " 's',\n",
       " 't',\n",
       " 'y'}"
      ]
     },
     "execution_count": 7,
     "metadata": {},
     "output_type": "execute_result"
    }
   ],
   "source": [
    "set(msg) # sorts the each and every character  in order and do not print duplicate elements all are sperated with commas"
   ]
  },
  {
   "cell_type": "code",
   "execution_count": 68,
   "id": "0f2c380a-ff60-4df0-b9f5-5f313e9bd429",
   "metadata": {},
   "outputs": [],
   "source": [
    "d8 = {'k':1,'b':6,'c':6,'l':2,'a':6,'i':6}"
   ]
  },
  {
   "cell_type": "code",
   "execution_count": 74,
   "id": "2ba62621",
   "metadata": {},
   "outputs": [
    {
     "name": "stdout",
     "output_type": "stream",
     "text": [
      "6\n",
      "winner is  a\n"
     ]
    }
   ],
   "source": [
    "#election to elect the cr of the class and process is candidates gets the vote and if there is any clash in the count \n",
    "#alphabetically order id followed and made him as the winner\n",
    "d8 = {'k':1,'b':6,'c':6,'l':2,'a':6,'i':6}\n",
    "result =  max(d8.values())\n",
    "print(result)\n",
    "l=[]\n",
    "for key,value in d8.items():\n",
    "    if value==result:\n",
    "        #k=key\n",
    "        l.append(key)\n",
    "l=sorted(l)\n",
    "\n",
    "print('winner is ',l[0])\n",
    "\n",
    "\n"
   ]
  },
  {
   "cell_type": "code",
   "execution_count": 19,
   "id": "cc4276c1-66f9-4053-a15b-0ee0dafda740",
   "metadata": {},
   "outputs": [
    {
     "data": {
      "text/plain": [
       "dict_keys(['a', 'b', 'c', 'l'])"
      ]
     },
     "execution_count": 19,
     "metadata": {},
     "output_type": "execute_result"
    }
   ],
   "source": [
    "# all the keys  present in the dictionary\n",
    "d8.keys()"
   ]
  },
  {
   "cell_type": "code",
   "execution_count": 75,
   "id": "ad665d7a-4aab-484d-b188-fe1a942d150f",
   "metadata": {},
   "outputs": [
    {
     "data": {
      "text/plain": [
       "dict_items([('k', 1), ('b', 6), ('c', 6), ('l', 2), ('a', 6), ('i', 6)])"
      ]
     },
     "execution_count": 75,
     "metadata": {},
     "output_type": "execute_result"
    }
   ],
   "source": [
    "#all the items means key value paires are printed   of the dictionay\n",
    "d8.items()"
   ]
  },
  {
   "cell_type": "code",
   "execution_count": 21,
   "id": "6da7c90a-8617-4cf7-99b0-6c7fdf2dbc40",
   "metadata": {},
   "outputs": [
    {
     "data": {
      "text/plain": [
       "dict_values([1, 4, 6, 2])"
      ]
     },
     "execution_count": 21,
     "metadata": {},
     "output_type": "execute_result"
    }
   ],
   "source": [
    "d8.values()"
   ]
  },
  {
   "cell_type": "code",
   "execution_count": 22,
   "id": "ecd01b3b-b736-4829-ba23-045bb08c3f11",
   "metadata": {},
   "outputs": [
    {
     "data": {
      "text/plain": [
       "4"
      ]
     },
     "execution_count": 22,
     "metadata": {},
     "output_type": "execute_result"
    }
   ],
   "source": [
    "d8.get('b')"
   ]
  },
  {
   "cell_type": "code",
   "execution_count": 15,
   "id": "843058fa-4965-40e5-9fd4-7dd2ef64b51a",
   "metadata": {},
   "outputs": [],
   "source": [
    "l=list(d8)"
   ]
  },
  {
   "cell_type": "code",
   "execution_count": 79,
   "id": "df19e4f0",
   "metadata": {},
   "outputs": [
    {
     "data": {
      "text/plain": [
       "{'k': 1, 'b': 6, 'c': 6, 'l': 2, 'a': 6, 'i': 6}"
      ]
     },
     "execution_count": 79,
     "metadata": {},
     "output_type": "execute_result"
    }
   ],
   "source": [
    "d8"
   ]
  },
  {
   "cell_type": "code",
   "execution_count": 80,
   "id": "3130d805-1867-4110-aea5-d268cc150bd6",
   "metadata": {},
   "outputs": [
    {
     "name": "stdout",
     "output_type": "stream",
     "text": [
      "['a', 'b', 'c', 'i']\n"
     ]
    }
   ],
   "source": [
    "l.sort(key=d8.get)\n",
    "print(l)"
   ]
  },
  {
   "cell_type": "code",
   "execution_count": 17,
   "id": "664168d8-fc68-400e-ab6c-e74b79b87f36",
   "metadata": {},
   "outputs": [
    {
     "name": "stdout",
     "output_type": "stream",
     "text": [
      "Pretty printing has been turned OFF\n"
     ]
    }
   ],
   "source": [
    "pprint(d8)"
   ]
  },
  {
   "cell_type": "code",
   "execution_count": 9,
   "id": "290de8b0-e891-42bc-99c1-35e146d00871",
   "metadata": {},
   "outputs": [
    {
     "ename": "SyntaxError",
     "evalue": "invalid syntax (4280260427.py, line 1)",
     "output_type": "error",
     "traceback": [
      "\u001b[0;36m  Cell \u001b[0;32mIn[9], line 1\u001b[0;36m\u001b[0m\n\u001b[0;31m    on pprintng\u001b[0m\n\u001b[0m       ^\u001b[0m\n\u001b[0;31mSyntaxError\u001b[0m\u001b[0;31m:\u001b[0m invalid syntax\n"
     ]
    }
   ],
   "source": []
  },
  {
   "cell_type": "code",
   "execution_count": 83,
   "id": "65bf20c3-1f50-4e64-9f67-8ec182a0beeb",
   "metadata": {},
   "outputs": [
    {
     "ename": "AttributeError",
     "evalue": "'str' object has no attribute 'str'",
     "output_type": "error",
     "traceback": [
      "\u001b[1;31m---------------------------------------------------------------------------\u001b[0m",
      "\u001b[1;31mAttributeError\u001b[0m                            Traceback (most recent call last)",
      "Cell \u001b[1;32mIn[83], line 3\u001b[0m\n\u001b[0;32m      1\u001b[0m \u001b[38;5;28mstr\u001b[39m \u001b[38;5;241m=\u001b[39m \u001b[38;5;124m'\u001b[39m\u001b[38;5;124maeiou\u001b[39m\u001b[38;5;124m'\u001b[39m\n\u001b[0;32m      2\u001b[0m \u001b[38;5;28;01mfor\u001b[39;00m i \u001b[38;5;129;01min\u001b[39;00m \u001b[38;5;28mstr\u001b[39m:\n\u001b[1;32m----> 3\u001b[0m     \u001b[38;5;28mprint\u001b[39m(\u001b[43mi\u001b[49m\u001b[38;5;241;43m.\u001b[39;49m\u001b[43mstr\u001b[49m)\n\u001b[0;32m      4\u001b[0m     \u001b[38;5;28;01mif\u001b[39;00m \u001b[38;5;28mstr\u001b[39m\u001b[38;5;241m.\u001b[39mi \u001b[38;5;241m==\u001b[39m \u001b[38;5;124m'\u001b[39m\u001b[38;5;124ma\u001b[39m\u001b[38;5;124m'\u001b[39m \u001b[38;5;129;01mand\u001b[39;00m i\u001b[38;5;241m.\u001b[39mstr\u001b[38;5;241m==\u001b[39m\u001b[38;5;124m'\u001b[39m\u001b[38;5;124me\u001b[39m\u001b[38;5;124m'\u001b[39m \u001b[38;5;129;01mand\u001b[39;00m i\u001b[38;5;241m.\u001b[39mstr\u001b[38;5;241m==\u001b[39m\u001b[38;5;124m'\u001b[39m\u001b[38;5;124mi\u001b[39m\u001b[38;5;124m'\u001b[39m \u001b[38;5;129;01mand\u001b[39;00m i\u001b[38;5;241m.\u001b[39mstr\u001b[38;5;241m==\u001b[39m\u001b[38;5;124m'\u001b[39m\u001b[38;5;124mo\u001b[39m\u001b[38;5;124m'\u001b[39m \u001b[38;5;129;01mand\u001b[39;00m i\u001b[38;5;241m.\u001b[39mstr\u001b[38;5;241m==\u001b[39m\u001b[38;5;124m'\u001b[39m\u001b[38;5;124mu\u001b[39m\u001b[38;5;124m'\u001b[39m:\n\u001b[0;32m      5\u001b[0m         \u001b[38;5;28mprint\u001b[39m(\u001b[38;5;124m'\u001b[39m\u001b[38;5;124mit is havong alll vowels\u001b[39m\u001b[38;5;124m'\u001b[39m)\n",
      "\u001b[1;31mAttributeError\u001b[0m: 'str' object has no attribute 'str'"
     ]
    }
   ],
   "source": [
    "str = 'aeiou'\n",
    "for i in str:\n",
    "    print(i.str)\n",
    "    if str.i == 'a' and i.str=='e' and i.str=='i' and i.str=='o' and i.str=='u':\n",
    "        print('it is havong alll vowels')\n",
    "    else:\n",
    "        print('no string  is having alll the vowels')"
   ]
  },
  {
   "cell_type": "code",
   "execution_count": null,
   "id": "e3b02e42-eb52-4a88-9c89-72c056ceba78",
   "metadata": {},
   "outputs": [],
   "source": []
  },
  {
   "cell_type": "code",
   "execution_count": null,
   "id": "4a4ae530-ecbf-4f59-8067-cd5838e4bcb3",
   "metadata": {},
   "outputs": [],
   "source": []
  }
 ],
 "metadata": {
  "kernelspec": {
   "display_name": "Python 3 (ipykernel)",
   "language": "python",
   "name": "python3"
  },
  "language_info": {
   "codemirror_mode": {
    "name": "ipython",
    "version": 3
   },
   "file_extension": ".py",
   "mimetype": "text/x-python",
   "name": "python",
   "nbconvert_exporter": "python",
   "pygments_lexer": "ipython3",
   "version": "3.11.9"
  }
 },
 "nbformat": 4,
 "nbformat_minor": 5
}

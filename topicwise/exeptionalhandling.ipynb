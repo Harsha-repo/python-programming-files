{
 "cells": [
  {
   "cell_type": "code",
   "execution_count": 1,
   "id": "aa886667-2005-496a-9bf1-52b2fa753005",
   "metadata": {},
   "outputs": [
    {
     "ename": "SyntaxError",
     "evalue": "unterminated string literal (detected at line 1) (3925650703.py, line 1)",
     "output_type": "error",
     "traceback": [
      "\u001b[0;36m  Cell \u001b[0;32mIn[1], line 1\u001b[0;36m\u001b[0m\n\u001b[0;31m    print('this is my python class)\u001b[0m\n\u001b[0m          ^\u001b[0m\n\u001b[0;31mSyntaxError\u001b[0m\u001b[0;31m:\u001b[0m unterminated string literal (detected at line 1)\n"
     ]
    }
   ],
   "source": [
    "print('this is my python class)"
   ]
  },
  {
   "cell_type": "code",
   "execution_count": 7,
   "id": "6a367f58-b8da-4ecf-a247-c352dfe22e3b",
   "metadata": {},
   "outputs": [
    {
     "name": "stdout",
     "output_type": "stream",
     "text": [
      "enter a number 0\n"
     ]
    }
   ],
   "source": [
    "a= int(input('enter a number'))\n"
   ]
  },
  {
   "cell_type": "code",
   "execution_count": 10,
   "id": "8434992b-f7c3-49f2-8306-d212cb5f97ea",
   "metadata": {},
   "outputs": [
    {
     "ename": "ZeroDivisionError",
     "evalue": "division by zero",
     "output_type": "error",
     "traceback": [
      "\u001b[0;31m---------------------------------------------------------------------------\u001b[0m",
      "\u001b[0;31mZeroDivisionError\u001b[0m                         Traceback (most recent call last)",
      "Cell \u001b[0;32mIn[10], line 1\u001b[0m\n\u001b[0;32m----> 1\u001b[0m b\u001b[38;5;241m=\u001b[39m\u001b[38;5;241;43m5\u001b[39;49m\u001b[38;5;241;43m/\u001b[39;49m\u001b[43ma\u001b[49m\n\u001b[1;32m      2\u001b[0m \u001b[38;5;28mprint\u001b[39m(b)\n",
      "\u001b[0;31mZeroDivisionError\u001b[0m: division by zero"
     ]
    }
   ],
   "source": [
    "b=5/a\n",
    "print(b)"
   ]
  },
  {
   "cell_type": "raw",
   "id": "744bcae2-e91a-4d66-b715-d94061e5e547",
   "metadata": {},
   "source": [
    "in a code if there is doubt that block of code may be having an error or it the user enter a wrong input \n",
    "to avoid of crashing of the entire code there is handling code written to handle the situation \n",
    "this handling block of code is called exceptional handling \n"
   ]
  },
  {
   "cell_type": "code",
   "execution_count": 14,
   "id": "30f7c722-c46c-4ff9-a1a9-7fa15902ab0f",
   "metadata": {},
   "outputs": [
    {
     "name": "stdout",
     "output_type": "stream",
     "text": [
      "enter a number 0\n"
     ]
    },
    {
     "name": "stdout",
     "output_type": "stream",
     "text": [
      "user please check your input\n"
     ]
    }
   ],
   "source": [
    "try : \n",
    "    a = int(input('enter a number'))\n",
    "    b = 5/a\n",
    "    print(b)\n",
    "    \n",
    "except : \n",
    "    print('user please check your input')"
   ]
  },
  {
   "cell_type": "raw",
   "id": "32b87a1c-c569-4daa-9406-d1b1408c8fab",
   "metadata": {},
   "source": [
    "when there is no error the code runs perfectly but incase of error occurs there 'ecxpt' handles the situation"
   ]
  },
  {
   "cell_type": "raw",
   "id": "94909375-c2b7-4ff1-9cff-349f90003bb5",
   "metadata": {},
   "source": [
    "inside try we keep the suspecious piece of code and expect will handle the code if any error \n",
    "are there by avoiding the crash of the entire code "
   ]
  },
  {
   "cell_type": "raw",
   "id": "a178f174",
   "metadata": {},
   "source": []
  },
  {
   "cell_type": "code",
   "execution_count": null,
   "id": "6746c84d-cf39-4767-b1d7-0c5231411b54",
   "metadata": {},
   "outputs": [],
   "source": [
    "try : \n",
    "    a = int(input('enter a number'))\n",
    "    b = 5/a\n",
    "    print(b)\n",
    "    \n",
    "except : \n",
    "    print('user please check your input')\n",
    "    \n",
    "finally : \n",
    "    print('this will be executed')"
   ]
  }
 ],
 "metadata": {
  "kernelspec": {
   "display_name": "Python 3 (ipykernel)",
   "language": "python",
   "name": "python3"
  },
  "language_info": {
   "codemirror_mode": {
    "name": "ipython",
    "version": 3
   },
   "file_extension": ".py",
   "mimetype": "text/x-python",
   "name": "python",
   "nbconvert_exporter": "python",
   "pygments_lexer": "ipython3",
   "version": "3.10.8"
  }
 },
 "nbformat": 4,
 "nbformat_minor": 5
}

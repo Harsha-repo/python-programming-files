{
 "cells": [
  {
   "cell_type": "raw",
   "id": "2be2e471-3ec5-46e9-889e-8f6350500b5d",
   "metadata": {},
   "source": [
    "DEVELOP  A PROGRAM TO READ THE STUDENT DETIALS NAME MARKS AND DETAILS AND PERCENTAGE WITH MULTIPLE MESSAGES"
   ]
  },
  {
   "cell_type": "code",
   "execution_count": 1,
   "id": "8d165fca-c88d-4238-929f-5d949fa63509",
   "metadata": {
    "tags": []
   },
   "outputs": [
    {
     "name": "stdout",
     "output_type": "stream",
     "text": [
      "student name : HARHSA\n",
      "student usn : 4\n",
      "kannada score is :  5\n",
      "maths score is :  4\n",
      "physics score is: 4\n",
      "total marks obtained : 13\n"
     ]
    }
   ],
   "source": [
    "name = input('enter your name : ' )\n",
    "usn = input('enter your usn :')\n",
    "kannada_marks= int(input('enter kannada marks :'))\n",
    "maths_marks= int(input('enter maths marks:'))\n",
    "physics_marks=int(input('enter physics marks:'))\n",
    "total_marks = kannada_marks + maths_marks + physics_marks\n",
    "print('student name :',name)\n",
    "print('student usn :',usn)\n",
    "print('kannada score is : ',kannada_marks)\n",
    "print('maths score is : ',maths_marks)\n",
    "print('physics score is:',physics_marks)\n",
    "print('total marks obtained :',total_marks)\n",
    "\n"
   ]
  },
  {
   "cell_type": "markdown",
   "id": "b3a2f0ad-4711-48af-97ef-b0b01bb39aa8",
   "metadata": {
    "tags": []
   },
   "source": [
    "DEVELOP  A PROGRAM TO READ THE NAME AGE , YEAR OF BIRTH  OF A PERSON DISPLAY WHETHER THE PERSON IS SENIOR CITIZEN OR NOT"
   ]
  },
  {
   "cell_type": "code",
   "execution_count": null,
   "id": "acda9859-d8ce-4a7c-b4b8-66fef705e574",
   "metadata": {},
   "outputs": [
    {
     "name": "stdout",
     "output_type": "stream",
     "text": [
      "enter your name: ramaya\n",
      "enter your birth year: 1989\n"
     ]
    },
    {
     "name": "stdout",
     "output_type": "stream",
     "text": [
      "he is gentleman\n"
     ]
    },
    {
     "name": "stdout",
     "output_type": "stream",
     "text": [
      "want to check agian yes\n",
      "enter your name: somaya\n",
      "enter your birth year: 1998\n"
     ]
    },
    {
     "name": "stdout",
     "output_type": "stream",
     "text": [
      "he is gentleman\n"
     ]
    },
    {
     "name": "stdout",
     "output_type": "stream",
     "text": [
      "want to check agian yes\n",
      "enter your name: narayana\n",
      "enter your birth year: 1766\n"
     ]
    },
    {
     "name": "stdout",
     "output_type": "stream",
     "text": [
      "he is senior citizen\n"
     ]
    }
   ],
   "source": [
    "while(True) :\n",
    "    name = input('enter your name:')\n",
    "    year=int(input('enter your birth year:'))\n",
    "    age=2023-year\n",
    "    if(age>60) :\n",
    "        print('he is senior citizen')\n",
    "    \n",
    "    else :\n",
    "        print('he is gentleman')\n",
    "    next=input('want to check agian')\n",
    "    if(next=='no') :\n",
    "        break\n",
    "    if(next == 'yes') :\n",
    "        continue\n",
    "    "
   ]
  },
  {
   "cell_type": "raw",
   "id": "d47a05b8-1bc2-46f6-a608-e98c0cfdbe33",
   "metadata": {},
   "source": [
    "MENU DRIVEN CALCULATOR  ALSO ASK WHETHER TO CONTINUE OR NOT\n"
   ]
  },
  {
   "cell_type": "code",
   "execution_count": 7,
   "id": "3aa3a754-f29c-4485-af78-bbd7f2a2ab5b",
   "metadata": {},
   "outputs": [
    {
     "name": "stdout",
     "output_type": "stream",
     "text": [
      "enter first number: 7\n",
      "enter second number: 8\n",
      "enter the operator: -\n"
     ]
    },
    {
     "name": "stdout",
     "output_type": "stream",
     "text": [
      "the subtraction is : -1\n"
     ]
    },
    {
     "name": "stdout",
     "output_type": "stream",
     "text": [
      "want to repeat: yes\n",
      "enter first number: 34\n",
      "enter second number: 45\n",
      "enter the operator: *\n"
     ]
    },
    {
     "name": "stdout",
     "output_type": "stream",
     "text": [
      "the product is :  1530\n"
     ]
    },
    {
     "name": "stdout",
     "output_type": "stream",
     "text": [
      "want to repeat: no\n"
     ]
    }
   ],
   "source": [
    "while(True) :\n",
    "    num1=int(input('enter first number:'))\n",
    "    num2=int(input('enter second number:'))\n",
    "    operator=input('enter the operator:')\n",
    "             \n",
    "    if(operator=='+') :\n",
    "             print('the sum is :',num1+num2)\n",
    "             \n",
    "    elif(operator=='-') :\n",
    "             print('the subtraction is :',num1-num2)\n",
    "    \n",
    "             \n",
    "    elif(operator=='*') :\n",
    "             print('the product is : ',num1*num2)\n",
    "        \n",
    "    elif(operator=='/') :\n",
    "             print('the quotient is : ',num1/num2)\n",
    "             \n",
    "    else :\n",
    "             print('wrong operator,please check')\n",
    "             \n",
    "             \n",
    "    next=input('want to repeat:')\n",
    "    if(next=='no'):\n",
    "                break\n",
    "    \n",
    "    if(next=='yes'):\n",
    "        continue\n",
    "             \n",
    "             \n",
    "             \n",
    "             "
   ]
  },
  {
   "cell_type": "raw",
   "id": "abdc2264-f908-4b3a-884d-52c6582fd9a9",
   "metadata": {},
   "source": [
    "PRODUCT OF THREE DIGITS IF THE DIGIT WITH CONDITIONS\n"
   ]
  },
  {
   "cell_type": "code",
   "execution_count": null,
   "id": "2ec8de89-3960-44fa-af67-b9d299a08848",
   "metadata": {},
   "outputs": [
    {
     "name": "stdout",
     "output_type": "stream",
     "text": [
      "first number 4\n"
     ]
    }
   ],
   "source": [
    "num1=int(input('first number'))\n",
    "num2= int(input('enter second number'))\n",
    "num3=int(input('third number'))\n",
    "\n",
    "if(num1!=7 and num2!=7 and num3!=7) :\n",
    "    print('the product is : ',num1*num2*num3)\n",
    "    \n",
    "if(num1==7 and num2!=7 and num3!=7) :\n",
    "    print('the product is: ',num2*num3)\n",
    "    \n",
    "if(num1==7 and num2==7  and num3!=7) :\n",
    "    print('the producct is :',num3)\n",
    "    \n",
    "else :\n",
    "    print('the product is -1')\n",
    "    "
   ]
  },
  {
   "cell_type": "raw",
   "id": "97288128-d8e8-4232-ad93-81c66eb17f30",
   "metadata": {},
   "source": [
    "CHECK WHETHER THE INPUTED SIDES BY THE USER FORM TRIANGLE OR NOT"
   ]
  },
  {
   "cell_type": "code",
   "execution_count": 11,
   "id": "659ced56-661c-4b90-9690-d2aa37eb5965",
   "metadata": {},
   "outputs": [
    {
     "name": "stdout",
     "output_type": "stream",
     "text": [
      "enter first side : 6\n",
      "enter second side: 8\n",
      "enter third side : 10\n"
     ]
    },
    {
     "name": "stdout",
     "output_type": "stream",
     "text": [
      "these sides can form triangle\n"
     ]
    }
   ],
   "source": [
    "side1 = int(input('enter first side :'))\n",
    "side2 = int(input('enter second side:'))\n",
    "side3 = int(input('enter third side :'))\n",
    "\n",
    "if side1+side2>side3 and side2+side3>side1 and side3+side1>side2 :\n",
    "    print('these sides can form triangle')   \n",
    "else :\n",
    "    print('these sides cannot form triangle')\n",
    "    \n"
   ]
  },
  {
   "cell_type": "raw",
   "id": "a3452825-8da7-4729-b9d0-388f86795064",
   "metadata": {},
   "source": [
    "CHECK THE NUMBER FREQUENCY OF EACH"
   ]
  },
  {
   "cell_type": "code",
   "execution_count": 1,
   "id": "376ab2ce-322f-4674-b3f1-86c8e796b22c",
   "metadata": {},
   "outputs": [
    {
     "name": "stdout",
     "output_type": "stream",
     "text": [
      "enter a number: 234534143\n"
     ]
    },
    {
     "name": "stdout",
     "output_type": "stream",
     "text": [
      "the frequency of  2 is 1\n",
      "the frequency of  1 is 1\n",
      "the frequency of  4 is 3\n",
      "the frequency of  3 is 3\n",
      "the frequency of  5 is 1\n"
     ]
    }
   ],
   "source": [
    "n = input('enter a number:')\n",
    "for i in set(n) :\n",
    "    res = n.count(i)#function that calculates the number of times a number repeated\n",
    "    \n",
    "    print('the frequency of ',i,'is',res)\n",
    "    "
   ]
  },
  {
   "cell_type": "raw",
   "id": "faedf210-e765-4687-ac32-1bec1c83a802",
   "metadata": {},
   "source": [
    "INPUT THE LEVEL AND SALARY OF THE EMPLOYEE AND INCREASE THEIR SALARIES AS PER THE LEVEL"
   ]
  },
  {
   "cell_type": "code",
   "execution_count": 2,
   "id": "4345fa98-2b9a-4aec-bda1-c75829f991d1",
   "metadata": {},
   "outputs": [
    {
     "name": "stdout",
     "output_type": "stream",
     "text": [
      "enter the salary: 20000\n",
      "level of employee: 3\n"
     ]
    },
    {
     "name": "stdout",
     "output_type": "stream",
     "text": [
      "the salary increases by 15% : 23000.0\n"
     ]
    }
   ],
   "source": [
    "salary = int(input('enter the salary:'))\n",
    "level = int(input('level of employee:'))\n",
    "if level == 3 :\n",
    "    print('the salary increases by 15% :',salary+(15/100)*salary)\n",
    "    \n",
    "if level == 2 :\n",
    "    print('salary increases by 7% :',salary +(7/100)*salary)\n",
    "    \n",
    "if level ==1 :\n",
    "    print('salary increases by 5% :',salary+(5/100)*salary)\n",
    "    \n",
    "    \n",
    "             "
   ]
  },
  {
   "cell_type": "raw",
   "id": "5309ce97-c9d2-4fe4-b177-8ffc21171e91",
   "metadata": {},
   "source": [
    "PERFECT NUMBER OR NOT "
   ]
  },
  {
   "cell_type": "code",
   "execution_count": 19,
   "id": "2f3f0e22-7ea5-4bf6-8a0a-371fa405ef5c",
   "metadata": {
    "tags": []
   },
   "outputs": [
    {
     "name": "stdout",
     "output_type": "stream",
     "text": [
      "enter a number: 28\n"
     ]
    },
    {
     "name": "stdout",
     "output_type": "stream",
     "text": [
      "the number is a perect number : 28\n"
     ]
    }
   ],
   "source": [
    "\n",
    "#the sum of the factors of an number is same as that number then it is perfect number\n",
    "\n",
    "n = int(input('enter a number:'))\n",
    "add=0 \n",
    "for i in range(1,n):\n",
    "    if n%i==0 :\n",
    "        add=add+i\n",
    "if add==n :\n",
    "    print('the number is a perect number :',n)\n",
    "    \n",
    "else :\n",
    "    print('the number is not a perfect number')\n"
   ]
  },
  {
   "cell_type": "raw",
   "id": "c7c8a16a-ea78-4453-9790-a44d3933f9d2",
   "metadata": {},
   "source": [
    "PRIME NUMBER OR NOT USING FUNCTIONS "
   ]
  },
  {
   "cell_type": "code",
   "execution_count": 3,
   "id": "259cd146-a6a9-407c-bc68-15a472025e94",
   "metadata": {},
   "outputs": [
    {
     "name": "stdout",
     "output_type": "stream",
     "text": [
      "enter a number: 3\n"
     ]
    },
    {
     "name": "stdout",
     "output_type": "stream",
     "text": [
      " number is prime\n",
      "3\n"
     ]
    }
   ],
   "source": [
    "def prime(x):\n",
    "    for i in range(2,int(n/2)+1):\n",
    "        if n%i==0 :\n",
    "            print('not a prime')\n",
    "            \n",
    "    else :\n",
    "        print(' number is prime')\n",
    "        return n\n",
    "            \n",
    "n = int(input('enter a number:'))\n",
    "primenumber=prime(n)\n",
    "print(primenumber)\n",
    "        \n",
    "        \n",
    "    \n"
   ]
  },
  {
   "cell_type": "code",
   "execution_count": null,
   "id": "3962cba1-405b-4e51-8f74-f111fc4c84cc",
   "metadata": {},
   "outputs": [],
   "source": [
    "FIBONNACCI SERIES  TILL THE GIVEN NUMBER"
   ]
  },
  {
   "cell_type": "code",
   "execution_count": 4,
   "id": "0a0ef3e7-eea5-494a-9d4a-02f613151767",
   "metadata": {},
   "outputs": [
    {
     "name": "stdout",
     "output_type": "stream",
     "text": [
      "enter a number: 6\n"
     ]
    },
    {
     "name": "stdout",
     "output_type": "stream",
     "text": [
      "0\n",
      "1\n",
      "1\n",
      "2\n",
      "3\n",
      "5\n",
      "8\n",
      "13\n"
     ]
    }
   ],
   "source": [
    "n = int(input('enter a number:'))\n",
    "n1=0\n",
    "n2=1\n",
    "res=0\n",
    "print(n1)\n",
    "print(n2)\n",
    "for i in range(n):\n",
    "\n",
    "    res=n1+n2\n",
    "    n1=n2\n",
    "    n2=res\n",
    "    print(res)"
   ]
  },
  {
   "cell_type": "raw",
   "id": "687f3727-650f-4e1a-b76e-05e40ef22a75",
   "metadata": {},
   "source": [
    "FIBONACCI SERIES USING RECURSION"
   ]
  },
  {
   "cell_type": "code",
   "execution_count": 29,
   "id": "4cfd63e9-e460-4c04-bc6f-4faf10c7c61e",
   "metadata": {},
   "outputs": [
    {
     "name": "stdout",
     "output_type": "stream",
     "text": [
      "enter a number: 5\n"
     ]
    },
    {
     "name": "stdout",
     "output_type": "stream",
     "text": [
      "0\n",
      "1\n",
      "1\n",
      "2\n",
      "3\n"
     ]
    }
   ],
   "source": [
    "def fibonacci(x):\n",
    "    if x<=1 :\n",
    "        return x\n",
    "    else:\n",
    "        return fibonacci(x-1)+fibonacci(x-2)\n",
    "    \n",
    "\n",
    "n = int(input('enter a number:'))\n",
    "for i in range(n):\n",
    "    print(fibonacci(i))\n",
    "        \n"
   ]
  },
  {
   "cell_type": "raw",
   "id": "e5296bc2-436b-4b43-bc2f-5f6b5aa90630",
   "metadata": {},
   "source": [
    "FACTORIAL OF A NUMBER"
   ]
  },
  {
   "cell_type": "code",
   "execution_count": 3,
   "id": "bed2f655-bda5-43f8-b720-9aafb759df48",
   "metadata": {},
   "outputs": [
    {
     "ename": "ValueError",
     "evalue": "invalid literal for int() with base 10: ''",
     "output_type": "error",
     "traceback": [
      "\u001b[1;31m---------------------------------------------------------------------------\u001b[0m",
      "\u001b[1;31mValueError\u001b[0m                                Traceback (most recent call last)",
      "Cell \u001b[1;32mIn[3], line 1\u001b[0m\n\u001b[1;32m----> 1\u001b[0m n \u001b[38;5;241m=\u001b[39m \u001b[38;5;28;43mint\u001b[39;49m\u001b[43m(\u001b[49m\u001b[38;5;28;43minput\u001b[39;49m\u001b[43m(\u001b[49m\u001b[38;5;124;43m'\u001b[39;49m\u001b[38;5;124;43menter a number:\u001b[39;49m\u001b[38;5;124;43m'\u001b[39;49m\u001b[43m)\u001b[49m\u001b[43m)\u001b[49m\n\u001b[0;32m      2\u001b[0m res\u001b[38;5;241m=\u001b[39m\u001b[38;5;241m1\u001b[39m\n\u001b[0;32m      3\u001b[0m \u001b[38;5;28;01mfor\u001b[39;00m i \u001b[38;5;129;01min\u001b[39;00m \u001b[38;5;28mrange\u001b[39m(\u001b[38;5;241m1\u001b[39m,n\u001b[38;5;241m+\u001b[39m\u001b[38;5;241m1\u001b[39m):\n",
      "\u001b[1;31mValueError\u001b[0m: invalid literal for int() with base 10: ''"
     ]
    }
   ],
   "source": [
    "n = int(input('enter a number:'))\n",
    "res=1\n",
    "for i in range(1,n+1):\n",
    "    if n>=1 :\n",
    "        res=res*i\n",
    "print(res)\n",
    "    \n",
    "    \n",
    "       \n"
   ]
  },
  {
   "cell_type": "raw",
   "id": "ea10bcf0-3e4b-46f0-83ff-eec5aaec6f0f",
   "metadata": {},
   "source": [
    "FACTORIAL USING FUNCTIONS RECURSION"
   ]
  },
  {
   "cell_type": "code",
   "execution_count": 41,
   "id": "e8e86734-dab2-4e20-9528-fdac5c2597ae",
   "metadata": {},
   "outputs": [
    {
     "name": "stdout",
     "output_type": "stream",
     "text": [
      "enter a number: 5\n"
     ]
    },
    {
     "name": "stdout",
     "output_type": "stream",
     "text": [
      "120\n"
     ]
    }
   ],
   "source": [
    "def fact(n):\n",
    "    if n==0 :\n",
    "        return 1\n",
    "    elif n<0 :\n",
    "        return -1\n",
    "    else:\n",
    "        return n*fact(n-1)\n",
    "    \n",
    "n = int(input('enter a number:'))\n",
    "print(fact(n))"
   ]
  },
  {
   "cell_type": "raw",
   "id": "cd24f23f-0056-4ad0-b088-6b72a9e8ac12",
   "metadata": {},
   "source": [
    "FREQUENCY OF A EACHDIGIT REPEATED IN USER ENTERED NUMBER"
   ]
  },
  {
   "cell_type": "code",
   "execution_count": 6,
   "id": "8c2d2568-52de-4ee4-b260-5e25a16a389b",
   "metadata": {},
   "outputs": [
    {
     "name": "stdout",
     "output_type": "stream",
     "text": [
      "enter a number: 141341134\n"
     ]
    },
    {
     "name": "stdout",
     "output_type": "stream",
     "text": [
      "frequency of  4 is: 3\n",
      "frequency of  1 is: 4\n",
      "frequency of  3 is: 2\n"
     ]
    }
   ],
   "source": [
    "n = input('enter a number:')\n",
    "for i in set(n):\n",
    "    res=n.count(i)\n",
    "    print('frequency of ',i,'is:',res)\n",
    "    "
   ]
  },
  {
   "cell_type": "raw",
   "id": "10cc7736-18e5-4708-904b-2404bc7b9ca8",
   "metadata": {},
   "source": [
    "PATTERN PRINTINGs"
   ]
  },
  {
   "cell_type": "code",
   "execution_count": 54,
   "id": "db45479b-f1cc-4d9d-a236-dc027e145ed0",
   "metadata": {},
   "outputs": [
    {
     "name": "stdout",
     "output_type": "stream",
     "text": [
      "enter a number: 5\n"
     ]
    },
    {
     "name": "stdout",
     "output_type": "stream",
     "text": [
      "1\n",
      "22\n",
      "333\n",
      "4444\n",
      "55555\n"
     ]
    }
   ],
   "source": [
    "n = int(input('enter a number:'))\n",
    "for i in range(1,n+1):\n",
    "    print(i*str(i))\n",
    "\n"
   ]
  },
  {
   "cell_type": "code",
   "execution_count": 69,
   "id": "e8550e87-141c-4330-bee3-f5391476e5eb",
   "metadata": {},
   "outputs": [
    {
     "name": "stdout",
     "output_type": "stream",
     "text": [
      "enter a number: 5\n"
     ]
    },
    {
     "name": "stdout",
     "output_type": "stream",
     "text": [
      "1\n",
      "\n",
      "12\n",
      "\n",
      "123\n",
      "\n",
      "1234\n",
      "\n",
      "12345\n",
      "\n"
     ]
    }
   ],
   "source": [
    "n = int(input('enter a number:'))\n",
    "for i in range(1,n+1):\n",
    "    for j in range(1,i+1):\n",
    "        print(j,end=\"\")\n",
    "    print('\\n')\n",
    "          "
   ]
  },
  {
   "cell_type": "code",
   "execution_count": 2,
   "id": "207d8510-beac-4507-9cb5-71cc38797497",
   "metadata": {},
   "outputs": [
    {
     "name": "stdout",
     "output_type": "stream",
     "text": [
      "1\n",
      "\n"
     ]
    }
   ],
   "source": [
    "n = int(input('enter a number:'))\n",
    "for i in range(1,n+1):\n",
    "    for j in range(1,n+1):\n",
    "        print(j,end=\"\")\n",
    "    print('\\n')\n",
    "          "
   ]
  },
  {
   "cell_type": "code",
   "execution_count": null,
   "id": "30be32a1-65b0-406b-8a5d-1c6ff107da8d",
   "metadata": {},
   "outputs": [
    {
     "name": "stdout",
     "output_type": "stream",
     "text": [
      "enter a number: 5\n"
     ]
    },
    {
     "name": "stdout",
     "output_type": "stream",
     "text": [
      "12345\n",
      "\n",
      "2345\n",
      "\n",
      "345\n",
      "\n",
      "45\n",
      "\n",
      "5\n",
      "\n"
     ]
    }
   ],
   "source": [
    "n = int(input('enter a number:'))\n",
    "for i in range(1,n+1):\n",
    "    for j in range(i,n+1):\n",
    "        print(j,end=\"\")\n",
    "    print('\\n')\n",
    "          "
   ]
  },
  {
   "cell_type": "code",
   "execution_count": null,
   "id": "2415198b-ab61-45a0-921d-4321f328516c",
   "metadata": {},
   "outputs": [
    {
     "name": "stdout",
     "output_type": "stream",
     "text": [
      "enter a number: 5\n"
     ]
    },
    {
     "name": "stdout",
     "output_type": "stream",
     "text": [
      "1\n",
      "\n",
      "22\n",
      "\n",
      "333\n",
      "\n",
      "4444\n",
      "\n",
      "55555\n",
      "\n"
     ]
    }
   ],
   "source": [
    "n = int(input('enter a number:'))\n",
    "for i in range(1,n+1):\n",
    "    for j in range(i):\n",
    "        print(i,end=\"\")\n",
    "    print('\\n')\n",
    "          "
   ]
  },
  {
   "cell_type": "raw",
   "id": "b7d146d0-ddfc-4c8d-9d14-554c60d5e289",
   "metadata": {},
   "source": [
    "LEAP YEAR PROGRAM"
   ]
  },
  {
   "cell_type": "code",
   "execution_count": 4,
   "id": "31d4bbdb-3d5a-4c01-a383-4ce127e92d7a",
   "metadata": {},
   "outputs": [
    {
     "name": "stdout",
     "output_type": "stream",
     "text": [
      "enter the year u need to check: 2024\n"
     ]
    },
    {
     "name": "stdout",
     "output_type": "stream",
     "text": [
      "the year is leap year\n"
     ]
    }
   ],
   "source": [
    "year = int(input('enter the year u need to check:'))\n",
    "if year%4==0 and year%100!=0 :\n",
    "    print('the year is leap year')\n",
    "elif year%400==0 and year%100==0:\n",
    "    print('the year is leap year')\n",
    "else:\n",
    "    print('not a leap year')\n",
    "    "
   ]
  },
  {
   "cell_type": "raw",
   "id": "5ea27e90-916c-4840-8286-6cb4b271f57b",
   "metadata": {},
   "source": [
    "CONVERT FOOT TO INCHES AND INCHES TO FOOT"
   ]
  },
  {
   "cell_type": "code",
   "execution_count": 9,
   "id": "86111ab0-e231-43e4-a633-0f6c5c0bf223",
   "metadata": {},
   "outputs": [
    {
     "name": "stdout",
     "output_type": "stream",
     "text": [
      "enter number 1.foot to inches 2.inches to foot 2\n",
      "enter the inches: 23\n"
     ]
    },
    {
     "name": "stdout",
     "output_type": "stream",
     "text": [
      "1.9166666666666667 foot\n"
     ]
    }
   ],
   "source": [
    "n = int(input('enter number 1.foot to inches 2.inches to foot'))\n",
    "if n==1 :\n",
    "    a=int(input('enter the footlength:'))\n",
    "    res=a*12\n",
    "    print(res,'inches')\n",
    "elif n==2 :\n",
    "    b = int(input('enter the inches:'))\n",
    "    res = b/12\n",
    "    print(res,'foot')\n",
    "\n",
    "\n"
   ]
  },
  {
   "cell_type": "raw",
   "id": "e9e36d55-9143-4d7a-b75e-858f3a0f9d9b",
   "metadata": {},
   "source": [
    "ARMSTRONG NUMBER CHECK \n"
   ]
  },
  {
   "cell_type": "code",
   "execution_count": 8,
   "id": "88580718-f703-40c4-bed8-068749155bb6",
   "metadata": {},
   "outputs": [
    {
     "name": "stdout",
     "output_type": "stream",
     "text": [
      "enter a number 153\n"
     ]
    },
    {
     "name": "stdout",
     "output_type": "stream",
     "text": [
      "it is an armstrong number\n"
     ]
    }
   ],
   "source": [
    "num = int(input('enter a number'))\n",
    "temp=num\n",
    "m=str(num)\n",
    "sum=0\n",
    "while temp>0:\n",
    "    r = temp%10\n",
    "    sum=sum+r**len(m)\n",
    "    \n",
    "    temp=temp//10\n",
    "    \n",
    "if sum==num :\n",
    "    print('it is an armstrong number')\n",
    "    \n",
    "else:\n",
    "    print('not an armstrong number')\n",
    "    \n",
    "    "
   ]
  },
  {
   "cell_type": "raw",
   "id": "a95b5646-c233-4758-bf7b-461c8a3896ce",
   "metadata": {},
   "source": [
    "PROGRAM TO FIND AVERAGE MEAN AND STANDARD DEVIATION "
   ]
  },
  {
   "cell_type": "code",
   "execution_count": 1,
   "id": "c1605c20-449f-44be-a267-f2345b33a0ac",
   "metadata": {},
   "outputs": [
    {
     "ename": "ModuleNotFoundError",
     "evalue": "No module named 'numpy'",
     "output_type": "error",
     "traceback": [
      "\u001b[1;31m---------------------------------------------------------------------------\u001b[0m",
      "\u001b[1;31mModuleNotFoundError\u001b[0m                       Traceback (most recent call last)",
      "\u001b[1;32mc:\\coding\\main.py\\topicwise\\1 class.ipynb Cell 42\u001b[0m line \u001b[0;36m1\n\u001b[1;32m----> <a href='vscode-notebook-cell:/c%3A/coding/main.py/topicwise/1%20class.ipynb#X56sZmlsZQ%3D%3D?line=0'>1</a>\u001b[0m \u001b[39mimport\u001b[39;00m \u001b[39mnumpy\u001b[39;00m \u001b[39mas\u001b[39;00m \u001b[39mnp\u001b[39;00m\n\u001b[0;32m      <a href='vscode-notebook-cell:/c%3A/coding/main.py/topicwise/1%20class.ipynb#X56sZmlsZQ%3D%3D?line=1'>2</a>\u001b[0m a\u001b[39m=\u001b[39m[]\n\u001b[0;32m      <a href='vscode-notebook-cell:/c%3A/coding/main.py/topicwise/1%20class.ipynb#X56sZmlsZQ%3D%3D?line=2'>3</a>\u001b[0m n\u001b[39m=\u001b[39m\u001b[39mint\u001b[39m(\u001b[39minput\u001b[39m(\u001b[39m'\u001b[39m\u001b[39menter the number of elements to be inputed:\u001b[39m\u001b[39m'\u001b[39m))\n",
      "\u001b[1;31mModuleNotFoundError\u001b[0m: No module named 'numpy'"
     ]
    }
   ],
   "source": [
    "import numpy as np\n",
    "a=[]\n",
    "n=int(input('enter the number of elements to be inputed:'))\n",
    "for i in range(n):\n",
    "    a.append(int(input('enter elements:')))\n",
    "avg = np.average(a)\n",
    "print('the average is :',avg)\n",
    "var = np.var(a)\n",
    "print('the varience is :',var)\n",
    "std = np.std(a)\n",
    "print('the standard deviation is :',std)"
   ]
  },
  {
   "cell_type": "code",
   "execution_count": 17,
   "id": "b2915d2b-3d34-4db2-a96e-76a3c67a6b33",
   "metadata": {},
   "outputs": [
    {
     "name": "stdout",
     "output_type": "stream",
     "text": [
      "enter a number; 4\n"
     ]
    },
    {
     "name": "stdout",
     "output_type": "stream",
     "text": [
      "1.0\n"
     ]
    }
   ],
   "source": [
    "def fact(x):\n",
    "    if x==0 :\n",
    "        return 1\n",
    "    else :\n",
    "        return x*fact(x-1)\n",
    "\n",
    "#res= fact(n)/(fact(r)*fact(n-r))\n",
    "    \n",
    "n=int(input('enter a number;'))\n",
    "#r=int(input('enter a number;'))\n",
    "#res=n1\n",
    "print(res)"
   ]
  },
  {
   "cell_type": "raw",
   "id": "1e3d1e06-41d6-44f1-be16-979e81ee056f",
   "metadata": {},
   "source": [
    "CHECK WHETHER THE GIVEN STRING IS PALINDROME OR NOT"
   ]
  },
  {
   "cell_type": "code",
   "execution_count": 15,
   "id": "0a2f2c36-2088-4bfc-83b2-93c3767af304",
   "metadata": {},
   "outputs": [
    {
     "name": "stdout",
     "output_type": "stream",
     "text": [
      "enter your string: ammA\n"
     ]
    },
    {
     "name": "stdout",
     "output_type": "stream",
     "text": [
      "the string is palindrome\n"
     ]
    }
   ],
   "source": [
    "a = input('enter your string:')\n",
    "reverse=a[::-1]                     # since python is a case sinsitive programme we need to be careful at case of the letters \n",
    "if a.lower() == reverse.lower():    # lower function converts all the string that is inputed to lower case then \n",
    "                                    # both the strings are compared it gives right ans \n",
    "    print('the string is palindrome')\n",
    "else:\n",
    "    print('the string is not palindrome')"
   ]
  },
  {
   "cell_type": "raw",
   "id": "9e1680be-3292-4fdb-af67-079e87fb01b7",
   "metadata": {},
   "source": [
    "CHECK WHETHER THE GIVEN NUMBER IS PALINDROME ARE NOT"
   ]
  },
  {
   "cell_type": "code",
   "execution_count": 15,
   "id": "90a5efe7-154e-4545-bde0-8bd9196dce76",
   "metadata": {},
   "outputs": [
    {
     "name": "stdout",
     "output_type": "stream",
     "text": [
      "enter a number: 1234321\n"
     ]
    },
    {
     "name": "stdout",
     "output_type": "stream",
     "text": [
      "the number is palindrome\n",
      "1234321\n"
     ]
    }
   ],
   "source": [
    "n = int(input('enter a number:'))\n",
    "\n",
    "res=0\n",
    "temp=n\n",
    "while n>0:\n",
    "    rem=n%10\n",
    "    res=rem+(res*10)\n",
    "    n=n//10\n",
    "\n",
    "if temp==res:\n",
    "    print('the number is palindrome')\n",
    "    print(res)\n",
    "else:\n",
    "    print('the number is not palindrome')\n",
    "    print(res)"
   ]
  },
  {
   "cell_type": "code",
   "execution_count": null,
   "id": "c4b165ef-51de-49ec-be19-92b77952217c",
   "metadata": {},
   "outputs": [],
   "source": [
    "10//3\n",
    "\n"
   ]
  },
  {
   "cell_type": "raw",
   "id": "c6c6d005-2316-45ec-abc7-929c15e4871c",
   "metadata": {},
   "source": [
    "PYHTOGOREAN TRIPLETS IN A RANGE OF NUMBERS \n"
   ]
  },
  {
   "cell_type": "code",
   "execution_count": 16,
   "id": "ecd00f67-667c-46c6-bacf-63aa2c2822ca",
   "metadata": {},
   "outputs": [
    {
     "name": "stdout",
     "output_type": "stream",
     "text": [
      "3 4 5\n",
      "8 6 10\n",
      "12 16 20\n"
     ]
    }
   ],
   "source": [
    "def pythogoreantriplets(limits):\n",
    "    c,m=0,2\n",
    "    while c<limits:\n",
    "        for n in range(1,m):\n",
    "            a = m*m-n*n\n",
    "            b = 2*m*n\n",
    "            c=m*m+n*n\n",
    "            \n",
    "            if c>limits:\n",
    "                break\n",
    "            print(a,b,c)\n",
    "            m=m+1\n",
    "limit = 20\n",
    "pythogoreantriplets(limit)\n",
    "    "
   ]
  },
  {
   "cell_type": "code",
   "execution_count": 17,
   "id": "9a6046d8-a412-42d1-9375-b288526df2a2",
   "metadata": {},
   "outputs": [
    {
     "name": "stdout",
     "output_type": "stream",
     "text": [
      "enter limit: 10\n"
     ]
    },
    {
     "name": "stdout",
     "output_type": "stream",
     "text": [
      "3 4 5\n",
      "8 6 10\n"
     ]
    }
   ],
   "source": [
    "limit = int(input('enter limit:'))\n",
    "c = 0  \n",
    "m = 2 \n",
    "while c <limit:\n",
    "    for n in range(1,m):\n",
    "        a = m*m-n*n   # a is perpendicular of right angle triangle value \n",
    "        b = 2*m*n      # b is base value of traingle\n",
    "        c=m*m+n*n        # c is hypotenues of the triangle\n",
    "    \n",
    "    # if c is greater then limits \n",
    "    # then break the loop \n",
    "        if c>limit:\n",
    "            break\n",
    "        print(a,b,c)\n",
    "    m=m+1\n",
    "# we find the numbers that are "
   ]
  },
  {
   "cell_type": "code",
   "execution_count": 19,
   "id": "5e368eae-c5d6-47e7-a7f3-ddecf26a970b",
   "metadata": {},
   "outputs": [
    {
     "name": "stdout",
     "output_type": "stream",
     "text": [
      " the numbers 3 , 4 , and 5 are pythogorean triplets\n",
      " the numbers 4 , 3 , and 5 are pythogorean triplets\n",
      " the numbers 5 , 12 , and 13 are pythogorean triplets\n",
      " the numbers 6 , 8 , and 10 are pythogorean triplets\n",
      " the numbers 8 , 6 , and 10 are pythogorean triplets\n",
      " the numbers 8 , 15 , and 17 are pythogorean triplets\n",
      " the numbers 9 , 12 , and 15 are pythogorean triplets\n",
      " the numbers 12 , 5 , and 13 are pythogorean triplets\n",
      " the numbers 12 , 9 , and 15 are pythogorean triplets\n",
      " the numbers 15 , 8 , and 17 are pythogorean triplets\n"
     ]
    }
   ],
   "source": [
    "for a in range(1,20):\n",
    "    for b in range(1,20):\n",
    "        for c in range(1,20):\n",
    "            if a*a + b*b == c*c :\n",
    "               # res = set(a,b,c)\n",
    "               # print(res)\n",
    "                            \n",
    "                print(f' the numbers {a} , {b} , and {c} are pythogorean triplets')\n",
    "# ib this program there is repettation of the digits assigned to differnt parameters at each repetation\n",
    "# like 3 is base at first tringle next it is perpendicular and then later it is hyptenues "
   ]
  },
  {
   "cell_type": "raw",
   "id": "24d70010-a5a0-495d-9664-02490c00efce",
   "metadata": {},
   "source": [
    "OOPS PROGRAMMING CONCEPT \n",
    "CREATE A CLASS THAT READS STUDENT DETAILS AND MARKS THUS DISPLAY THE RESULT OF STUDENT "
   ]
  },
  {
   "cell_type": "code",
   "execution_count": null,
   "id": "b04e7bb7-a962-4bc9-90dd-9c4ae71b7fdb",
   "metadata": {},
   "outputs": [],
   "source": [
    "#### n = int(input('enter number of students:'))\n",
    "##i=0\n",
    "##while i<n:\n",
    "\n",
    "class student:\n",
    "    def __init__(self):\n",
    "        self.name = input('enter your name :')\n",
    "        self.usn = int(input('enter your usn:'))\n",
    "\n",
    "    def marks(self):\n",
    "        self.marks=[]\n",
    "        self.marks.append(int(input('enter your physics marks:')))\n",
    "        self.marks.append(int(input('enter your math marks:')))\n",
    "        self.marks .append(int(input('enter your chemistry marks:')))\n",
    "    def result(self):\n",
    "        print('*******result*******')\n",
    "        print('physics =',self.marks[0])\n",
    "        print('maths =',self.marks[1])\n",
    "        print('chemsity=',self.marks[2])\n",
    "        \n",
    "        print('TOTAL = ',(self.marks[0]+self.marks[1]+self.marks[1]))\n",
    "        print('percentage = ',((self.marks[0]+self.marks[1]+self.marks[1])/300)*100)\n",
    "\n",
    "s1 = student()\n",
    "s1.marks()\n",
    "s1.result()\n",
    "##i=i+1\n"
   ]
  },
  {
   "cell_type": "raw",
   "id": "239d00bd-c35d-4c2f-9f69-719dc4bf59dc",
   "metadata": {},
   "source": [
    "PRINTING THE SORTED FOR OR TEXT COPIED FROM A FILE \n"
   ]
  },
  {
   "cell_type": "code",
   "execution_count": 5,
   "id": "94ea0948-99b5-4882-b877-b5e26081f370",
   "metadata": {},
   "outputs": [],
   "source": [
    "l = []\n",
    "l1=[]\n",
    "fp = open('file.txt','r') # opening the file inthe reading mode \n",
    "for lines in fp.readlines():   # reading each line in the paragraph\n",
    "    l.extend(lines.split())    # extending the lines into list splited with spaces\n",
    "    \n",
    "l1 = sorted(l)  # appending the sorted list into another list\n",
    "s1 = ' '.join(l1) # joing the list words using join function with spaces which returns string type \n",
    "s1.strip()    # removing the extra spaces \n",
    "fp1 = open('file.txt','w') # opening anothe file in writing mode \n",
    "fp1.writelines(s1)   # writing the lines of string in the another file\n",
    "fp1.close()\n"
   ]
  },
  {
   "cell_type": "raw",
   "id": "38c71bb0-1438-4b1e-beae-d76b5b4a72ae",
   "metadata": {},
   "source": [
    "USING CLASSES DO THE SUM OF TWO COMPLEX NUMBERS BY INPUTING TEHM FROM THE USER"
   ]
  },
  {
   "cell_type": "code",
   "execution_count": 20,
   "id": "38447c7d-5304-4701-a8df-c2890c23233d",
   "metadata": {},
   "outputs": [
    {
     "name": "stdout",
     "output_type": "stream",
     "text": [
      "enter the 1st complex number:\n"
     ]
    },
    {
     "name": "stdout",
     "output_type": "stream",
     "text": [
      "enter real part of complex: 1\n",
      "enter the img part of complex: 2\n"
     ]
    },
    {
     "name": "stdout",
     "output_type": "stream",
     "text": [
      "1 + 2 j\n",
      "the second complex number:\n"
     ]
    },
    {
     "name": "stdout",
     "output_type": "stream",
     "text": [
      "enter real part of complex: 3\n",
      "enter the img part of complex: 4\n"
     ]
    },
    {
     "name": "stdout",
     "output_type": "stream",
     "text": [
      "3 + 4 j\n",
      "the sum is :\n",
      "4 + 6 j\n"
     ]
    }
   ],
   "source": [
    "class complex:\n",
    "    def complexnumber(self):\n",
    "        self.realpart=int(input('enter real part of complex:'))\n",
    "        self.imgpart=int(input('enter the img part of complex:'))\n",
    "        \n",
    "    def displaycomplex(self):\n",
    "        self.result=print(self.realpart,'+',self.imgpart,'j')\n",
    "    def complexsum(self,c1,c2):\n",
    "        self.realpart=c1.realpart+c2.realpart\n",
    "        self.imgpart=c1.imgpart+c2.imgpart\n",
    "        \n",
    "        \n",
    "c1=complex()\n",
    "c2=complex()\n",
    "c3=complex()\n",
    "print('enter the 1st complex number:')\n",
    "c1.complexnumber()\n",
    "c1.displaycomplex()\n",
    "print('the second complex number:')\n",
    "c2.complexnumber()\n",
    "c2.displaycomplex()\n",
    "print('the sum is :')\n",
    "c3.complexsum(c1,c2)\n",
    "c3.displaycomplex()"
   ]
  },
  {
   "cell_type": "code",
   "execution_count": null,
   "id": "54afbdcc-de51-43d8-8829-49067e79263e",
   "metadata": {},
   "outputs": [],
   "source": []
  },
  {
   "cell_type": "code",
   "execution_count": 21,
   "id": "330902a2-fab4-475b-b3c0-c485b95b411a",
   "metadata": {},
   "outputs": [
    {
     "name": "stdout",
     "output_type": "stream",
     "text": [
      "{'f': 'man', 'm': 90}\n"
     ]
    }
   ],
   "source": [
    "class employee:\n",
    "    def __init__(self,father,mother):\n",
    "        self.f=father\n",
    "        self.m=mother\n",
    "        \n",
    "\n",
    "e1=employee('man',90)\n",
    "print(e1.__dict__)"
   ]
  },
  {
   "cell_type": "code",
   "execution_count": 17,
   "id": "45c7013a-6a36-4639-b3ec-6c8c243bdb5f",
   "metadata": {},
   "outputs": [
    {
     "ename": "TypeError",
     "evalue": "employee.__init__() takes 3 positional arguments but 4 were given",
     "output_type": "error",
     "traceback": [
      "\u001b[0;31m---------------------------------------------------------------------------\u001b[0m",
      "\u001b[0;31mTypeError\u001b[0m                                 Traceback (most recent call last)",
      "Cell \u001b[0;32mIn[17], line 6\u001b[0m\n\u001b[1;32m      3\u001b[0m         \u001b[38;5;28mself\u001b[39m\u001b[38;5;241m.\u001b[39mname\u001b[38;5;241m=\u001b[39mnm\n\u001b[1;32m      4\u001b[0m         \u001b[38;5;28mself\u001b[39m\u001b[38;5;241m.\u001b[39mage\u001b[38;5;241m=\u001b[39mag\n\u001b[0;32m----> 6\u001b[0m f1\u001b[38;5;241m=\u001b[39m\u001b[43memployee\u001b[49m\u001b[43m(\u001b[49m\u001b[38;5;124;43m'\u001b[39;49m\u001b[38;5;124;43mraj\u001b[39;49m\u001b[38;5;124;43m'\u001b[39;49m\u001b[43m,\u001b[49m\u001b[38;5;241;43m21\u001b[39;49m\u001b[43m,\u001b[49m\u001b[38;5;241;43m0\u001b[39;49m\u001b[43m)\u001b[49m\n\u001b[1;32m      7\u001b[0m \u001b[38;5;28mprint\u001b[39m(e1\u001b[38;5;241m.\u001b[39m\u001b[38;5;18m__dict__\u001b[39m)\n",
      "\u001b[0;31mTypeError\u001b[0m: employee.__init__() takes 3 positional arguments but 4 were given"
     ]
    }
   ],
   "source": [
    "class employee:\n",
    "    def __init__(self,nm,ag):\n",
    "        self.name=nm\n",
    "        self.age=ag\n",
    "        \n",
    "f1=employee('raj',21,0)\n",
    "print(e1.__dict__)"
   ]
  },
  {
   "cell_type": "code",
   "execution_count": null,
   "id": "ab5f1eb2-a816-4262-aa8a-2f54a2730653",
   "metadata": {},
   "outputs": [],
   "source": []
  },
  {
   "cell_type": "code",
   "execution_count": null,
   "id": "228e34f9-2299-427a-8a2a-bcea21dd2382",
   "metadata": {},
   "outputs": [],
   "source": []
  },
  {
   "cell_type": "code",
   "execution_count": null,
   "id": "ffb7c608-59c6-4fbf-a6f7-e3bf40e4402c",
   "metadata": {},
   "outputs": [],
   "source": []
  }
 ],
 "metadata": {
  "kernelspec": {
   "display_name": "Python 3 (ipykernel)",
   "language": "python",
   "name": "python3"
  },
  "language_info": {
   "codemirror_mode": {
    "name": "ipython",
    "version": 3
   },
   "file_extension": ".py",
   "mimetype": "text/x-python",
   "name": "python",
   "nbconvert_exporter": "python",
   "pygments_lexer": "ipython3",
   "version": "3.11.9"
  },
  "toc-autonumbering": true,
  "toc-showcode": true
 },
 "nbformat": 4,
 "nbformat_minor": 5
}

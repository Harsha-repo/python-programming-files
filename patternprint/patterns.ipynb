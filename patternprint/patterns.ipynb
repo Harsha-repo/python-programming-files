{
 "cells": [
  {
   "cell_type": "code",
   "execution_count": 1,
   "metadata": {},
   "outputs": [
    {
     "name": "stdout",
     "output_type": "stream",
     "text": [
      "\n",
      "1\n",
      "21\n",
      "321\n",
      "4321\n"
     ]
    }
   ],
   "source": [
    "'''\n",
    "1\n",
    "21\n",
    "321\n",
    "4321\n",
    "\n",
    "'''\n",
    "\n",
    "for i in range(5):\n",
    "    for j in range(i):\n",
    "        print(i-j,end=\"\")\n",
    "    print()"
   ]
  },
  {
   "cell_type": "code",
   "execution_count": 2,
   "metadata": {},
   "outputs": [
    {
     "name": "stdout",
     "output_type": "stream",
     "text": [
      "\n",
      "1\n",
      "22\n",
      "333\n",
      "4444\n"
     ]
    }
   ],
   "source": [
    "''' \n",
    "1\n",
    "22\n",
    "333\n",
    "4444\n",
    "55555\n",
    "\n",
    "'''\n",
    "\n",
    "for i in range(5):\n",
    "    for j in range(i):\n",
    "        print(i,end='')\n",
    "    print()"
   ]
  },
  {
   "cell_type": "code",
   "execution_count": 12,
   "metadata": {},
   "outputs": [
    {
     "name": "stdout",
     "output_type": "stream",
     "text": [
      "5\n",
      "44\n",
      "333\n",
      "2222\n",
      "11111\n"
     ]
    }
   ],
   "source": [
    "''' \n",
    "5\n",
    "44\n",
    "333\n",
    "2222\n",
    "11111\n",
    "'''\n",
    "\n",
    "for i in range(5):\n",
    "    for j in range(i+1):\n",
    "        print(5-i,end='')\n",
    "    print()\n",
    "        "
   ]
  },
  {
   "cell_type": "code",
   "execution_count": 13,
   "metadata": {},
   "outputs": [
    {
     "name": "stdout",
     "output_type": "stream",
     "text": [
      "\n",
      "5\n",
      "54\n",
      "543\n",
      "5432\n"
     ]
    }
   ],
   "source": [
    "''' \n",
    "5\n",
    "45\n",
    "345\n",
    "2345\n",
    "12345\n",
    "'''\n",
    "\n",
    "for i in range(5):\n",
    "    for j in range(i):\n",
    "        print(5-j,end='')\n",
    "    print()"
   ]
  },
  {
   "cell_type": "code",
   "execution_count": 19,
   "metadata": {},
   "outputs": [
    {
     "name": "stdout",
     "output_type": "stream",
     "text": [
      "5\n",
      "45\n",
      "345\n",
      "2345\n",
      "12345\n"
     ]
    }
   ],
   "source": [
    "'''' \n",
    "5        n\n",
    "45       \n",
    "345\n",
    "2345\n",
    "12345\n",
    "\n",
    "'''\n",
    "\n",
    "for i in range(5):\n",
    "    for j in range(i+1):\n",
    "        print( 5-(i-j) ,end='')\n",
    "    print()"
   ]
  },
  {
   "cell_type": "code",
   "execution_count": 35,
   "metadata": {},
   "outputs": [
    {
     "name": "stdout",
     "output_type": "stream",
     "text": [
      "     \n",
      "    1\n",
      "   12\n",
      "  123\n",
      " 1234\n"
     ]
    }
   ],
   "source": [
    "''' \n",
    "         1\n",
    "        12\n",
    "       123\n",
    "      1234\n",
    "      '''\n",
    "      \n",
    "for i in range(5):\n",
    "    print((5-i)*' ',end='')\n",
    "    for j in range(i):\n",
    "        print( j+1,end='')\n",
    "        \n",
    "    print()\n",
    "          "
   ]
  },
  {
   "cell_type": "code",
   "execution_count": 36,
   "metadata": {},
   "outputs": [
    {
     "name": "stdout",
     "output_type": "stream",
     "text": [
      "     \n",
      "    1\n",
      "   21\n",
      "  321\n",
      " 4321\n"
     ]
    }
   ],
   "source": [
    "''' \n",
    "    1\n",
    "   21\n",
    "  321\n",
    " 4321\n",
    " \n",
    " '''\n",
    " \n",
    "for i in range(5):\n",
    "    print((5-i)*' ',end='')\n",
    "    for j in range(i):\n",
    "        print(i-j,end='')\n",
    "    print()"
   ]
  },
  {
   "cell_type": "code",
   "execution_count": 38,
   "metadata": {},
   "outputs": [
    {
     "name": "stdout",
     "output_type": "stream",
     "text": [
      "     5\n",
      "    45\n",
      "   345\n",
      "  2345\n",
      " 12345\n"
     ]
    }
   ],
   "source": [
    "''' \n",
    "     5\n",
    "    45\n",
    "   345\n",
    "  2345\n",
    "  '''\n",
    "for i in range(5):\n",
    "    print((5-i)*' ',end='')\n",
    "    for j in range(i+1):\n",
    "        print(5-(i-j),end='')\n",
    "    print()"
   ]
  },
  {
   "cell_type": "code",
   "execution_count": 69,
   "metadata": {},
   "outputs": [
    {
     "name": "stdout",
     "output_type": "stream",
     "text": [
      "   *  \n",
      " *   *\n",
      " * * *\n",
      " *   *\n"
     ]
    }
   ],
   "source": [
    "''' \n",
    "  *\n",
    "*   *\n",
    "* * *\n",
    "*   *\n",
    "\n",
    "'''\n",
    "\n",
    "for row in range(4):\n",
    "    for col in range(3):\n",
    "        if row!=0 and (col==0 or col==2) or (row==2 and col==1) or (row==0 and col!=0 and col!=2):\n",
    "            print(' *',end='')\n",
    "        else:\n",
    "            print('  ',end='')\n",
    "    print()\n",
    "        \n",
    "        "
   ]
  },
  {
   "cell_type": "code",
   "execution_count": 20,
   "metadata": {},
   "outputs": [
    {
     "name": "stdout",
     "output_type": "stream",
     "text": [
      " * * * *  \n",
      " *       *\n",
      " * * * *  \n",
      " *       *\n",
      " * * * *  \n"
     ]
    }
   ],
   "source": [
    "''' \n",
    "* * * *\n",
    "*      *\n",
    "* * * *\n",
    "*      *\n",
    "* * * *\n",
    "\n",
    "'''\n",
    "\n",
    "for row in range(5):\n",
    "    for col in range(5):\n",
    "        if  col==0 or ((row==0 or row==2 or row==4) and (col!=4) ) or (row==1 and col==4 ) or (row==3 and col==4):\n",
    "            print(' *',end='')\n",
    "        else:\n",
    "            print('  ',end = '')\n",
    "    print()"
   ]
  },
  {
   "cell_type": "code",
   "execution_count": 31,
   "metadata": {},
   "outputs": [
    {
     "name": "stdout",
     "output_type": "stream",
     "text": [
      "  * * *\n",
      " *   \n",
      " *   \n",
      "  * * *\n"
     ]
    }
   ],
   "source": [
    "''' \n",
    " * * *\n",
    "*\n",
    "*\n",
    " * * *\n",
    "\n",
    "\n",
    "'''\n",
    "\n",
    "for row in range(4):\n",
    "    for col in range(4):\n",
    "        if((row==0 or row==3) and col!=0 ) or (col==0 and(row==1 or row==2)):\n",
    "            print(' *',end='')\n",
    "        else:\n",
    "            print(' ',end='')\n",
    "    print()\n",
    "    \n"
   ]
  },
  {
   "cell_type": "code",
   "execution_count": 32,
   "metadata": {},
   "outputs": [
    {
     "name": "stdout",
     "output_type": "stream",
     "text": [
      "          \n",
      "         H\n",
      "       H H H\n",
      "     H H H H H\n",
      "   H H H H H H H\n",
      " H H H H H H H H H\n",
      "   H H H H H H H\n",
      "   H H H H H H H\n",
      "   H H H H H H H\n",
      "   H H H H H H H\n",
      "   H H H H H H H\n",
      "   H H H H H H H\n"
     ]
    }
   ],
   "source": [
    "\n",
    "'''\n",
    "         H\n",
    "       H H H\n",
    "     H H H H H\n",
    "   H H H H H H H\n",
    " H H H H H H H H H\n",
    "   H H H H H H H\n",
    "   H H H H H H H\n",
    "   H H H H H H H\n",
    "   H H H H H H H\n",
    "   H H H H H H H\n",
    "   H H H H H H H \n",
    "\n",
    "\n",
    "'''\n",
    "\n",
    "n = 5 \n",
    "for i in range(5+1):\n",
    "    for s in range(5-i):\n",
    "        print('  ',end='')\n",
    "    print( (2*i-1)*' H',end='')\n",
    "    print('\\n',end='')\n",
    "for i in range(5+1):\n",
    "    print(int((n/2))*' ',end='')\n",
    "    for  j in range(n+2):\n",
    "        print(' H',end='')\n",
    "       # print((5*(int((n/2)+1))*' '),end='')\n",
    "       # print(' H',end='')\n",
    "    print('\\n',end='')\n",
    "\n",
    "\n"
   ]
  },
  {
   "cell_type": "markdown",
   "metadata": {},
   "source": []
  },
  {
   "cell_type": "code",
   "execution_count": 80,
   "metadata": {},
   "outputs": [
    {
     "name": "stdout",
     "output_type": "stream",
     "text": [
      " * * * *\n",
      " *     *\n",
      " *     *\n",
      " * * * *\n"
     ]
    }
   ],
   "source": [
    "\"\"\"\n",
    "\n",
    "* * * * \n",
    "*     *\n",
    "*     *\n",
    "* * * *\n",
    "\n",
    "\n",
    "\"\"\"\n",
    "\n",
    "n=4\n",
    "for i in range(int(n)):\n",
    "    for j in range(int(n)):\n",
    "        if((j==0 or j==n-1 ) or (i!=j and(i==0 or i==n-1))):\n",
    "            print(' *',end='')\n",
    "        else:\n",
    "            print('  ',end='')\n",
    "    print()"
   ]
  },
  {
   "cell_type": "code",
   "execution_count": 83,
   "metadata": {},
   "outputs": [
    {
     "name": "stdout",
     "output_type": "stream",
     "text": [
      "\n",
      "1\n",
      "23\n",
      "456\n"
     ]
    }
   ],
   "source": [
    "\n",
    "''''\n",
    "1 \n",
    "2 3\n",
    "4 5 6\n",
    "7 8 9 10\n",
    "\n",
    "'''\n",
    "\n",
    "\n",
    "n=4\n",
    "num=1\n",
    "for i in range(n):\n",
    "    for j in range(i):\n",
    "        print(num,end='')\n",
    "        num+=1\n",
    "    print()\n",
    "    "
   ]
  },
  {
   "cell_type": "code",
   "execution_count": 103,
   "metadata": {},
   "outputs": [
    {
     "name": "stdout",
     "output_type": "stream",
     "text": [
      "\n",
      "1\n",
      "01\n",
      "101\n",
      "0101\n",
      "10101\n"
     ]
    }
   ],
   "source": [
    "'''\n",
    "1\n",
    "0 1\n",
    "1 0 1\n",
    "0 1 0 1\n",
    "1 0 1 0 1\n",
    "\n",
    "'''\n",
    "\n",
    "n=7\n",
    "for i in range(1,n):\n",
    "    for j in range(1,i):\n",
    "        if ((i+j)%2==2 or (i+j)%2==0 ):\n",
    "            print('0',end='')\n",
    "        else:\n",
    "            print('1',end='')\n",
    "            \n",
    "    print()"
   ]
  },
  {
   "cell_type": "code",
   "execution_count": 4,
   "metadata": {},
   "outputs": [
    {
     "name": "stdout",
     "output_type": "stream",
     "text": [
      "      * * * * *\n",
      "     * * * * *\n",
      "    * * * * *\n",
      "   * * * * *\n",
      "  * * * * *\n"
     ]
    }
   ],
   "source": [
    "n=5\n",
    "for i in range(n):\n",
    "    print((n-i)*' ',end='')\n",
    "    \n",
    "    for j in range(n):\n",
    "        print(' *',end='')\n",
    "    print()"
   ]
  },
  {
   "cell_type": "code",
   "execution_count": 55,
   "metadata": {},
   "outputs": [
    {
     "name": "stdout",
     "output_type": "stream",
     "text": [
      "    1\n",
      "   121\n",
      "  12321\n",
      " 1234321\n",
      "123454321\n"
     ]
    }
   ],
   "source": [
    "''' \n",
    "    1\n",
    "  2 1 2\n",
    "3 2 1 2 3 \n",
    "\n",
    "'''\n",
    "\n",
    "n=5\n",
    "for i in range(1,n+1):\n",
    "    print((n-i)*' ',end='')\n",
    "    for j in range(1,(2*i)):\n",
    "        if(j<=i):\n",
    "            print(j,end='')\n",
    "        else:\n",
    "            print((2*i-j),end='')\n",
    "    print()"
   ]
  },
  {
   "cell_type": "code",
   "execution_count": 54,
   "metadata": {},
   "outputs": [
    {
     "name": "stdout",
     "output_type": "stream",
     "text": [
      "0123"
     ]
    }
   ],
   "source": [
    "n=4\n",
    "for i in range(n):\n",
    "    print(i,end='')"
   ]
  },
  {
   "cell_type": "code",
   "execution_count": 56,
   "metadata": {},
   "outputs": [
    {
     "name": "stdout",
     "output_type": "stream",
     "text": [
      "   1\n",
      "  121\n",
      " 12321\n",
      "1234321\n"
     ]
    }
   ],
   "source": [
    "n = 4  # Adjust the number of rows if needed\n",
    "for i in range(1, n + 1):\n",
    "    print((n - i) * ' ', end='')  # Print leading spaces\n",
    "    for j in range(1, 2 * i):\n",
    "        if j <= i:\n",
    "            print(j, end='')  # Increasing part\n",
    "        else:\n",
    "            print(2 * i - j, end='')  # Decreasing part\n",
    "    print()\n"
   ]
  },
  {
   "cell_type": "code",
   "execution_count": null,
   "metadata": {},
   "outputs": [],
   "source": []
  }
 ],
 "metadata": {
  "kernelspec": {
   "display_name": "base",
   "language": "python",
   "name": "python3"
  },
  "language_info": {
   "codemirror_mode": {
    "name": "ipython",
    "version": 3
   },
   "file_extension": ".py",
   "mimetype": "text/x-python",
   "name": "python",
   "nbconvert_exporter": "python",
   "pygments_lexer": "ipython3",
   "version": "3.12.4"
  }
 },
 "nbformat": 4,
 "nbformat_minor": 2
}

{
 "cells": [
  {
   "cell_type": "code",
   "execution_count": 1,
   "id": "ef655ba3-1d0c-45b8-ae1b-d410002d1181",
   "metadata": {},
   "outputs": [
    {
     "name": "stdout",
     "output_type": "stream",
     "text": [
      "1.push 2.pop 3.display 4.exit\n",
      "1.push 2.pop 3.display 4.exit\n",
      "1.push 2.pop 3.display 4.exit\n",
      "THE ELEMENTS IN THE STACK ARE\n",
      "[1, 1]\n",
      "1.push 2.pop 3.display 4.exit\n",
      "1.push 2.pop 3.display 4.exit\n",
      "THE ELEMENTS IN THE STACK ARE\n",
      "[1, 1, 3]\n",
      "1.push 2.pop 3.display 4.exit\n",
      "THE ELEMENTS IN THE STACK ARE\n",
      "[1, 1, 3]\n",
      "1.push 2.pop 3.display 4.exit\n",
      "THE ELEMENTS IN THE STACK ARE\n",
      "[1, 1, 3]\n",
      "1.push 2.pop 3.display 4.exit\n",
      "THE ELEMENTS IN THE STACK ARE\n",
      "[1, 1, 3]\n",
      "1.push 2.pop 3.display 4.exit\n",
      "THE ELEMENTS IN THE STACK ARE\n",
      "[1, 1, 3]\n",
      "1.push 2.pop 3.display 4.exit\n",
      "THE ELEMENTS IN THE STACK ARE\n",
      "[1, 1, 3]\n",
      "1.push 2.pop 3.display 4.exit\n"
     ]
    },
    {
     "ename": "KeyboardInterrupt",
     "evalue": "Interrupted by user",
     "output_type": "error",
     "traceback": [
      "\u001b[1;31m---------------------------------------------------------------------------\u001b[0m",
      "\u001b[1;31mKeyboardInterrupt\u001b[0m                         Traceback (most recent call last)",
      "Cell \u001b[1;32mIn[1], line 6\u001b[0m\n\u001b[0;32m      2\u001b[0m \u001b[38;5;28;01mwhile\u001b[39;00m(\u001b[38;5;241m1\u001b[39m):\n\u001b[0;32m      4\u001b[0m     \u001b[38;5;28mprint\u001b[39m(\u001b[38;5;124m'\u001b[39m\u001b[38;5;124m1.push 2.pop 3.display 4.exit\u001b[39m\u001b[38;5;124m'\u001b[39m)\n\u001b[1;32m----> 6\u001b[0m     a\u001b[38;5;241m=\u001b[39m\u001b[38;5;28mint\u001b[39m(\u001b[38;5;28;43minput\u001b[39;49m\u001b[43m(\u001b[49m\u001b[38;5;124;43m'\u001b[39;49m\u001b[38;5;124;43menter the op to be performed\u001b[39;49m\u001b[38;5;124;43m'\u001b[39;49m\u001b[43m)\u001b[49m)\n\u001b[0;32m      7\u001b[0m     \u001b[38;5;28;01mif\u001b[39;00m a\u001b[38;5;241m==\u001b[39m\u001b[38;5;241m1\u001b[39m:\n\u001b[0;32m      8\u001b[0m         x\u001b[38;5;241m=\u001b[39m\u001b[38;5;28mint\u001b[39m(\u001b[38;5;28minput\u001b[39m(\u001b[38;5;124m'\u001b[39m\u001b[38;5;124menter element to stack\u001b[39m\u001b[38;5;124m'\u001b[39m))\n",
      "File \u001b[1;32mc:\\Users\\ADMIN\\AppData\\Local\\Programs\\Python\\Python312\\Lib\\site-packages\\ipykernel\\kernelbase.py:1282\u001b[0m, in \u001b[0;36mKernel.raw_input\u001b[1;34m(self, prompt)\u001b[0m\n\u001b[0;32m   1280\u001b[0m     msg \u001b[38;5;241m=\u001b[39m \u001b[38;5;124m\"\u001b[39m\u001b[38;5;124mraw_input was called, but this frontend does not support input requests.\u001b[39m\u001b[38;5;124m\"\u001b[39m\n\u001b[0;32m   1281\u001b[0m     \u001b[38;5;28;01mraise\u001b[39;00m StdinNotImplementedError(msg)\n\u001b[1;32m-> 1282\u001b[0m \u001b[38;5;28;01mreturn\u001b[39;00m \u001b[38;5;28;43mself\u001b[39;49m\u001b[38;5;241;43m.\u001b[39;49m\u001b[43m_input_request\u001b[49m\u001b[43m(\u001b[49m\n\u001b[0;32m   1283\u001b[0m \u001b[43m    \u001b[49m\u001b[38;5;28;43mstr\u001b[39;49m\u001b[43m(\u001b[49m\u001b[43mprompt\u001b[49m\u001b[43m)\u001b[49m\u001b[43m,\u001b[49m\n\u001b[0;32m   1284\u001b[0m \u001b[43m    \u001b[49m\u001b[38;5;28;43mself\u001b[39;49m\u001b[38;5;241;43m.\u001b[39;49m\u001b[43m_parent_ident\u001b[49m\u001b[43m[\u001b[49m\u001b[38;5;124;43m\"\u001b[39;49m\u001b[38;5;124;43mshell\u001b[39;49m\u001b[38;5;124;43m\"\u001b[39;49m\u001b[43m]\u001b[49m\u001b[43m,\u001b[49m\n\u001b[0;32m   1285\u001b[0m \u001b[43m    \u001b[49m\u001b[38;5;28;43mself\u001b[39;49m\u001b[38;5;241;43m.\u001b[39;49m\u001b[43mget_parent\u001b[49m\u001b[43m(\u001b[49m\u001b[38;5;124;43m\"\u001b[39;49m\u001b[38;5;124;43mshell\u001b[39;49m\u001b[38;5;124;43m\"\u001b[39;49m\u001b[43m)\u001b[49m\u001b[43m,\u001b[49m\n\u001b[0;32m   1286\u001b[0m \u001b[43m    \u001b[49m\u001b[43mpassword\u001b[49m\u001b[38;5;241;43m=\u001b[39;49m\u001b[38;5;28;43;01mFalse\u001b[39;49;00m\u001b[43m,\u001b[49m\n\u001b[0;32m   1287\u001b[0m \u001b[43m\u001b[49m\u001b[43m)\u001b[49m\n",
      "File \u001b[1;32mc:\\Users\\ADMIN\\AppData\\Local\\Programs\\Python\\Python312\\Lib\\site-packages\\ipykernel\\kernelbase.py:1325\u001b[0m, in \u001b[0;36mKernel._input_request\u001b[1;34m(self, prompt, ident, parent, password)\u001b[0m\n\u001b[0;32m   1322\u001b[0m \u001b[38;5;28;01mexcept\u001b[39;00m \u001b[38;5;167;01mKeyboardInterrupt\u001b[39;00m:\n\u001b[0;32m   1323\u001b[0m     \u001b[38;5;66;03m# re-raise KeyboardInterrupt, to truncate traceback\u001b[39;00m\n\u001b[0;32m   1324\u001b[0m     msg \u001b[38;5;241m=\u001b[39m \u001b[38;5;124m\"\u001b[39m\u001b[38;5;124mInterrupted by user\u001b[39m\u001b[38;5;124m\"\u001b[39m\n\u001b[1;32m-> 1325\u001b[0m     \u001b[38;5;28;01mraise\u001b[39;00m \u001b[38;5;167;01mKeyboardInterrupt\u001b[39;00m(msg) \u001b[38;5;28;01mfrom\u001b[39;00m \u001b[38;5;28;01mNone\u001b[39;00m\n\u001b[0;32m   1326\u001b[0m \u001b[38;5;28;01mexcept\u001b[39;00m \u001b[38;5;167;01mException\u001b[39;00m:\n\u001b[0;32m   1327\u001b[0m     \u001b[38;5;28mself\u001b[39m\u001b[38;5;241m.\u001b[39mlog\u001b[38;5;241m.\u001b[39mwarning(\u001b[38;5;124m\"\u001b[39m\u001b[38;5;124mInvalid Message:\u001b[39m\u001b[38;5;124m\"\u001b[39m, exc_info\u001b[38;5;241m=\u001b[39m\u001b[38;5;28;01mTrue\u001b[39;00m)\n",
      "\u001b[1;31mKeyboardInterrupt\u001b[0m: Interrupted by user"
     ]
    }
   ],
   "source": [
    "stack=[]\n",
    "while(1):\n",
    "    \n",
    "    print('1.push 2.pop 3.display 4.exit')\n",
    "\n",
    "    a=int(input('enter the op to be performed'))\n",
    "    if a==1:\n",
    "        x=int(input('enter element to stack'))\n",
    "        stack.append(x)\n",
    "    elif a==2:\n",
    "        stack.pop()\n",
    "    elif a==3:\n",
    "        print('THE ELEMENTS IN THE STACK ARE')\n",
    "        print(stack)\n",
    "    else:\n",
    "        break"
   ]
  },
  {
   "cell_type": "code",
   "execution_count": 1,
   "id": "e3c6cf94-3a5d-4045-b359-5b40dd35dfd6",
   "metadata": {},
   "outputs": [
    {
     "name": "stdout",
     "output_type": "stream",
     "text": [
      "1.push 2.pop 3.display\n"
     ]
    },
    {
     "ename": "ValueError",
     "evalue": "invalid literal for int() with base 10: ''",
     "output_type": "error",
     "traceback": [
      "\u001b[1;31m---------------------------------------------------------------------------\u001b[0m",
      "\u001b[1;31mValueError\u001b[0m                                Traceback (most recent call last)",
      "Cell \u001b[1;32mIn[1], line 23\u001b[0m\n\u001b[0;32m     21\u001b[0m \u001b[38;5;28;01mwhile\u001b[39;00m(\u001b[38;5;241m1\u001b[39m):\n\u001b[0;32m     22\u001b[0m     \u001b[38;5;28mprint\u001b[39m(\u001b[38;5;124m'\u001b[39m\u001b[38;5;124m1.push 2.pop 3.display\u001b[39m\u001b[38;5;124m'\u001b[39m)\n\u001b[1;32m---> 23\u001b[0m     n \u001b[38;5;241m=\u001b[39m \u001b[38;5;28;43mint\u001b[39;49m\u001b[43m(\u001b[49m\u001b[38;5;28;43minput\u001b[39;49m\u001b[43m(\u001b[49m\u001b[38;5;124;43m'\u001b[39;49m\u001b[38;5;124;43menter your choice:\u001b[39;49m\u001b[38;5;124;43m'\u001b[39;49m\u001b[43m)\u001b[49m\u001b[43m)\u001b[49m\n\u001b[0;32m     24\u001b[0m     \u001b[38;5;28;01mif\u001b[39;00m n\u001b[38;5;241m==\u001b[39m\u001b[38;5;241m1\u001b[39m :\n\u001b[0;32m     25\u001b[0m         push()\n",
      "\u001b[1;31mValueError\u001b[0m: invalid literal for int() with base 10: ''"
     ]
    }
   ],
   "source": [
    "size = 5\n",
    "stack=[]\n",
    "def push():\n",
    "    if len(stack)==size:\n",
    "        print('overflow')\n",
    "    else:\n",
    "        v = int(input('enter the value to the stack'))\n",
    "        stack.append(v)\n",
    "def pops():\n",
    "    if not stack:\n",
    "        print('underflow')\n",
    "    else:\n",
    "        v = stack.pop()\n",
    "        print('popped '+str(v))\n",
    "    \n",
    "def display():\n",
    "    if not stack:\n",
    "        print('no elements to display')\n",
    "    else:\n",
    "        print(stack)\n",
    "while(1):\n",
    "    print('1.push 2.pop 3.display')\n",
    "    n = int(input('enter your choice:'))\n",
    "    if n==1 :\n",
    "        push()\n",
    "    elif n==2 :\n",
    "        pops()\n",
    "    elif n==3:\n",
    "        display()\n",
    "    elif n==4:\n",
    "        break\n",
    "        "
   ]
  },
  {
   "cell_type": "code",
   "execution_count": 2,
   "id": "3ac23464-6dd3-425b-a6a0-43ca253ecab3",
   "metadata": {},
   "outputs": [],
   "source": [
    "import collections\n",
    "stack = collections.deque()\n",
    "\n"
   ]
  },
  {
   "cell_type": "code",
   "execution_count": 3,
   "id": "11c79a8b-1796-4997-9be4-5e9bdee6808c",
   "metadata": {},
   "outputs": [
    {
     "data": {
      "text/plain": [
       "collections.deque"
      ]
     },
     "execution_count": 3,
     "metadata": {},
     "output_type": "execute_result"
    }
   ],
   "source": [
    "type(stack)"
   ]
  },
  {
   "cell_type": "code",
   "execution_count": 4,
   "id": "e3a6bd4f-541d-4fa1-b3f0-5907d857b2a3",
   "metadata": {},
   "outputs": [],
   "source": [
    "stack.append(1)"
   ]
  },
  {
   "cell_type": "code",
   "execution_count": 5,
   "id": "a710a898-8df8-4481-9866-5a1fbbfa5768",
   "metadata": {},
   "outputs": [
    {
     "data": {
      "text/plain": [
       "deque([1])"
      ]
     },
     "execution_count": 5,
     "metadata": {},
     "output_type": "execute_result"
    }
   ],
   "source": [
    "stack"
   ]
  },
  {
   "cell_type": "code",
   "execution_count": 6,
   "id": "513ee4e7-48e0-4dea-82f4-ea0b53ffc98f",
   "metadata": {},
   "outputs": [
    {
     "data": {
      "text/plain": [
       "1"
      ]
     },
     "execution_count": 6,
     "metadata": {},
     "output_type": "execute_result"
    }
   ],
   "source": [
    "stack.pop()"
   ]
  },
  {
   "cell_type": "code",
   "execution_count": 7,
   "id": "4f4b4586-0038-40c5-a1a1-5770affa27ef",
   "metadata": {},
   "outputs": [
    {
     "data": {
      "text/plain": [
       "deque([])"
      ]
     },
     "execution_count": 7,
     "metadata": {},
     "output_type": "execute_result"
    }
   ],
   "source": [
    "stack"
   ]
  },
  {
   "cell_type": "code",
   "execution_count": 8,
   "id": "5556c3f8-46a1-488b-8336-7a5a576722da",
   "metadata": {},
   "outputs": [
    {
     "data": {
      "text/plain": [
       "True"
      ]
     },
     "execution_count": 8,
     "metadata": {},
     "output_type": "execute_result"
    }
   ],
   "source": [
    "not stack"
   ]
  },
  {
   "cell_type": "code",
   "execution_count": 9,
   "id": "5110b688-16ba-461f-9110-690f8a0b5fb4",
   "metadata": {},
   "outputs": [
    {
     "ename": "SyntaxError",
     "evalue": "invalid syntax (242947730.py, line 1)",
     "output_type": "error",
     "traceback": [
      "\u001b[1;36m  Cell \u001b[1;32mIn[9], line 1\u001b[1;36m\u001b[0m\n\u001b[1;33m    true beacsue all the elments got popped out\u001b[0m\n\u001b[1;37m         ^\u001b[0m\n\u001b[1;31mSyntaxError\u001b[0m\u001b[1;31m:\u001b[0m invalid syntax\n"
     ]
    }
   ],
   "source": [
    "true beacsue all the elments got popped out \n",
    "\n"
   ]
  },
  {
   "cell_type": "code",
   "execution_count": 10,
   "id": "86c5dfa3-3a82-4552-9ec9-9cb7192fd027",
   "metadata": {},
   "outputs": [],
   "source": [
    "stack.append(2)"
   ]
  },
  {
   "cell_type": "code",
   "execution_count": 11,
   "id": "0297611c-2e00-4fdd-b34b-ca4078ce39f1",
   "metadata": {},
   "outputs": [
    {
     "data": {
      "text/plain": [
       "2"
      ]
     },
     "execution_count": 11,
     "metadata": {},
     "output_type": "execute_result"
    }
   ],
   "source": [
    "stack[-1]  # displays the stack elements"
   ]
  },
  {
   "cell_type": "code",
   "execution_count": 12,
   "id": "158aa7fc-a74b-4700-843e-f47f2f260930",
   "metadata": {},
   "outputs": [],
   "source": [
    "import queue\n",
    "stack = queue.LifoQueue(3)\n"
   ]
  },
  {
   "cell_type": "code",
   "execution_count": 13,
   "id": "6479301e-bf59-41ed-9a01-59f33073a291",
   "metadata": {},
   "outputs": [
    {
     "data": {
      "text/plain": [
       "queue.LifoQueue"
      ]
     },
     "execution_count": 13,
     "metadata": {},
     "output_type": "execute_result"
    }
   ],
   "source": [
    "type(stack)"
   ]
  },
  {
   "cell_type": "code",
   "execution_count": 14,
   "id": "e52bcd0a-50bc-464b-9c8e-9a12c2803cea",
   "metadata": {},
   "outputs": [],
   "source": [
    "stack.put(1)"
   ]
  },
  {
   "cell_type": "code",
   "execution_count": 15,
   "id": "0d567c10-a113-4ef3-a3b4-e589ca122f2b",
   "metadata": {},
   "outputs": [
    {
     "data": {
      "text/plain": [
       "1"
      ]
     },
     "execution_count": 15,
     "metadata": {},
     "output_type": "execute_result"
    }
   ],
   "source": [
    "stack.get()"
   ]
  },
  {
   "cell_type": "code",
   "execution_count": 16,
   "id": "71b730d7-d8fe-4436-aaed-faa455b23a4b",
   "metadata": {},
   "outputs": [],
   "source": [
    "stack.put(2)"
   ]
  },
  {
   "cell_type": "code",
   "execution_count": 17,
   "id": "89a86f17-06ca-4e13-ae31-14d9ef8b2591",
   "metadata": {},
   "outputs": [],
   "source": [
    "stack.put(3)"
   ]
  },
  {
   "cell_type": "code",
   "execution_count": 18,
   "id": "7215b4ae-f6fd-45f5-8262-2e5351e103ef",
   "metadata": {},
   "outputs": [
    {
     "data": {
      "text/plain": [
       "3"
      ]
     },
     "execution_count": 18,
     "metadata": {},
     "output_type": "execute_result"
    }
   ],
   "source": [
    "stack.get()\n"
   ]
  },
  {
   "cell_type": "code",
   "execution_count": 19,
   "id": "7ce6b78e-e368-4269-97ce-60009feb9ccd",
   "metadata": {},
   "outputs": [
    {
     "data": {
      "text/plain": [
       "2"
      ]
     },
     "execution_count": 19,
     "metadata": {},
     "output_type": "execute_result"
    }
   ],
   "source": [
    "stack.get()"
   ]
  },
  {
   "cell_type": "code",
   "execution_count": 20,
   "id": "0fa84e4c-cd7b-4920-97af-305376c82ca4",
   "metadata": {},
   "outputs": [
    {
     "ename": "Empty",
     "evalue": "",
     "output_type": "error",
     "traceback": [
      "\u001b[1;31m---------------------------------------------------------------------------\u001b[0m",
      "\u001b[1;31mEmpty\u001b[0m                                     Traceback (most recent call last)",
      "Cell \u001b[1;32mIn[20], line 1\u001b[0m\n\u001b[1;32m----> 1\u001b[0m \u001b[43mstack\u001b[49m\u001b[38;5;241;43m.\u001b[39;49m\u001b[43mget\u001b[49m\u001b[43m(\u001b[49m\u001b[43mtimeout\u001b[49m\u001b[38;5;241;43m=\u001b[39;49m\u001b[38;5;241;43m1\u001b[39;49m\u001b[43m)\u001b[49m\n",
      "File \u001b[1;32mC:\\Program Files\\WindowsApps\\PythonSoftwareFoundation.Python.3.11_3.11.2544.0_x64__qbz5n2kfra8p0\\Lib\\queue.py:179\u001b[0m, in \u001b[0;36mQueue.get\u001b[1;34m(self, block, timeout)\u001b[0m\n\u001b[0;32m    177\u001b[0m         remaining \u001b[38;5;241m=\u001b[39m endtime \u001b[38;5;241m-\u001b[39m time()\n\u001b[0;32m    178\u001b[0m         \u001b[38;5;28;01mif\u001b[39;00m remaining \u001b[38;5;241m<\u001b[39m\u001b[38;5;241m=\u001b[39m \u001b[38;5;241m0.0\u001b[39m:\n\u001b[1;32m--> 179\u001b[0m             \u001b[38;5;28;01mraise\u001b[39;00m Empty\n\u001b[0;32m    180\u001b[0m         \u001b[38;5;28mself\u001b[39m\u001b[38;5;241m.\u001b[39mnot_empty\u001b[38;5;241m.\u001b[39mwait(remaining)\n\u001b[0;32m    181\u001b[0m item \u001b[38;5;241m=\u001b[39m \u001b[38;5;28mself\u001b[39m\u001b[38;5;241m.\u001b[39m_get()\n",
      "\u001b[1;31mEmpty\u001b[0m: "
     ]
    }
   ],
   "source": [
    "stack.get(timeout=1)"
   ]
  },
  {
   "cell_type": "code",
   "execution_count": null,
   "id": "61efff69-ddb7-4226-a190-05c3b148b15d",
   "metadata": {},
   "outputs": [],
   "source": []
  },
  {
   "cell_type": "code",
   "execution_count": null,
   "id": "f8687dc8-b32f-4169-9e2c-59be17d07461",
   "metadata": {},
   "outputs": [],
   "source": []
  },
  {
   "cell_type": "code",
   "execution_count": 21,
   "id": "cdd73378-baaa-4044-b17f-0e866aa9a832",
   "metadata": {},
   "outputs": [
    {
     "ename": "SyntaxError",
     "evalue": "invalid syntax (2694883597.py, line 1)",
     "output_type": "error",
     "traceback": [
      "\u001b[1;36m  Cell \u001b[1;32mIn[21], line 1\u001b[1;36m\u001b[0m\n\u001b[1;33m    QUEUE DATA STRUCTURE\u001b[0m\n\u001b[1;37m          ^\u001b[0m\n\u001b[1;31mSyntaxError\u001b[0m\u001b[1;31m:\u001b[0m invalid syntax\n"
     ]
    }
   ],
   "source": [
    "QUEUE DATA STRUCTURE"
   ]
  },
  {
   "cell_type": "code",
   "execution_count": 22,
   "id": "63ad89af-142d-4616-b4ab-a33b120bab1c",
   "metadata": {},
   "outputs": [],
   "source": [
    "queue = []"
   ]
  },
  {
   "cell_type": "code",
   "execution_count": 23,
   "id": "debbd078-095d-445e-b519-d8d1541cd88b",
   "metadata": {},
   "outputs": [
    {
     "data": {
      "text/plain": [
       "list"
      ]
     },
     "execution_count": 23,
     "metadata": {},
     "output_type": "execute_result"
    }
   ],
   "source": [
    "type(queue)\n"
   ]
  },
  {
   "cell_type": "code",
   "execution_count": 24,
   "id": "7f69a76a-0ea5-47a6-834b-c61ce750d942",
   "metadata": {},
   "outputs": [],
   "source": [
    "queue.append(1)"
   ]
  },
  {
   "cell_type": "code",
   "execution_count": 25,
   "id": "26c34ecb-ef41-47b1-adf4-ad3bdc5b82b3",
   "metadata": {},
   "outputs": [
    {
     "data": {
      "text/plain": [
       "[1]"
      ]
     },
     "execution_count": 25,
     "metadata": {},
     "output_type": "execute_result"
    }
   ],
   "source": [
    "queue"
   ]
  },
  {
   "cell_type": "code",
   "execution_count": 26,
   "id": "6f30c705-7206-4908-bb33-1c34c53c7b4b",
   "metadata": {},
   "outputs": [],
   "source": [
    "queue.append(2)"
   ]
  },
  {
   "cell_type": "code",
   "execution_count": 27,
   "id": "27ac4698-2f74-4665-8055-05b5c50bc6b6",
   "metadata": {},
   "outputs": [
    {
     "data": {
      "text/plain": [
       "[1, 2]"
      ]
     },
     "execution_count": 27,
     "metadata": {},
     "output_type": "execute_result"
    }
   ],
   "source": [
    "queue"
   ]
  },
  {
   "cell_type": "code",
   "execution_count": 28,
   "id": "9be3bb42-ff2e-4cff-b7d6-22c505ffa27e",
   "metadata": {},
   "outputs": [
    {
     "data": {
      "text/plain": [
       "2"
      ]
     },
     "execution_count": 28,
     "metadata": {},
     "output_type": "execute_result"
    }
   ],
   "source": [
    "queue.pop()"
   ]
  },
  {
   "cell_type": "code",
   "execution_count": 29,
   "id": "d8487a5f-163b-41a0-b04c-5c20f52aea05",
   "metadata": {},
   "outputs": [],
   "source": [
    "queue.append(3)"
   ]
  },
  {
   "cell_type": "code",
   "execution_count": 30,
   "id": "ae7409aa-37a8-4487-811c-427fe7840947",
   "metadata": {},
   "outputs": [
    {
     "data": {
      "text/plain": [
       "[1, 3]"
      ]
     },
     "execution_count": 30,
     "metadata": {},
     "output_type": "execute_result"
    }
   ],
   "source": [
    "queue"
   ]
  },
  {
   "cell_type": "code",
   "execution_count": 31,
   "id": "13b7ca41-8cda-4612-80e2-c92c8d910f58",
   "metadata": {},
   "outputs": [
    {
     "data": {
      "text/plain": [
       "2"
      ]
     },
     "execution_count": 31,
     "metadata": {},
     "output_type": "execute_result"
    }
   ],
   "source": [
    "len(queue)"
   ]
  },
  {
   "cell_type": "code",
   "execution_count": 32,
   "id": "602ff374-dc05-4895-bf3d-eb74ec1526c4",
   "metadata": {},
   "outputs": [
    {
     "name": "stdout",
     "output_type": "stream",
     "text": [
      "1.enqueue 2. dequeue 3.display\n"
     ]
    },
    {
     "ename": "ValueError",
     "evalue": "invalid literal for int() with base 10: ''",
     "output_type": "error",
     "traceback": [
      "\u001b[1;31m---------------------------------------------------------------------------\u001b[0m",
      "\u001b[1;31mValueError\u001b[0m                                Traceback (most recent call last)",
      "Cell \u001b[1;32mIn[32], line 22\u001b[0m\n\u001b[0;32m     20\u001b[0m \u001b[38;5;28;01mwhile\u001b[39;00m(\u001b[38;5;241m1\u001b[39m):\n\u001b[0;32m     21\u001b[0m     \u001b[38;5;28mprint\u001b[39m(\u001b[38;5;124m'\u001b[39m\u001b[38;5;124m1.enqueue 2. dequeue 3.display\u001b[39m\u001b[38;5;124m'\u001b[39m)\n\u001b[1;32m---> 22\u001b[0m     choice \u001b[38;5;241m=\u001b[39m \u001b[38;5;28;43mint\u001b[39;49m\u001b[43m(\u001b[49m\u001b[38;5;28;43minput\u001b[39;49m\u001b[43m(\u001b[49m\u001b[38;5;124;43m'\u001b[39;49m\u001b[38;5;124;43menter your choice\u001b[39;49m\u001b[38;5;124;43m'\u001b[39;49m\u001b[43m)\u001b[49m\u001b[43m)\u001b[49m\n\u001b[0;32m     23\u001b[0m     \u001b[38;5;28;01mif\u001b[39;00m choice \u001b[38;5;241m==\u001b[39m \u001b[38;5;241m1\u001b[39m:\n\u001b[0;32m     24\u001b[0m         enqueue()\n",
      "\u001b[1;31mValueError\u001b[0m: invalid literal for int() with base 10: ''"
     ]
    }
   ],
   "source": [
    "size = 3\n",
    "queue = []\n",
    "\n",
    "def enqueue():\n",
    "    if len(queue)==size:\n",
    "        print('overflow')\n",
    "    else:\n",
    "        v = int(input('enter push value'))\n",
    "        queue.append(v)\n",
    "def delqueue():\n",
    "    if not queue:\n",
    "        print('underflow')\n",
    "    else:\n",
    "        print('poppped'+str(queue.pop()))\n",
    "def display():\n",
    "    if not queue:\n",
    "        print('no element to dis')\n",
    "    else:\n",
    "        print(queue)\n",
    "while(1):\n",
    "    print('1.enqueue 2. dequeue 3.display')\n",
    "    choice = int(input('enter your choice'))\n",
    "    if choice == 1:\n",
    "        enqueue()\n",
    "    elif choice==2:\n",
    "        delqueue()\n",
    "    elif choice==3:\n",
    "        display()\n",
    "    else:\n",
    "        break\n",
    "        "
   ]
  },
  {
   "cell_type": "code",
   "execution_count": 33,
   "id": "2e31609e-ea41-4b95-9e04-2efa1b023431",
   "metadata": {},
   "outputs": [
    {
     "ename": "SyntaxError",
     "evalue": "invalid syntax (3961483988.py, line 1)",
     "output_type": "error",
     "traceback": [
      "\u001b[1;36m  Cell \u001b[1;32mIn[33], line 1\u001b[1;36m\u001b[0m\n\u001b[1;33m    queue using class deque   from collections double ended queue\u001b[0m\n\u001b[1;37m          ^\u001b[0m\n\u001b[1;31mSyntaxError\u001b[0m\u001b[1;31m:\u001b[0m invalid syntax\n"
     ]
    }
   ],
   "source": [
    "queue using class deque   from collections double ended queue "
   ]
  },
  {
   "cell_type": "code",
   "execution_count": null,
   "id": "3129ca85-4314-405b-a17d-1cbd03bf4539",
   "metadata": {},
   "outputs": [],
   "source": []
  },
  {
   "cell_type": "code",
   "execution_count": 34,
   "id": "370ed584-8970-40a1-b335-b781c62d293e",
   "metadata": {},
   "outputs": [
    {
     "ename": "SyntaxError",
     "evalue": "invalid syntax (2512515297.py, line 1)",
     "output_type": "error",
     "traceback": [
      "\u001b[1;36m  Cell \u001b[1;32mIn[34], line 1\u001b[1;36m\u001b[0m\n\u001b[1;33m    linked lists\u001b[0m\n\u001b[1;37m           ^\u001b[0m\n\u001b[1;31mSyntaxError\u001b[0m\u001b[1;31m:\u001b[0m invalid syntax\n"
     ]
    }
   ],
   "source": [
    "\n",
    "linked lists"
   ]
  },
  {
   "cell_type": "code",
   "execution_count": 35,
   "id": "0b928bed-cb17-4179-ab26-9ebdc251aa9d",
   "metadata": {},
   "outputs": [],
   "source": [
    "# create the node using class\n",
    "\n",
    "class Node :\n",
    "    def __init__(self,data):\n",
    "        self.data =data\n",
    "        self.ref = None\n",
    "node1 = Node(10)"
   ]
  },
  {
   "cell_type": "code",
   "execution_count": 36,
   "id": "144f8804-a635-4e71-998d-ba1f9a276c6f",
   "metadata": {},
   "outputs": [
    {
     "name": "stdout",
     "output_type": "stream",
     "text": [
      "<__main__.Node object at 0x000001A457D9F150>\n"
     ]
    }
   ],
   "source": [
    "print(node1)\n"
   ]
  },
  {
   "cell_type": "code",
   "execution_count": 37,
   "id": "f39665d4-e982-4454-b909-7c464f8a7c05",
   "metadata": {},
   "outputs": [
    {
     "name": "stdout",
     "output_type": "stream",
     "text": [
      "empty\n"
     ]
    }
   ],
   "source": [
    "# just travering the linked list code \n",
    "\n",
    "class linkedlist:\n",
    "    def __init__(self):\n",
    "        self.head =None\n",
    "    def print(self):\n",
    "        if self.head==None:\n",
    "            print('empty')\n",
    "        else:\n",
    "            node = self.head\n",
    "            while node is not None:\n",
    "                print(node.data)\n",
    "                node = node.ref\n",
    "l  = linkedlist()\n",
    "l.print()"
   ]
  },
  {
   "cell_type": "code",
   "execution_count": 38,
   "id": "65dabd12-0559-47a6-871e-c90e80c623d8",
   "metadata": {},
   "outputs": [],
   "source": [
    "class Node:\n",
    "    def __init__(self,data):\n",
    "        self.data=data\n",
    "        self.ref = None\n",
    "    def print(self):\n",
    "        print(self.data)\n",
    "n = Node(10)\n",
    "\n"
   ]
  },
  {
   "cell_type": "code",
   "execution_count": 39,
   "id": "9cfb2ab9-9e28-409b-b1bc-1c22e525b915",
   "metadata": {},
   "outputs": [
    {
     "name": "stdout",
     "output_type": "stream",
     "text": [
      "<__main__.Node object at 0x000001A457D5FAD0>\n",
      "10\n"
     ]
    }
   ],
   "source": [
    "print(n)\n",
    "n.print()"
   ]
  },
  {
   "cell_type": "code",
   "execution_count": null,
   "id": "cf0accd4-3868-4f7c-9457-316544607634",
   "metadata": {},
   "outputs": [],
   "source": []
  },
  {
   "cell_type": "code",
   "execution_count": 40,
   "id": "ad9a874f-8a21-4365-b593-a625f5a1eb1b",
   "metadata": {},
   "outputs": [
    {
     "ename": "TypeError",
     "evalue": "linkedlist.Beg_add() missing 1 required positional argument: 'data'",
     "output_type": "error",
     "traceback": [
      "\u001b[1;31m---------------------------------------------------------------------------\u001b[0m",
      "\u001b[1;31mTypeError\u001b[0m                                 Traceback (most recent call last)",
      "Cell \u001b[1;32mIn[40], line 25\u001b[0m\n\u001b[0;32m     22\u001b[0m                 node \u001b[38;5;241m=\u001b[39m node\u001b[38;5;241m.\u001b[39mref\n\u001b[0;32m     24\u001b[0m a \u001b[38;5;241m=\u001b[39m linkedlist\n\u001b[1;32m---> 25\u001b[0m \u001b[43ma\u001b[49m\u001b[38;5;241;43m.\u001b[39;49m\u001b[43mBeg_add\u001b[49m\u001b[43m(\u001b[49m\u001b[38;5;241;43m10\u001b[39;49m\u001b[43m)\u001b[49m\n",
      "\u001b[1;31mTypeError\u001b[0m: linkedlist.Beg_add() missing 1 required positional argument: 'data'"
     ]
    }
   ],
   "source": [
    "\n",
    "class Node :\n",
    "    def __init__(self,data):\n",
    "        self.data=data\n",
    "        self.link = None\n",
    "        \n",
    "class linkedlist:\n",
    "    def __init__(self):\n",
    "        self.head=None\n",
    "\n",
    "    def Beg_add(head,data):\n",
    "        new = node(data)\n",
    "        new.link = self.head\n",
    "        self.head=new\n",
    "        \n",
    "    def print(self):\n",
    "        if self.head==None:\n",
    "            print('empty')\n",
    "        else:\n",
    "            node = self.head\n",
    "            while node is not None:\n",
    "                print(node.data)\n",
    "                node = node.ref\n",
    "            \n",
    "a = linkedlist\n",
    "a.Beg_add(10)\n",
    "\n",
    "        "
   ]
  },
  {
   "cell_type": "code",
   "execution_count": 41,
   "id": "43b62aa4-89f4-44ad-9962-94ab644db09a",
   "metadata": {},
   "outputs": [
    {
     "name": "stdout",
     "output_type": "stream",
     "text": [
      "10\n",
      "90\n"
     ]
    }
   ],
   "source": [
    "class Node:\n",
    "    def __init__(self,data):\n",
    "        self.data=data\n",
    "        self.ref = None\n",
    "        \n",
    "class linkedlist:\n",
    "    def __init__(self):\n",
    "        self.head=None\n",
    "        self.left=self.head\n",
    "        self.right=self.head\n",
    "        \n",
    "    def print(self):\n",
    "       \n",
    "        if self.left is None:\n",
    "            print('empty')\n",
    "        else:\n",
    "            temp1=self.left\n",
    "            while temp1 is not None:\n",
    "                print(temp1.data)\n",
    "                temp1=temp1.ref\n",
    "                \n",
    "    def add_beg(self,data):\n",
    "        \n",
    "        newnode = Node(data)\n",
    "        \n",
    "        newnode.ref=self.left\n",
    "        self.left=newnode\n",
    "        \n",
    "    def add_end(self,data):\n",
    "\n",
    "\n",
    "        \n",
    "        newnode=Node(data)\n",
    "        self.ref=newnode\n",
    "        newnode.ref=None\n",
    "        \n",
    "l1 = linkedlist()\n",
    "l1.add_beg(90)\n",
    "l1.add_beg(10)\n",
    "l1.add_end(30)\n",
    "l1.print()\n",
    "            "
   ]
  },
  {
   "cell_type": "code",
   "execution_count": 42,
   "id": "68cabf72-98f8-450f-86e5-4ad30f2f21fa",
   "metadata": {},
   "outputs": [
    {
     "name": "stdout",
     "output_type": "stream",
     "text": [
      "30\n",
      "20\n",
      "10\n",
      "50\n"
     ]
    }
   ],
   "source": [
    "class Node:\n",
    "    def __init__(self,data):\n",
    "        self.data=data\n",
    "        self.link=None\n",
    "\n",
    "class llist:\n",
    "    def __init__(self):\n",
    "        self.head=None\n",
    "    def add_beg(self,data):\n",
    "        newnode = Node(data)\n",
    "        newnode.link = self.head\n",
    "        self.head=newnode\n",
    "        \n",
    "    def add_end(self,data):\n",
    "        newnode = Node(data)\n",
    "        \n",
    "        if self.head==None:\n",
    "            self.head=newnode\n",
    "        else:\n",
    "            temp=self.head\n",
    "            while(temp.link!=None):\n",
    "                temp=temp.link\n",
    "                if(temp.link==None):\n",
    "                    temp.link=newnode\n",
    "                    newnode.link=None\n",
    "            \n",
    "    def display(self):\n",
    "        temp  = self.head\n",
    "        while temp is not None:\n",
    "            print(temp.data)\n",
    "            temp=temp.link\n",
    "    \n",
    "a = llist()\n",
    "a.add_beg(10)\n",
    "a.add_beg(20)\n",
    "a.add_beg(30)\n",
    "a.add_end(50)\n",
    "a.display()\n",
    "    "
   ]
  },
  {
   "cell_type": "code",
   "execution_count": null,
   "id": "61a9235f-25dc-4494-8631-9eb22934a209",
   "metadata": {},
   "outputs": [],
   "source": [
    "# to add at the end of the linked list we need to traverser the list . lets consider there is function that is created that add some\n",
    "# elements into the list and then you want to add the further elements at the terminal side \n",
    "# then first traverse till the terminal keeping the condition that terminal link is None and once you find it you just add the new node to the link\n",
    "# and also dont forget to update the newnodes link with None"
   ]
  },
  {
   "cell_type": "code",
   "execution_count": null,
   "id": "10e75a1a-6c28-46d0-a41b-45e82b21c851",
   "metadata": {},
   "outputs": [],
   "source": [
    "class Node:\n",
    "    def __init__(self,data):\n",
    "        self.data=data\n",
    "        self.link = None\n",
    "        \n",
    "class linkedlist:\n",
    "    def __init__(self):\n",
    "        self.head=None\n",
    "\n",
    "    def add_beg(self,data):\n",
    "        newnode = Node(data)\n",
    "        newnode.link=self.head\n",
    "        self.head=newnode\n",
    "\n",
    "    def add_end(self,data):\n",
    "        newnode = Node(data)\n",
    "        \n",
    "        if self.head==None:\n",
    "            self.head=newnode\n",
    "        else:\n",
    "            temp=self.head\n",
    "            while(temp.link!=None):\n",
    "                temp=temp.link\n",
    "                if(temp.link==None):\n",
    "                    temp.link=newnode\n",
    "                    newnode.link=None\n",
    "    def del_beg(self):\n",
    "        if not self.head:\n",
    "            print('empty list')\n",
    "        else:\n",
    "            temp=self.head\n",
    "            self.head = temp.link\n",
    "            \n",
    "    def del_end(self):\n",
    "        if not self.head:\n",
    "            print('empty list')\n",
    "        else:\n",
    "            temp=self.head\n",
    "            while(temp.link!=None):\n",
    "                prev=temp\n",
    "                temp=temp.link\n",
    "                if(temp.link==None):\n",
    "                    prev.link=None\n",
    "            \n",
    "                    \n",
    "    def display(self):\n",
    "        temp  = self.head\n",
    "        while temp is not None:\n",
    "            print(temp.data)\n",
    "            temp=temp.link\n",
    "   \n",
    "s = linkedlist()\n",
    "\n",
    "\n",
    "while(1):\n",
    "    print('1.add_beg 2.add_end 3.display 4.delete-beg 5.delete-end 6.exit ')\n",
    "    choice = int(input(\"enter your choice\"))\n",
    "    if(choice==1):\n",
    "        data=int(input('enter the data'))\n",
    "        s.add_beg(data)\n",
    "    if choice==2:\n",
    "        data=int(input('enter the data'))\n",
    "        s.add_end(data)\n",
    "    if choice==3:\n",
    "        s.display()\n",
    "    if choice ==4:\n",
    "        s.del_beg()\n",
    "\n",
    "    if choice==5:\n",
    "        s.del_end()\n",
    "    if choice==6:\n",
    "        break\n",
    "    "
   ]
  },
  {
   "cell_type": "code",
   "execution_count": null,
   "id": "96a05609-647f-4d86-a15b-905580c8dbe7",
   "metadata": {},
   "outputs": [],
   "source": [
    "# we also have other linked lists types doubly linked and circualr singly linked lists and doubly circular linked list others\n",
    "# we proceed to non llinear data structure"
   ]
  },
  {
   "cell_type": "code",
   "execution_count": null,
   "id": "295573f9-09b0-4964-bdf1-b7589ed62578",
   "metadata": {},
   "outputs": [],
   "source": [
    "# trees are the linear datastructure a                                                               "
   ]
  },
  {
   "cell_type": "code",
   "execution_count": null,
   "id": "3646b6c8-f99d-43ce-8755-8ab646bcaee7",
   "metadata": {},
   "outputs": [],
   "source": [
    "class Node :\n",
    "    def __init__(self,data):\n",
    "        self.left=None\n",
    "        self.right = None\n",
    "        self.data = data\n",
    "    def insert(self,data):\n",
    "        if self.data:\n",
    "            if data<self.data:\n",
    "                if self.left is None:\n",
    "                    self.left=Node(data)\n",
    "                else:\n",
    "                    self.left.insert(data)\n",
    "            elif data>self.data:\n",
    "                if self.right is None:\n",
    "                    self.right=Node(data)\n",
    "                else:\n",
    "                    self.right.insert(data)\n",
    "            else:\n",
    "                self.data=data\n",
    "    def preorder(self,root):\n",
    "        res = []\n",
    "        if root:\n",
    "            res.append(root.data)\n",
    "            res=res+self.preorder(root.left)\n",
    "            res=res+self.preorder(root.right)\n",
    "        return res\n",
    "    def inorder(self,root):\n",
    "        res = []\n",
    "        if root:\n",
    "            \n",
    "            res=res+self.inorder(root.left)\n",
    "            res.append(root.data)\n",
    "            res=res+self.inorder(root.right)\n",
    "        return res\n",
    "        \n",
    "root = Node(50)\n",
    "root.insert(14)\n",
    "root.insert(10)\n",
    "root.insert(23)\n",
    "root.insert(14)\n",
    "root.insert(43)\n",
    "print(root.preorder(root))\n",
    "prunt(root."
   ]
  },
  {
   "cell_type": "code",
   "execution_count": null,
   "id": "e48c144f-8406-4f73-bf96-6a51a7269607",
   "metadata": {},
   "outputs": [],
   "source": []
  }
 ],
 "metadata": {
  "kernelspec": {
   "display_name": "Python 3 (ipykernel)",
   "language": "python",
   "name": "python3"
  },
  "language_info": {
   "codemirror_mode": {
    "name": "ipython",
    "version": 3
   },
   "file_extension": ".py",
   "mimetype": "text/x-python",
   "name": "python",
   "nbconvert_exporter": "python",
   "pygments_lexer": "ipython3",
   "version": "3.11.9"
  }
 },
 "nbformat": 4,
 "nbformat_minor": 5
}

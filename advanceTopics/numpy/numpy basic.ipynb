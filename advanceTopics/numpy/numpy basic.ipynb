{
 "cells": [
  {
   "cell_type": "markdown",
   "id": "16feb4b2-a703-4747-ad14-08efaa4e3ee2",
   "metadata": {},
   "source": [
    "numpy is extremely used in the scientic computing and is also faster and convinient to use rather than lists \n",
    "\n",
    "3 main benefits are :\n",
    "* less memory\n",
    "* faster\n",
    "* convinient\n",
    "we can use numpy to create array of various sizes and perform some faster operations on the arrays\n",
    "\n",
    "we will directly examine these three properties practically through codes \n"
   ]
  },
  {
   "cell_type": "code",
   "execution_count": 2,
   "id": "e71d13c2-8cc3-4532-99b8-948dae62b647",
   "metadata": {},
   "outputs": [
    {
     "name": "stdout",
     "output_type": "stream",
     "text": [
      "memory of lists: 280000\n",
      "memory numpy array: 40000\n"
     ]
    }
   ],
   "source": [
    "import numpy as np\n",
    "import time \n",
    "import sys\n",
    "\n",
    "#lets have a list \n",
    "\n",
    "l = range(10000)\n",
    "print('memory of lists:',sys.getsizeof(l[9])*len(l)) # gets the size of some random element of the list * len of list\n",
    "\n",
    "a = np.arange(10000)\n",
    "print('memory numpy array:',a.size*a.itemsize)\n",
    "\n",
    "\n",
    "# u can see that memory occupied is also less compared to the list almost 7 times lesser memory\n",
    "# consumed by the numpy arrrays \n",
    "      "
   ]
  },
  {
   "cell_type": "markdown",
   "id": "2545a283-5070-4286-b91d-fffcee611911",
   "metadata": {},
   "source": [
    "* numpy : conitnuous memory allocation \n",
    "* list : pointer to each element but random memory locations \n"
   ]
  },
  {
   "cell_type": "code",
   "execution_count": 3,
   "id": "dcd60f94-793b-4453-8d29-c8eea1a5c2e5",
   "metadata": {},
   "outputs": [
    {
     "name": "stdout",
     "output_type": "stream",
     "text": [
      "python list  took 2.3566348552703857\n",
      "numpy took 0.2593057155609131\n"
     ]
    }
   ],
   "source": [
    "#let compare their time by doing some operation on both list and numpy arrays \n",
    "\n",
    "import numpy as np\n",
    "import time \n",
    "import sys\n",
    "\n",
    "size = 10000000\n",
    "\n",
    "list_1 = range(size)\n",
    "list_2 = range(size)\n",
    "\n",
    "a1 = np.arange(size)\n",
    "a2 = np.arange(size)\n",
    "\n",
    "start = time.time()\n",
    "result = [(x+y) for x,y in zip(list_1,list_2)]\n",
    "print(\"python list  took\",time.time()-start)\n",
    "\n",
    "start = time.time()\n",
    "result = a1+a2\n",
    "print('numpy took',time.time()-start)\n"
   ]
  },
  {
   "cell_type": "code",
   "execution_count": 4,
   "id": "76b66619-294c-4fb4-a9e6-bfe4f52a1a23",
   "metadata": {},
   "outputs": [
    {
     "name": "stdout",
     "output_type": "stream",
     "text": [
      "[ 4 10 18]\n",
      "[5 7 9]\n",
      "[0.25 0.4  0.5 ]\n",
      "[-3 -3 -3]\n"
     ]
    }
   ],
   "source": [
    "a1 = np.array([1,2,3])\n",
    "a2 = np.array([4,5,6])\n",
    "\n",
    "# basic arithmatic automation\n",
    "\n",
    "print(a1*a2)\n",
    "print(a1+a2)\n",
    "print(a1/a2)\n",
    "print(a1-a2)"
   ]
  },
  {
   "cell_type": "code",
   "execution_count": null,
   "id": "c1e93628-6589-4bde-a800-3b9bc2284dae",
   "metadata": {},
   "outputs": [],
   "source": [
    "\n",
    "\n",
    "\n"
   ]
  },
  {
   "cell_type": "code",
   "execution_count": 5,
   "id": "35f2d17d-89ad-46aa-87a4-48beccaca625",
   "metadata": {},
   "outputs": [],
   "source": [
    "import numpy as np\n",
    "a = np.array([1,2,3])\n",
    "\n"
   ]
  },
  {
   "cell_type": "code",
   "execution_count": 6,
   "id": "dfe44d70-d2c7-45f9-a037-63bd7cea4c40",
   "metadata": {},
   "outputs": [
    {
     "data": {
      "text/plain": [
       "3"
      ]
     },
     "execution_count": 6,
     "metadata": {},
     "output_type": "execute_result"
    }
   ],
   "source": [
    "a[2]"
   ]
  },
  {
   "cell_type": "code",
   "execution_count": 7,
   "id": "d0e9cd01-0895-4dae-9ece-a3c70edee87a",
   "metadata": {},
   "outputs": [],
   "source": [
    "a1 = np.array([[1,2,3,4,5],[4,5,6,4,5]])"
   ]
  },
  {
   "cell_type": "code",
   "execution_count": 8,
   "id": "e6683aee-b778-4983-b976-1bd07d339cf2",
   "metadata": {},
   "outputs": [
    {
     "data": {
      "text/plain": [
       "2"
      ]
     },
     "execution_count": 8,
     "metadata": {},
     "output_type": "execute_result"
    }
   ],
   "source": [
    "a1.ndim"
   ]
  },
  {
   "cell_type": "code",
   "execution_count": 9,
   "id": "94b551a5-411c-453f-9eee-bb27c698a3f8",
   "metadata": {},
   "outputs": [
    {
     "data": {
      "text/plain": [
       "(2, 5)"
      ]
     },
     "execution_count": 9,
     "metadata": {},
     "output_type": "execute_result"
    }
   ],
   "source": [
    "a1.shape"
   ]
  },
  {
   "cell_type": "code",
   "execution_count": 10,
   "id": "6f67c067-558e-4af1-b5e5-fa173076a024",
   "metadata": {},
   "outputs": [
    {
     "data": {
      "text/plain": [
       "2"
      ]
     },
     "execution_count": 10,
     "metadata": {},
     "output_type": "execute_result"
    }
   ],
   "source": [
    "a2 = np.array([[1,2],[3,4]])\n",
    "a2.ndim"
   ]
  },
  {
   "cell_type": "code",
   "execution_count": 12,
   "id": "a4234f54-2ca0-4a77-91e5-784ac7ff55a4",
   "metadata": {},
   "outputs": [
    {
     "data": {
      "text/plain": [
       "4"
      ]
     },
     "execution_count": 12,
     "metadata": {},
     "output_type": "execute_result"
    }
   ],
   "source": [
    "a2.itemsize"
   ]
  },
  {
   "cell_type": "code",
   "execution_count": 13,
   "id": "bff5e8ae-4826-4b0d-be77-948390e85bd2",
   "metadata": {},
   "outputs": [
    {
     "data": {
      "text/plain": [
       "dtype('int32')"
      ]
     },
     "execution_count": 13,
     "metadata": {},
     "output_type": "execute_result"
    }
   ],
   "source": [
    "a.dtype\n"
   ]
  },
  {
   "cell_type": "code",
   "execution_count": 14,
   "id": "4eb70d49-63dc-4cd8-b57d-e4ecdf3df5ce",
   "metadata": {},
   "outputs": [],
   "source": [
    "a = np.array([[1,2],[3,4]],dtype = np.float64)"
   ]
  },
  {
   "cell_type": "code",
   "execution_count": 15,
   "id": "1971f244-1734-4655-9f3d-163e29d00c6f",
   "metadata": {},
   "outputs": [
    {
     "data": {
      "text/plain": [
       "dtype('float64')"
      ]
     },
     "execution_count": 15,
     "metadata": {},
     "output_type": "execute_result"
    }
   ],
   "source": [
    "a.dtype"
   ]
  },
  {
   "cell_type": "code",
   "execution_count": 16,
   "id": "e326219f-ce0d-4dbb-918f-c1f5d6c9b33f",
   "metadata": {},
   "outputs": [
    {
     "data": {
      "text/plain": [
       "8"
      ]
     },
     "execution_count": 16,
     "metadata": {},
     "output_type": "execute_result"
    }
   ],
   "source": [
    "a.itemsize"
   ]
  },
  {
   "cell_type": "code",
   "execution_count": 17,
   "id": "ea43dd4e-588b-4d01-a9a1-29ee2ed84572",
   "metadata": {},
   "outputs": [
    {
     "data": {
      "text/plain": [
       "4"
      ]
     },
     "execution_count": 17,
     "metadata": {},
     "output_type": "execute_result"
    }
   ],
   "source": [
    "a.size"
   ]
  },
  {
   "cell_type": "code",
   "execution_count": 18,
   "id": "4b89a998-8798-497e-892b-6113f5e30631",
   "metadata": {},
   "outputs": [
    {
     "data": {
      "text/plain": [
       "4"
      ]
     },
     "execution_count": 18,
     "metadata": {},
     "output_type": "execute_result"
    }
   ],
   "source": [
    "a2.size"
   ]
  },
  {
   "cell_type": "code",
   "execution_count": 19,
   "id": "e450b165-35c5-4b25-8894-c50159afdf12",
   "metadata": {},
   "outputs": [
    {
     "data": {
      "text/plain": [
       "array([[1, 2],\n",
       "       [3, 4]])"
      ]
     },
     "execution_count": 19,
     "metadata": {},
     "output_type": "execute_result"
    }
   ],
   "source": [
    "a2"
   ]
  },
  {
   "cell_type": "code",
   "execution_count": 20,
   "id": "5d9baa99-29a8-4190-a0b4-a2992ab6b4a6",
   "metadata": {},
   "outputs": [
    {
     "data": {
      "text/plain": [
       "array([[1., 2.],\n",
       "       [3., 4.]])"
      ]
     },
     "execution_count": 20,
     "metadata": {},
     "output_type": "execute_result"
    }
   ],
   "source": [
    "a"
   ]
  },
  {
   "cell_type": "code",
   "execution_count": 21,
   "id": "a8e8c005-ef53-4578-a0ae-d6fdd3c12efa",
   "metadata": {},
   "outputs": [
    {
     "data": {
      "text/plain": [
       "(2, 2)"
      ]
     },
     "execution_count": 21,
     "metadata": {},
     "output_type": "execute_result"
    }
   ],
   "source": [
    "a.shape"
   ]
  },
  {
   "cell_type": "code",
   "execution_count": 24,
   "id": "f8842f17-426b-455c-8d51-f12766b57cbb",
   "metadata": {},
   "outputs": [
    {
     "data": {
      "text/plain": [
       "array([[1.+0.j, 2.+0.j],\n",
       "       [3.+0.j, 4.+0.j]])"
      ]
     },
     "execution_count": 24,
     "metadata": {},
     "output_type": "execute_result"
    }
   ],
   "source": [
    "a = np.array([[1,2],[3,4]],dtype = complex)\n",
    "a"
   ]
  },
  {
   "cell_type": "code",
   "execution_count": 26,
   "id": "b3121a70-816d-4dfe-851b-632ff64b6cae",
   "metadata": {},
   "outputs": [
    {
     "data": {
      "text/plain": [
       "array([[0., 0., 0., 0., 0.],\n",
       "       [0., 0., 0., 0., 0.],\n",
       "       [0., 0., 0., 0., 0.]])"
      ]
     },
     "execution_count": 26,
     "metadata": {},
     "output_type": "execute_result"
    }
   ],
   "source": [
    "np.zeros((3,5))"
   ]
  },
  {
   "cell_type": "code",
   "execution_count": 27,
   "id": "35427be9-0b29-46c2-a3d7-4299a76e68db",
   "metadata": {},
   "outputs": [
    {
     "data": {
      "text/plain": [
       "array([[1., 1., 1., 1., 1.],\n",
       "       [1., 1., 1., 1., 1.],\n",
       "       [1., 1., 1., 1., 1.],\n",
       "       [1., 1., 1., 1., 1.]])"
      ]
     },
     "execution_count": 27,
     "metadata": {},
     "output_type": "execute_result"
    }
   ],
   "source": [
    "np.ones((4,5))"
   ]
  },
  {
   "cell_type": "code",
   "execution_count": 28,
   "id": "79d6e455-83ca-4cdd-91f1-9ac73493c0dc",
   "metadata": {},
   "outputs": [],
   "source": [
    "l = range(0,5)"
   ]
  },
  {
   "cell_type": "code",
   "execution_count": 31,
   "id": "8ccea225-d390-4294-86cb-db563b9c6995",
   "metadata": {},
   "outputs": [
    {
     "data": {
      "text/plain": [
       "2"
      ]
     },
     "execution_count": 31,
     "metadata": {},
     "output_type": "execute_result"
    }
   ],
   "source": [
    "l[2]"
   ]
  },
  {
   "cell_type": "code",
   "execution_count": 32,
   "id": "4d84b4fb-60d3-4fbc-9e14-54994eece20b",
   "metadata": {},
   "outputs": [
    {
     "data": {
      "text/plain": [
       "array([1, 2, 3, 4])"
      ]
     },
     "execution_count": 32,
     "metadata": {},
     "output_type": "execute_result"
    }
   ],
   "source": [
    "np.arange(1,5)"
   ]
  },
  {
   "cell_type": "code",
   "execution_count": 34,
   "id": "e703039e-4f6c-4f72-8fcf-5fe4b16af22e",
   "metadata": {},
   "outputs": [
    {
     "data": {
      "text/plain": [
       "array([1, 3, 5, 7, 9])"
      ]
     },
     "execution_count": 34,
     "metadata": {},
     "output_type": "execute_result"
    }
   ],
   "source": [
    "np.arange(1, 10,2)"
   ]
  },
  {
   "cell_type": "code",
   "execution_count": 45,
   "id": "1d7f1144-1171-4e63-a115-f2b82d6ca529",
   "metadata": {},
   "outputs": [
    {
     "data": {
      "text/plain": [
       "array([ 1.,  4.,  7., 10.])"
      ]
     },
     "execution_count": 45,
     "metadata": {},
     "output_type": "execute_result"
    }
   ],
   "source": [
    "np.linspace(1 , 10 ,4)"
   ]
  },
  {
   "cell_type": "code",
   "execution_count": 46,
   "id": "b38c2ada-4586-4716-88b1-9fead8750680",
   "metadata": {},
   "outputs": [
    {
     "data": {
      "text/plain": [
       "array([[1.+0.j, 2.+0.j],\n",
       "       [3.+0.j, 4.+0.j]])"
      ]
     },
     "execution_count": 46,
     "metadata": {},
     "output_type": "execute_result"
    }
   ],
   "source": [
    "a"
   ]
  },
  {
   "cell_type": "code",
   "execution_count": 47,
   "id": "0e2b9baf-a042-4c8d-8cfe-bce8c1681024",
   "metadata": {},
   "outputs": [
    {
     "data": {
      "text/plain": [
       "array([[1.+0.j],\n",
       "       [2.+0.j],\n",
       "       [3.+0.j],\n",
       "       [4.+0.j]])"
      ]
     },
     "execution_count": 47,
     "metadata": {},
     "output_type": "execute_result"
    }
   ],
   "source": [
    "a.reshape(4,1)   # do not alter the original array"
   ]
  },
  {
   "cell_type": "code",
   "execution_count": 49,
   "id": "05a3862a-b772-4821-86b0-6ba45821a929",
   "metadata": {},
   "outputs": [
    {
     "data": {
      "text/plain": [
       "array([1.+0.j, 2.+0.j, 3.+0.j, 4.+0.j])"
      ]
     },
     "execution_count": 49,
     "metadata": {},
     "output_type": "execute_result"
    }
   ],
   "source": [
    "a.ravel()  # do not alter the original array"
   ]
  },
  {
   "cell_type": "code",
   "execution_count": 50,
   "id": "bb8e33fe-8717-4d8a-bfcb-8e53f989ff4a",
   "metadata": {},
   "outputs": [
    {
     "data": {
      "text/plain": [
       "array([[1.+0.j, 2.+0.j],\n",
       "       [3.+0.j, 4.+0.j]])"
      ]
     },
     "execution_count": 50,
     "metadata": {},
     "output_type": "execute_result"
    }
   ],
   "source": [
    "a"
   ]
  },
  {
   "cell_type": "code",
   "execution_count": 51,
   "id": "a243f34c-ef4f-42a6-ad98-bc3fee1b048e",
   "metadata": {},
   "outputs": [
    {
     "data": {
      "text/plain": [
       "(1+0j)"
      ]
     },
     "execution_count": 51,
     "metadata": {},
     "output_type": "execute_result"
    }
   ],
   "source": [
    "a.min()"
   ]
  },
  {
   "cell_type": "code",
   "execution_count": 52,
   "id": "84861616-8195-439f-b000-f756013d49be",
   "metadata": {},
   "outputs": [
    {
     "data": {
      "text/plain": [
       "(4+0j)"
      ]
     },
     "execution_count": 52,
     "metadata": {},
     "output_type": "execute_result"
    }
   ],
   "source": [
    "a.max()"
   ]
  },
  {
   "cell_type": "code",
   "execution_count": 53,
   "id": "13fe0047-0934-4e96-9e8e-caf3b04d8e9b",
   "metadata": {},
   "outputs": [
    {
     "data": {
      "text/plain": [
       "(10+0j)"
      ]
     },
     "execution_count": 53,
     "metadata": {},
     "output_type": "execute_result"
    }
   ],
   "source": [
    "a.sum()"
   ]
  },
  {
   "cell_type": "code",
   "execution_count": null,
   "id": "e4b4e596-6679-4976-87eb-b05848d4ebce",
   "metadata": {},
   "outputs": [],
   "source": [
    "axis 0 is columns (sum of columns)\n",
    "axis 1 is rows (sum of rows )\n",
    "\n"
   ]
  },
  {
   "cell_type": "code",
   "execution_count": 54,
   "id": "33544676-46e2-4ac8-bded-b4a621d266a3",
   "metadata": {},
   "outputs": [
    {
     "data": {
      "text/plain": [
       "array([4.+0.j, 6.+0.j])"
      ]
     },
     "execution_count": 54,
     "metadata": {},
     "output_type": "execute_result"
    }
   ],
   "source": [
    "a.sum(axis=0)"
   ]
  },
  {
   "cell_type": "code",
   "execution_count": 55,
   "id": "d3a223c6-1a28-4d7c-95b0-88591c4b0b1d",
   "metadata": {},
   "outputs": [
    {
     "data": {
      "text/plain": [
       "array([3.+0.j, 7.+0.j])"
      ]
     },
     "execution_count": 55,
     "metadata": {},
     "output_type": "execute_result"
    }
   ],
   "source": [
    "a.sum(axis=1)"
   ]
  },
  {
   "cell_type": "code",
   "execution_count": 56,
   "id": "77e7586f-b2da-44e4-98c4-893f8d46ba55",
   "metadata": {},
   "outputs": [
    {
     "data": {
      "text/plain": [
       "array([[1.+0.j, 2.+0.j],\n",
       "       [3.+0.j, 4.+0.j]])"
      ]
     },
     "execution_count": 56,
     "metadata": {},
     "output_type": "execute_result"
    }
   ],
   "source": [
    " a"
   ]
  },
  {
   "cell_type": "code",
   "execution_count": 57,
   "id": "6dcc822b-8d7c-43cf-af7a-3d9e3098ac29",
   "metadata": {},
   "outputs": [
    {
     "data": {
      "text/plain": [
       "array([[1, 2],\n",
       "       [3, 4]])"
      ]
     },
     "execution_count": 57,
     "metadata": {},
     "output_type": "execute_result"
    }
   ],
   "source": [
    "a2"
   ]
  },
  {
   "cell_type": "code",
   "execution_count": 58,
   "id": "0ddff670-6302-48de-b11e-6056c31c57c6",
   "metadata": {},
   "outputs": [
    {
     "data": {
      "text/plain": [
       "array([[1.        , 1.41421356],\n",
       "       [1.73205081, 2.        ]])"
      ]
     },
     "execution_count": 58,
     "metadata": {},
     "output_type": "execute_result"
    }
   ],
   "source": [
    "np.sqrt(a2)"
   ]
  },
  {
   "cell_type": "code",
   "execution_count": 59,
   "id": "9379756c-9451-4eb7-b5c2-ce62a70ed7e9",
   "metadata": {},
   "outputs": [
    {
     "data": {
      "text/plain": [
       "1.118033988749895"
      ]
     },
     "execution_count": 59,
     "metadata": {},
     "output_type": "execute_result"
    }
   ],
   "source": [
    "np.std(a2)"
   ]
  },
  {
   "cell_type": "code",
   "execution_count": 60,
   "id": "9f1e82ed-6a53-4b57-aa50-a031f72a4adc",
   "metadata": {},
   "outputs": [],
   "source": [
    "a = np.array([[1,2],[3,4]])\n",
    "b = np.array([[5,6],[7,8]])\n"
   ]
  },
  {
   "cell_type": "code",
   "execution_count": 61,
   "id": "c86c59f9-c256-49e0-aead-993da291120d",
   "metadata": {},
   "outputs": [
    {
     "data": {
      "text/plain": [
       "array([[1, 2],\n",
       "       [3, 4]])"
      ]
     },
     "execution_count": 61,
     "metadata": {},
     "output_type": "execute_result"
    }
   ],
   "source": [
    "a"
   ]
  },
  {
   "cell_type": "code",
   "execution_count": 62,
   "id": "a781676e-b241-41b9-ba85-56e7e87d0d55",
   "metadata": {},
   "outputs": [
    {
     "data": {
      "text/plain": [
       "array([[5, 6],\n",
       "       [7, 8]])"
      ]
     },
     "execution_count": 62,
     "metadata": {},
     "output_type": "execute_result"
    }
   ],
   "source": [
    "b"
   ]
  },
  {
   "cell_type": "code",
   "execution_count": 63,
   "id": "6f81c02b-f8e0-4a07-91aa-9dbbeea62fa2",
   "metadata": {},
   "outputs": [
    {
     "data": {
      "text/plain": [
       "array([[ 6,  8],\n",
       "       [10, 12]])"
      ]
     },
     "execution_count": 63,
     "metadata": {},
     "output_type": "execute_result"
    }
   ],
   "source": [
    "a+b"
   ]
  },
  {
   "cell_type": "code",
   "execution_count": 64,
   "id": "c8fcac70-80d5-4ba7-a846-9b743ff2b1bc",
   "metadata": {},
   "outputs": [
    {
     "data": {
      "text/plain": [
       "array([[19, 22],\n",
       "       [43, 50]])"
      ]
     },
     "execution_count": 64,
     "metadata": {},
     "output_type": "execute_result"
    }
   ],
   "source": [
    "a.dot(b)  # matrix product "
   ]
  },
  {
   "cell_type": "code",
   "execution_count": 65,
   "id": "5d2e35fa-c18d-47dd-b2ff-bfa5c40e8650",
   "metadata": {},
   "outputs": [
    {
     "data": {
      "text/plain": [
       "array([[1, 2],\n",
       "       [3, 4]])"
      ]
     },
     "execution_count": 65,
     "metadata": {},
     "output_type": "execute_result"
    }
   ],
   "source": [
    "\n",
    "a\n"
   ]
  },
  {
   "cell_type": "code",
   "execution_count": 67,
   "id": "42cb756c-0e81-45c4-bc26-1267c7263324",
   "metadata": {},
   "outputs": [
    {
     "data": {
      "text/plain": [
       "array([[ 0,  1,  2,  3,  4,  5,  6,  7,  8,  9, 10, 11, 12, 13, 14],\n",
       "       [15, 16, 17, 18, 19, 20, 21, 22, 23, 24, 25, 26, 27, 28, 29]])"
      ]
     },
     "execution_count": 67,
     "metadata": {},
     "output_type": "execute_result"
    }
   ],
   "source": [
    "b = np.arange(30).reshape(2,15)\n",
    "b"
   ]
  },
  {
   "cell_type": "code",
   "execution_count": 69,
   "id": "ab494a02-2e6c-4eba-8b8b-fb6d630992e3",
   "metadata": {},
   "outputs": [
    {
     "data": {
      "text/plain": [
       "[array([[ 0,  1,  2,  3,  4],\n",
       "        [15, 16, 17, 18, 19]]),\n",
       " array([[ 5,  6,  7,  8,  9],\n",
       "        [20, 21, 22, 23, 24]]),\n",
       " array([[10, 11, 12, 13, 14],\n",
       "        [25, 26, 27, 28, 29]])]"
      ]
     },
     "execution_count": 69,
     "metadata": {},
     "output_type": "execute_result"
    }
   ],
   "source": [
    "np.hsplit(b,3)"
   ]
  },
  {
   "cell_type": "code",
   "execution_count": 76,
   "id": "49ece3e5-b2ae-41ec-beda-e2c272b16353",
   "metadata": {},
   "outputs": [
    {
     "data": {
      "text/plain": [
       "array([[ 0,  1,  2,  3,  4,  5],\n",
       "       [ 6,  7,  8,  9, 10, 11],\n",
       "       [12, 13, 14, 15, 16, 17],\n",
       "       [18, 19, 20, 21, 22, 23],\n",
       "       [24, 25, 26, 27, 28, 29]])"
      ]
     },
     "execution_count": 76,
     "metadata": {},
     "output_type": "execute_result"
    }
   ],
   "source": [
    "b = b.reshape(5,6)\n",
    "b\n"
   ]
  },
  {
   "cell_type": "code",
   "execution_count": 77,
   "id": "18b5a387-be67-407d-94b4-650031a5a670",
   "metadata": {},
   "outputs": [
    {
     "data": {
      "text/plain": [
       "[array([[ 0,  1,  2],\n",
       "        [ 6,  7,  8],\n",
       "        [12, 13, 14],\n",
       "        [18, 19, 20],\n",
       "        [24, 25, 26]]),\n",
       " array([[ 3,  4,  5],\n",
       "        [ 9, 10, 11],\n",
       "        [15, 16, 17],\n",
       "        [21, 22, 23],\n",
       "        [27, 28, 29]])]"
      ]
     },
     "execution_count": 77,
     "metadata": {},
     "output_type": "execute_result"
    }
   ],
   "source": [
    "np.hsplit(b,2)"
   ]
  },
  {
   "cell_type": "code",
   "execution_count": 81,
   "id": "012a4213-9cef-4b79-8340-5844a9a7dc2c",
   "metadata": {},
   "outputs": [
    {
     "data": {
      "text/plain": [
       "[array([[0, 1, 2, 3, 4, 5]]),\n",
       " array([[ 6,  7,  8,  9, 10, 11]]),\n",
       " array([[12, 13, 14, 15, 16, 17]]),\n",
       " array([[18, 19, 20, 21, 22, 23]]),\n",
       " array([[24, 25, 26, 27, 28, 29]])]"
      ]
     },
     "execution_count": 81,
     "metadata": {},
     "output_type": "execute_result"
    }
   ],
   "source": [
    "np.vsplit(b,5)"
   ]
  },
  {
   "cell_type": "code",
   "execution_count": 82,
   "id": "fbdd4260-fabe-4113-a4ba-abf60ee54c13",
   "metadata": {},
   "outputs": [
    {
     "data": {
      "text/plain": [
       "array([[1, 2],\n",
       "       [3, 4]])"
      ]
     },
     "execution_count": 82,
     "metadata": {},
     "output_type": "execute_result"
    }
   ],
   "source": [
    "a"
   ]
  },
  {
   "cell_type": "code",
   "execution_count": 90,
   "id": "44f507c7-4b08-4754-a0a7-0527b40bdb6f",
   "metadata": {},
   "outputs": [
    {
     "data": {
      "text/plain": [
       "array([[0, 1],\n",
       "       [2, 3],\n",
       "       [4, 5],\n",
       "       [6, 7],\n",
       "       [8, 9]])"
      ]
     },
     "execution_count": 90,
     "metadata": {},
     "output_type": "execute_result"
    }
   ],
   "source": [
    "\n",
    "c = np.arange(10).reshape(5,2)\n",
    "c"
   ]
  },
  {
   "cell_type": "code",
   "execution_count": 94,
   "id": "531e9dcd-c91f-49d0-b2e5-6d2b5cde3855",
   "metadata": {},
   "outputs": [
    {
     "data": {
      "text/plain": [
       "array([[1, 2],\n",
       "       [3, 4],\n",
       "       [0, 1],\n",
       "       [2, 3],\n",
       "       [4, 5],\n",
       "       [6, 7],\n",
       "       [8, 9]])"
      ]
     },
     "execution_count": 94,
     "metadata": {},
     "output_type": "execute_result"
    }
   ],
   "source": [
    "np.vstack((a,c))"
   ]
  },
  {
   "cell_type": "code",
   "execution_count": 96,
   "id": "c5f930b7-8374-4ca7-90f8-9fe1cd06fe7c",
   "metadata": {},
   "outputs": [
    {
     "data": {
      "text/plain": [
       "array([[1, 2, 1, 2],\n",
       "       [3, 4, 3, 4]])"
      ]
     },
     "execution_count": 96,
     "metadata": {},
     "output_type": "execute_result"
    }
   ],
   "source": [
    "np.hstack((a,a))"
   ]
  },
  {
   "cell_type": "code",
   "execution_count": null,
   "id": "4d64a119-9a73-474c-b248-84e83f4028a6",
   "metadata": {},
   "outputs": [],
   "source": []
  }
 ],
 "metadata": {
  "kernelspec": {
   "display_name": "Python 3 (ipykernel)",
   "language": "python",
   "name": "python3"
  },
  "language_info": {
   "codemirror_mode": {
    "name": "ipython",
    "version": 3
   },
   "file_extension": ".py",
   "mimetype": "text/x-python",
   "name": "python",
   "nbconvert_exporter": "python",
   "pygments_lexer": "ipython3",
   "version": "3.12.4"
  }
 },
 "nbformat": 4,
 "nbformat_minor": 5
}
